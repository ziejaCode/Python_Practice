{
 "metadata": {
  "language_info": {
   "codemirror_mode": {
    "name": "ipython",
    "version": 3
   },
   "file_extension": ".py",
   "mimetype": "text/x-python",
   "name": "python",
   "nbconvert_exporter": "python",
   "pygments_lexer": "ipython3",
   "version": "3.8.5-final"
  },
  "orig_nbformat": 2,
  "kernelspec": {
   "name": "python36964bit0bc70279e1ae40098a673b37a979fad8",
   "display_name": "Python 3.6.9 64-bit"
  }
 },
 "nbformat": 4,
 "nbformat_minor": 2,
 "cells": [
  {
   "cell_type": "code",
   "execution_count": 1,
   "metadata": {},
   "outputs": [],
   "source": [
    "class BankAccou:\n",
    "    apr = 98345845835384859485\n",
    "\n"
   ]
  },
  {
   "cell_type": "code",
   "execution_count": 2,
   "metadata": {},
   "outputs": [
    {
     "output_type": "execute_result",
     "data": {
      "text/plain": [
       "mappingproxy({'__module__': '__main__',\n",
       "              'apr': 98345845835384859485,\n",
       "              '__dict__': <attribute '__dict__' of 'BankAccou' objects>,\n",
       "              '__weakref__': <attribute '__weakref__' of 'BankAccou' objects>,\n",
       "              '__doc__': None})"
      ]
     },
     "metadata": {},
     "execution_count": 2
    }
   ],
   "source": [
    "BankAccou.__dict__"
   ]
  },
  {
   "cell_type": "code",
   "execution_count": 3,
   "metadata": {},
   "outputs": [
    {
     "output_type": "execute_result",
     "data": {
      "text/plain": "True"
     },
     "metadata": {},
     "execution_count": 3
    }
   ],
   "source": [
    "a1 = BankAccou\n",
    "a2 = BankAccou\n",
    "a1 is  a2"
   ]
  },
  {
   "cell_type": "code",
   "execution_count": 19,
   "metadata": {},
   "outputs": [
    {
     "output_type": "execute_result",
     "data": {
      "text/plain": "False"
     },
     "metadata": {},
     "execution_count": 19
    }
   ],
   "source": [
    "ak1 = BankAccou()\n",
    "ak2 = BankAccou()\n",
    "ak1 is  ak2"
   ]
  },
  {
   "cell_type": "code",
   "execution_count": 5,
   "metadata": {},
   "outputs": [
    {
     "output_type": "execute_result",
     "data": {
      "text/plain": "({}, {})"
     },
     "metadata": {},
     "execution_count": 5
    }
   ],
   "source": [
    "ak1.__dict__ , ak2.__dict__"
   ]
  },
  {
   "cell_type": "code",
   "execution_count": 6,
   "metadata": {},
   "outputs": [
    {
     "output_type": "execute_result",
     "data": {
      "text/plain": "(mappingproxy({&#39;__module__&#39;: &#39;__main__&#39;,\n               &#39;apr&#39;: 1.2,\n               &#39;__dict__&#39;: &lt;attribute &#39;__dict__&#39; of &#39;BankAccou&#39; objects&gt;,\n               &#39;__weakref__&#39;: &lt;attribute &#39;__weakref__&#39; of &#39;BankAccou&#39; objects&gt;,\n               &#39;__doc__&#39;: None}),\n mappingproxy({&#39;__module__&#39;: &#39;__main__&#39;,\n               &#39;apr&#39;: 1.2,\n               &#39;__dict__&#39;: &lt;attribute &#39;__dict__&#39; of &#39;BankAccou&#39; objects&gt;,\n               &#39;__weakref__&#39;: &lt;attribute &#39;__weakref__&#39; of &#39;BankAccou&#39; objects&gt;,\n               &#39;__doc__&#39;: None}))"
     },
     "metadata": {},
     "execution_count": 6
    }
   ],
   "source": [
    "a1.__dict__, a2.__dict__"
   ]
  },
  {
   "cell_type": "code",
   "execution_count": 11,
   "metadata": {},
   "outputs": [],
   "source": [
    "ak1.apr = 23"
   ]
  },
  {
   "cell_type": "code",
   "execution_count": 12,
   "metadata": {},
   "outputs": [
    {
     "output_type": "execute_result",
     "data": {
      "text/plain": "False"
     },
     "metadata": {},
     "execution_count": 12
    }
   ],
   "source": [
    "ak1.apr is ak2.apr"
   ]
  },
  {
   "cell_type": "code",
   "execution_count": 14,
   "metadata": {},
   "outputs": [
    {
     "output_type": "execute_result",
     "data": {
      "text/plain": "(23, 1.2)"
     },
     "metadata": {},
     "execution_count": 14
    }
   ],
   "source": [
    "ak1.apr, ak2.apr"
   ]
  },
  {
   "cell_type": "code",
   "execution_count": 20,
   "metadata": {},
   "outputs": [
    {
     "output_type": "execute_result",
     "data": {
      "text/plain": "(1.2, 1.2)"
     },
     "metadata": {},
     "execution_count": 20
    }
   ],
   "source": [
    "a1.apr, a2.apr"
   ]
  },
  {
   "cell_type": "code",
   "execution_count": 21,
   "metadata": {},
   "outputs": [],
   "source": [
    "ak1.acctype = \"saving\""
   ]
  },
  {
   "cell_type": "code",
   "execution_count": 22,
   "metadata": {},
   "outputs": [
    {
     "output_type": "execute_result",
     "data": {
      "text/plain": "({&#39;acctype&#39;: &#39;saving&#39;}, {})"
     },
     "metadata": {},
     "execution_count": 22
    }
   ],
   "source": [
    "ak1.__dict__, ak2.__dict__"
   ]
  },
  {
   "cell_type": "code",
   "execution_count": 23,
   "metadata": {},
   "outputs": [],
   "source": [
    "ak2.bank = \"KBS\""
   ]
  },
  {
   "cell_type": "code",
   "execution_count": 24,
   "metadata": {},
   "outputs": [
    {
     "output_type": "execute_result",
     "data": {
      "text/plain": "({&#39;acctype&#39;: &#39;saving&#39;}, {&#39;bank&#39;: &#39;KBS&#39;})"
     },
     "metadata": {},
     "execution_count": 24
    }
   ],
   "source": [
    "ak1.__dict__, ak2.__dict__"
   ]
  },
  {
   "cell_type": "code",
   "execution_count": 25,
   "metadata": {},
   "outputs": [
    {
     "output_type": "execute_result",
     "data": {
      "text/plain": "dict"
     },
     "metadata": {},
     "execution_count": 25
    }
   ],
   "source": [
    "type(ak1.__dict__)"
   ]
  },
  {
   "cell_type": "code",
   "execution_count": 27,
   "metadata": {},
   "outputs": [
    {
     "output_type": "execute_result",
     "data": {
      "text/plain": "mappingproxy"
     },
     "metadata": {},
     "execution_count": 27
    }
   ],
   "source": [
    "type(BankAccou.__dict__)"
   ]
  },
  {
   "cell_type": "code",
   "execution_count": 28,
   "metadata": {},
   "outputs": [
    {
     "output_type": "execute_result",
     "data": {
      "text/plain": "mappingproxy({&#39;__module__&#39;: &#39;__main__&#39;,\n              &#39;apr&#39;: 1.2,\n              &#39;__dict__&#39;: &lt;attribute &#39;__dict__&#39; of &#39;BankAccou&#39; objects&gt;,\n              &#39;__weakref__&#39;: &lt;attribute &#39;__weakref__&#39; of &#39;BankAccou&#39; objects&gt;,\n              &#39;__doc__&#39;: None})"
     },
     "metadata": {},
     "execution_count": 28
    }
   ],
   "source": [
    "a1.__dict__\n"
   ]
  },
  {
   "cell_type": "code",
   "execution_count": 29,
   "metadata": {},
   "outputs": [
    {
     "output_type": "execute_result",
     "data": {
      "text/plain": "1.2"
     },
     "metadata": {},
     "execution_count": 29
    }
   ],
   "source": [
    "a1.apr"
   ]
  },
  {
   "cell_type": "code",
   "execution_count": 30,
   "metadata": {},
   "outputs": [],
   "source": [
    "g = BankAccou()"
   ]
  },
  {
   "cell_type": "code",
   "execution_count": 31,
   "metadata": {},
   "outputs": [
    {
     "output_type": "execute_result",
     "data": {
      "text/plain": "&lt;__main__.BankAccou at 0x6702af0&gt;"
     },
     "metadata": {},
     "execution_count": 31
    }
   ],
   "source": [
    "g"
   ]
  },
  {
   "cell_type": "code",
   "execution_count": 32,
   "metadata": {},
   "outputs": [],
   "source": [
    "g.Office = 'Dublin'"
   ]
  },
  {
   "cell_type": "code",
   "execution_count": 33,
   "metadata": {},
   "outputs": [
    {
     "output_type": "execute_result",
     "data": {
      "text/plain": "{&#39;Office&#39;: &#39;Dublin&#39;}"
     },
     "metadata": {},
     "execution_count": 33
    }
   ],
   "source": [
    "g.__dict__"
   ]
  },
  {
   "cell_type": "code",
   "execution_count": 34,
   "metadata": {},
   "outputs": [
    {
     "output_type": "execute_result",
     "data": {
      "text/plain": "&#39;Dublin&#39;"
     },
     "metadata": {},
     "execution_count": 34
    }
   ],
   "source": [
    "g.Office"
   ]
  },
  {
   "cell_type": "code",
   "execution_count": null,
   "metadata": {},
   "outputs": [],
   "source": []
  }
 ]
}