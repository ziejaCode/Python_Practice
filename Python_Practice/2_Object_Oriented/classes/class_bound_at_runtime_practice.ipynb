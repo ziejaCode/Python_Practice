{
 "metadata": {
  "language_info": {
   "codemirror_mode": {
    "name": "ipython",
    "version": 3
   },
   "file_extension": ".py",
   "mimetype": "text/x-python",
   "name": "python",
   "nbconvert_exporter": "python",
   "pygments_lexer": "ipython3",
   "version": "3.8.5-final"
  },
  "orig_nbformat": 2,
  "kernelspec": {
   "name": "python36964bit0bc70279e1ae40098a673b37a979fad8",
   "display_name": "Python 3.6.9 64-bit"
  }
 },
 "nbformat": 4,
 "nbformat_minor": 2,
 "cells": [
  {
   "cell_type": "code",
   "execution_count": 1,
   "metadata": {},
   "outputs": [
    {
     "output_type": "execute_result",
     "data": {
      "text/plain": [
       "'\\nThis module present how to register various functions and bound it to various object so they \\ncan produce different output from calling the same method.\\n'"
      ]
     },
     "metadata": {},
     "execution_count": 1
    }
   ],
   "source": [
    "'''\n",
    "This module present how to register various functions and bound it to various object so they \n",
    "can produce different output from calling the same method.\n",
    "'''"
   ]
  },
  {
   "cell_type": "code",
   "execution_count": 31,
   "metadata": {},
   "outputs": [],
   "source": [
    "class Person:\n",
    "    language = 'Python'\n",
    "    "
   ]
  },
  {
   "cell_type": "code",
   "execution_count": 32,
   "metadata": {},
   "outputs": [],
   "source": [
    "p1 = Person()\n",
    "p2 = Person()"
   ]
  },
  {
   "cell_type": "code",
   "execution_count": 33,
   "metadata": {},
   "outputs": [],
   "source": [
    "p1.name = 'Bolek'"
   ]
  },
  {
   "cell_type": "code",
   "execution_count": 38,
   "metadata": {},
   "outputs": [
    {
     "output_type": "execute_result",
     "data": {
      "text/plain": [
       "({'name': 'Bolek', 'say_hello': <function __main__.<lambda>()>}, {})"
      ]
     },
     "metadata": {},
     "execution_count": 38
    }
   ],
   "source": [
    "p1.__dict__, p2.__dict__"
   ]
  },
  {
   "cell_type": "code",
   "execution_count": 35,
   "metadata": {},
   "outputs": [],
   "source": [
    "p1.say_hello = lambda: f'Hello {Person.language}'"
   ]
  },
  {
   "cell_type": "code",
   "execution_count": 36,
   "metadata": {},
   "outputs": [
    {
     "output_type": "execute_result",
     "data": {
      "text/plain": [
       "'Hello Python'"
      ]
     },
     "metadata": {},
     "execution_count": 36
    }
   ],
   "source": [
    "p1.say_hello()"
   ]
  },
  {
   "cell_type": "code",
   "execution_count": 37,
   "metadata": {},
   "outputs": [
    {
     "output_type": "execute_result",
     "data": {
      "text/plain": [
       "<function __main__.<lambda>()>"
      ]
     },
     "metadata": {},
     "execution_count": 37
    }
   ],
   "source": [
    "p1.say_hello"
   ]
  },
  {
   "cell_type": "code",
   "execution_count": 23,
   "metadata": {},
   "outputs": [],
   "source": [
    "from types import MethodType"
   ]
  },
  {
   "cell_type": "code",
   "execution_count": 65,
   "metadata": {},
   "outputs": [],
   "source": [
    "say_bye = lambda self: f'Good bye {Person.language}'"
   ]
  },
  {
   "cell_type": "code",
   "execution_count": 66,
   "metadata": {},
   "outputs": [
    {
     "output_type": "execute_result",
     "data": {
      "text/plain": [
       "'Good bye Python'"
      ]
     },
     "metadata": {},
     "execution_count": 66
    }
   ],
   "source": [
    "say_bye(p1)"
   ]
  },
  {
   "cell_type": "code",
   "execution_count": 67,
   "metadata": {},
   "outputs": [],
   "source": [
    "p1.say_bye = MethodType(say_bye, p1 )"
   ]
  },
  {
   "cell_type": "code",
   "execution_count": 68,
   "metadata": {},
   "outputs": [
    {
     "output_type": "execute_result",
     "data": {
      "text/plain": [
       "<bound method <lambda> of <__main__.Person object at 0x7f2ed23e9400>>"
      ]
     },
     "metadata": {},
     "execution_count": 68
    }
   ],
   "source": [
    "p1.say_bye\n"
   ]
  },
  {
   "cell_type": "code",
   "execution_count": 69,
   "metadata": {},
   "outputs": [
    {
     "output_type": "execute_result",
     "data": {
      "text/plain": [
       "'Good bye Python'"
      ]
     },
     "metadata": {},
     "execution_count": 69
    }
   ],
   "source": [
    "p1.say_bye()"
   ]
  },
  {
   "cell_type": "code",
   "execution_count": 70,
   "metadata": {},
   "outputs": [],
   "source": [
    "p1.go_back = MethodType(lambda self: f'{self.language} say go back', p1)"
   ]
  },
  {
   "cell_type": "code",
   "execution_count": 72,
   "metadata": {},
   "outputs": [
    {
     "output_type": "execute_result",
     "data": {
      "text/plain": [
       "{'name': 'Bolek',\n",
       " 'say_hello': <function __main__.<lambda>()>,\n",
       " 'say_bye': <bound method <lambda> of <__main__.Person object at 0x7f2ed23e9400>>,\n",
       " 'go_back': <bound method <lambda> of <__main__.Person object at 0x7f2ed23e9400>>}"
      ]
     },
     "metadata": {},
     "execution_count": 72
    }
   ],
   "source": [
    "p1.__dict__"
   ]
  },
  {
   "cell_type": "code",
   "execution_count": 73,
   "metadata": {},
   "outputs": [
    {
     "output_type": "execute_result",
     "data": {
      "text/plain": [
       "<bound method <lambda> of <__main__.Person object at 0x7f2ed23e9400>>"
      ]
     },
     "metadata": {},
     "execution_count": 73
    }
   ],
   "source": [
    " p1.go_back"
   ]
  },
  {
   "cell_type": "code",
   "execution_count": 232,
   "metadata": {},
   "outputs": [],
   "source": [
    " class Person:\n",
    "    def __init__(self, name):\n",
    "        self.name = name\n",
    "\n",
    "    def register_do_work(self, func):\n",
    "        setattr(self, '_do_work', MethodType(func, self))\n",
    "\n",
    "    def do_work(self):\n",
    "        do_work_method = getattr(self, '_do_work', None)\n",
    "\n",
    "        if do_work_method:\n",
    "            return do_work_method()\n",
    "        else:\n",
    "            raise AttributeError('You must first register a do_work method')\n",
    "\n",
    "\n",
    "\n"
   ]
  },
  {
   "cell_type": "code",
   "execution_count": null,
   "metadata": {},
   "outputs": [],
   "source": []
  },
  {
   "cell_type": "code",
   "execution_count": 239,
   "metadata": {},
   "outputs": [],
   "source": [
    "def work_math(self):\n",
    "    return f'{self.name} will teach toaday'"
   ]
  },
  {
   "cell_type": "code",
   "execution_count": 245,
   "metadata": {},
   "outputs": [],
   "source": [
    "history_teach = Person('Fred')\n",
    "history_work = 'rise of nations'\n",
    "ballet_teach = Person('Ken')\n",
    "ballet_work = 'dance dance'\n",
    "russian_teach = Person('Sasha')\n",
    "russioan_work = 'kak tiebia zavud'"
   ]
  },
  {
   "cell_type": "code",
   "execution_count": 246,
   "metadata": {},
   "outputs": [
    {
     "output_type": "execute_result",
     "data": {
      "text/plain": [
       "{'name': 'Fred'}"
      ]
     },
     "metadata": {},
     "execution_count": 246
    }
   ],
   "source": [
    "history_teach.__dict__"
   ]
  },
  {
   "cell_type": "code",
   "execution_count": 247,
   "metadata": {},
   "outputs": [
    {
     "output_type": "execute_result",
     "data": {
      "text/plain": [
       "'Fred'"
      ]
     },
     "metadata": {},
     "execution_count": 247
    }
   ],
   "source": [
    "teachers = [history_teach, ballet_teach, russian_teach]\n",
    "works = [history_work, ballet_work, russioan_work]\n",
    "\n",
    "teachers[0].name"
   ]
  },
  {
   "cell_type": "code",
   "execution_count": 242,
   "metadata": {},
   "outputs": [
    {
     "output_type": "execute_result",
     "data": {
      "text/plain": [
       "139839076089520"
      ]
     },
     "metadata": {},
     "execution_count": 242
    }
   ],
   "source": [
    "\n",
    "teachers[0].register_do_work(work_math)\n",
    "id(teachers[0])"
   ]
  },
  {
   "cell_type": "code",
   "execution_count": 248,
   "metadata": {},
   "outputs": [
    {
     "output_type": "execute_result",
     "data": {
      "text/plain": [
       "{'name': 'Fred'}"
      ]
     },
     "metadata": {},
     "execution_count": 248
    }
   ],
   "source": [
    "teachers[0].__dict__"
   ]
  },
  {
   "cell_type": "code",
   "execution_count": 244,
   "metadata": {},
   "outputs": [
    {
     "output_type": "execute_result",
     "data": {
      "text/plain": [
       "'Fred will teach toaday'"
      ]
     },
     "metadata": {},
     "execution_count": 244
    }
   ],
   "source": [
    "teachers[0].do_work()"
   ]
  },
  {
   "cell_type": "code",
   "execution_count": null,
   "metadata": {},
   "outputs": [],
   "source": []
  }
 ]
}