{
 "cells": [
  {
   "cell_type": "markdown",
   "metadata": {},
   "source": [
    "### Read-Only and Computed Properties"
   ]
  },
  {
   "cell_type": "markdown",
   "metadata": {},
   "source": [
    "Although write-only properties are not that common, read-only properties (i.e. that define a getter but not a setter) are quite common for a number of things."
   ]
  },
  {
   "cell_type": "markdown",
   "metadata": {},
   "source": [
    "Of course, we can create read-only properties, but since nothing is private, at best we are \"suggesting\" to the users of our class they should treat the property as read-only. There's always a way to hack around that of course.\n",
    "\n",
    "But still, it's good to be able to at least explicitly indicate to a user that a property is meant to be read-only."
   ]
  },
  {
   "cell_type": "markdown",
   "metadata": {},
   "source": [
    "The use case I'm going to focus on in this video, is one of computed properties. Those are properties that may not actually have a backing variable, but are instead calculated on the fly."
   ]
  },
  {
   "cell_type": "markdown",
   "metadata": {},
   "source": [
    "Consider this simple example of a `Circle` class where we can read/write the radius of the circle, but want a computed property for the area. We don't need to store the area value, we can alway calculate it given the current radius value."
   ]
  },
  {
   "cell_type": "code",
   "execution_count": 1,
   "metadata": {},
   "outputs": [],
   "source": [
    "from math import pi\n",
    "\n",
    "class Circle:\n",
    "    def __init__(self, radius):\n",
    "        self.radius = radius\n",
    "        \n",
    "    @property\n",
    "    def area(self):\n",
    "        print('calculating area...')\n",
    "        return pi * (self.radius ** 2)"
   ]
  },
  {
   "cell_type": "code",
   "execution_count": 2,
   "metadata": {},
   "outputs": [
    {
     "output_type": "stream",
     "name": "stdout",
     "text": [
      "calculating area...\n"
     ]
    },
    {
     "output_type": "execute_result",
     "data": {
      "text/plain": [
       "3.141592653589793"
      ]
     },
     "metadata": {},
     "execution_count": 2
    }
   ],
   "source": [
    "c = Circle(1)\n",
    "c.area"
   ]
  },
  {
   "cell_type": "markdown",
   "metadata": {},
   "source": [
    "We could certainly just use a class method `area()`, but the area is more a property of the circle, so it makes more sense to just retrive it as a property, without the extra `()` to make the call."
   ]
  },
  {
   "cell_type": "markdown",
   "metadata": {},
   "source": [
    "The advantage of how we did this is that shoudl the radius of the circle ever change, the area property will immediately reflect that."
   ]
  },
  {
   "cell_type": "code",
   "execution_count": 3,
   "metadata": {},
   "outputs": [
    {
     "output_type": "stream",
     "name": "stdout",
     "text": [
      "calculating area...\n"
     ]
    },
    {
     "output_type": "execute_result",
     "data": {
      "text/plain": [
       "12.566370614359172"
      ]
     },
     "metadata": {},
     "execution_count": 3
    }
   ],
   "source": [
    "c.radius = 2\n",
    "c.area"
   ]
  },
  {
   "cell_type": "markdown",
   "metadata": {},
   "source": [
    "On the other hand, it's also a weakness - every time we need the area of the circle, it gets recalculated, even if the radius has not changed!"
   ]
  },
  {
   "cell_type": "code",
   "execution_count": 4,
   "metadata": {},
   "outputs": [
    {
     "output_type": "stream",
     "name": "stdout",
     "text": [
      "calculating area...\ncalculating area...\n"
     ]
    },
    {
     "output_type": "execute_result",
     "data": {
      "text/plain": [
       "12.566370614359172"
      ]
     },
     "metadata": {},
     "execution_count": 4
    }
   ],
   "source": [
    "c.area\n",
    "c.area"
   ]
  },
  {
   "cell_type": "markdown",
   "metadata": {},
   "source": [
    "So now we can use properties to fix this problem without breaking our interface!\n",
    "\n",
    "We are going to cache the area value, and only-recalculate it if the radius has changed.\n",
    "\n",
    "In order for us to know if the radius has changed, we are going to make it into a property, and the setter will keep track of whether the radius is set, in which case it will invalidate the cached area value."
   ]
  },
  {
   "cell_type": "code",
   "execution_count": 121,
   "metadata": {},
   "outputs": [],
   "source": [
    "class Circle:\n",
    "    def __init__(self, radius):\n",
    "        self.radius = radius\n",
    "        self._area = None\n",
    "        \n",
    "    @property\n",
    "    def radius(self):\n",
    "        return self._radius\n",
    "    \n",
    "    @radius.setter\n",
    "    def radius(self, value):\n",
    "        # if radius value is set we invalidate our cached _area value\n",
    "        # we could make this more intelligent and see if the radius has actually changed\n",
    "        # but keeping it simple\n",
    "        self._area = None\n",
    "        # we could even add validation here, like value has to be numeric, non-negative, etc\n",
    "        self._radius = value\n",
    "        \n",
    "    @property\n",
    "    def area(self):\n",
    "        if self._area is None:\n",
    "            # value not cached - calculate it\n",
    "            print('Calculating area...')\n",
    "            self._area = pi * (self.radius ** 2)\n",
    "        return self._area\n",
    "    \n",
    "    @radius.deleter\n",
    "    def radius(self):\n",
    "        del self._radius"
   ]
  },
  {
   "cell_type": "code",
   "execution_count": 125,
   "metadata": {},
   "outputs": [],
   "source": [
    "c = Circle(1)"
   ]
  },
  {
   "cell_type": "code",
   "execution_count": 108,
   "metadata": {},
   "outputs": [
    {
     "output_type": "stream",
     "name": "stdout",
     "text": [
      "Calculating area...\n"
     ]
    },
    {
     "output_type": "execute_result",
     "data": {
      "text/plain": [
       "3.141592653589793"
      ]
     },
     "metadata": {},
     "execution_count": 108
    }
   ],
   "source": [
    "c.area"
   ]
  },
  {
   "cell_type": "code",
   "execution_count": 109,
   "metadata": {},
   "outputs": [
    {
     "output_type": "execute_result",
     "data": {
      "text/plain": [
       "3.141592653589793"
      ]
     },
     "metadata": {},
     "execution_count": 109
    }
   ],
   "source": [
    "c.area"
   ]
  },
  {
   "cell_type": "code",
   "execution_count": 110,
   "metadata": {},
   "outputs": [],
   "source": [
    "c.radius = 2"
   ]
  },
  {
   "cell_type": "code",
   "execution_count": 111,
   "metadata": {},
   "outputs": [
    {
     "output_type": "stream",
     "name": "stdout",
     "text": [
      "Calculating area...\n"
     ]
    },
    {
     "output_type": "execute_result",
     "data": {
      "text/plain": [
       "12.566370614359172"
      ]
     },
     "metadata": {},
     "execution_count": 111
    }
   ],
   "source": [
    "c.area"
   ]
  },
  {
   "cell_type": "code",
   "execution_count": 127,
   "metadata": {},
   "outputs": [],
   "source": [
    "del c.radius"
   ]
  },
  {
   "cell_type": "code",
   "execution_count": 128,
   "metadata": {},
   "outputs": [
    {
     "output_type": "execute_result",
     "data": {
      "text/plain": [
       "{'_area': None}"
      ]
     },
     "metadata": {},
     "execution_count": 128
    }
   ],
   "source": [
    "c.__dict__"
   ]
  },
  {
   "cell_type": "code",
   "execution_count": 11,
   "metadata": {},
   "outputs": [
    {
     "output_type": "execute_result",
     "data": {
      "text/plain": [
       "12.566370614359172"
      ]
     },
     "metadata": {},
     "execution_count": 11
    }
   ],
   "source": [
    "c.area"
   ]
  },
  {
   "cell_type": "markdown",
   "metadata": {},
   "source": [
    "There are a lot of other uses for calculate properties.\n",
    "\n",
    "Some properties may even do a lot work, like retrieving data from a database, making a call to some external API, and so on."
   ]
  },
  {
   "cell_type": "markdown",
   "metadata": {},
   "source": [
    "### Example"
   ]
  },
  {
   "cell_type": "markdown",
   "metadata": {},
   "source": [
    "Let's write a class that takes a URL, downloads the web page for that URL and provides us some metrics on that URL - like how long it took to download, the size (in bytes) of the page."
   ]
  },
  {
   "cell_type": "markdown",
   "metadata": {},
   "source": [
    "Although I am going to use the `urllib` module for this, I strongly recommend you use the `requests` 3rd party library instead: http://docs.python-requests.org"
   ]
  },
  {
   "cell_type": "code",
   "execution_count": 12,
   "metadata": {},
   "outputs": [],
   "source": [
    "import urllib\n",
    "from time import perf_counter"
   ]
  },
  {
   "cell_type": "code",
   "execution_count": 64,
   "metadata": {},
   "outputs": [],
   "source": [
    "class WebPage:\n",
    "    def __init__(self, url):\n",
    "        self.url = url\n",
    "        self._page = None\n",
    "        self._load_time_secs = None\n",
    "        self._page_size = None\n",
    "        \n",
    "    @property\n",
    "    def url(self):\n",
    "        return self._url\n",
    "    \n",
    "    @url.setter\n",
    "    def url(self, value):\n",
    "        self._url = value\n",
    "        self._page = None\n",
    "        # we'll lazy load the page - i.e. we wait until some property is requested\n",
    "        \n",
    "    @property\n",
    "    def page(self):\n",
    "        start_time_check = perf_counter()\n",
    "        if self._page is None:\n",
    "            self.download_page()\n",
    "        end_time_check = perf_counter()\n",
    "        print(f'all took {end_time_check - start_time_check}')\n",
    "        return self._page\n",
    "    \n",
    "    @property\n",
    "    def page_size(self):\n",
    "        if self._page is None:\n",
    "            # need to first download the page\n",
    "            self.download_page()\n",
    "        return self._page_size\n",
    "        \n",
    "    @property\n",
    "    def time_elapsed(self):\n",
    "        if self._page is None:\n",
    "            self.download_page()\n",
    "        return self._load_time_secs\n",
    "            \n",
    "    def download_page(self):\n",
    "        print('Downloadin page')\n",
    "        self._page_size = None\n",
    "        self._load_time_secs = None\n",
    "        start_time = perf_counter()\n",
    "        with urllib.request.urlopen(self.url) as f:\n",
    "            self._page = f.read()\n",
    "        end_time = perf_counter()\n",
    "        \n",
    "        self._page_size = len(self._page)\n",
    "        self._load_time_secs = end_time - start_time"
   ]
  },
  {
   "cell_type": "code",
   "execution_count": 23,
   "metadata": {},
   "outputs": [
    {
     "output_type": "stream",
     "name": "stdout",
     "text": [
      "Downloadin page\n",
      "https://www.google.com \tsize=13_337 \telapsed=0.08 secs\n",
      "Downloadin page\n",
      "https://www.python.org \tsize=49_263 \telapsed=0.02 secs\n",
      "Downloadin page\n",
      "https://www.yahoo.com \tsize=212_715 \telapsed=0.19 secs\n"
     ]
    }
   ],
   "source": [
    "urls = [\n",
    "    'https://www.google.com',\n",
    "    'https://www.python.org',\n",
    "    'https://www.yahoo.com'\n",
    "]\n",
    "\n",
    "for url in urls:\n",
    "    page = WebPage(url)\n",
    "    print(f'{url} \\tsize={format(page.page_size, \"_\")} \\telapsed={page.time_elapsed:.2f} secs')"
   ]
  },
  {
   "cell_type": "code",
   "execution_count": 95,
   "metadata": {},
   "outputs": [],
   "source": [
    "page = WebPage('https://www.imdb.com')\n"
   ]
  },
  {
   "cell_type": "code",
   "execution_count": 96,
   "metadata": {},
   "outputs": [
    {
     "output_type": "stream",
     "name": "stdout",
     "text": [
      "Downloadin page\n",
      "all took 0.8049589739998737\n"
     ]
    },
    {
     "output_type": "execute_result",
     "data": {
      "text/plain": [
       "UzRSU1Q24lM0NzY3JpcHQlM0UlNUNuJTIwJTIwJTIwJTIwc2V0VGltZW91dChmdW5jdGlvbigpJTIwJTdCJTVDbiUyMCUyMCUyMCUyMCUyMCUyMCUyMCUyMHZhciUyMGVsJTIwJTNEJTIwZG9jdW1lbnQuZ2V0RWxlbWVudEJ5SWQoJTVDJTIyc2lzX3BpeGVsX3NpdGV3aWRlJTVDJTIyKSUzQiU1Q24lMjAlMjAlMjAlMjAlMjAlMjAlMjAlMjBlbC5zcmMlM0QlNUMlMjJodHRwcyUzQSUyRiUyRmFheC1ldS5hbWF6b24tYWRzeXN0ZW0uY29tJTJGcyUyRml1MyUzRmQlM0RpbWRiLmNvbSUyNmExJTNEJTI2YTIlM0QwMTAxYTE4MjNjYTNkNWQ0NmNlMDNkNDUwMmVkZjI4ZjA5NWIyMGY3ODBjMjllZGRjZGRlYmVmYjI5MzNmYTljMWU5OCUyNmNiJTNEMjE2MjQwMDE1MjY5JTI2cElkJTNEJTI2ciUzRDElMjZyUCUzRGh0dHBzJTI1M0ElMjUyRiUyNTJGd3d3LmltZGIuY29tJTI1MkYlMjUzRm9wZkludGVybmFsUmVkaXJlY3RTZXNzaW9uSWQlMjUzRDAwMC0wMDAwMDAwLTAwMDAwMDAlMjZlbmNvZGluZyUzRHNlcnZlciUyNnByaWQlM0QwMTAxYmZkZTliNzM3MTQ3Njc5MDBmZTllYmQ5NjVhZjNmOTk3OTA3ZGRmMWZjMzUyODNmYmMzZjU1MGFhYzBiNmY2MSU1QyUyMiUzQiU1Q24lMjAlMjAlMjAlMjAlMjAlMjAlMjAlMjBlbC5vbmxvYWQlMjAlM0QlMjBmdW5jdGlvbigpJTIwJTdCJTVDbiUyMCUyMCUyMCUyMCUyMCUyMCUyMCUyMCUyMCUyMCUyMCUyMGlmJTIwKHR5cGVvZiUyMHVleCUyMCUzRCUzRCUyMCdmdW5jdGlvbicpJTIwJTdCJTVDbiUyMCUyMCUyMCUyMCUyMCUyMCUyMCUyMCUyMCUyMCUyMCUyMCUyMCUyMCUyMCUyMHVleCglNUMlMjJsZCU1QyUyMiUyQyUyMCU1QyUyMkxvYWRTaXMlNUMlMjIlMkMlMjAlN0J3YiUzQSUyMDElN0QpJTNCJTVDbiUyMCUyMCUyMCUyMCUyMCUyMCUyMCUyMCUyMCUyMCUyMCUyMCU3RCU1Q24lMjAlMjAlMjAlMjAlMjAlMjAlMjAlMjAlN0QlNUNuJTIwJTIwJTIwJTIwJTdEJTJDMjApJTNCJTVDbiU1Q24lMjAlMjAlMjAlMjBpZiUyMCh0eXBlb2YlMjB1ZXQlMjAlM0QlM0QlMjAnZnVuY3Rpb24nKSUyMCU3QiU1Q24lMjAlMjAlMjAlMjAlMjAlMjAlMjAlMjB1ZXQoJTVDJTIyYmUlNUMlMjIlMkMlMjAlNUMlMjJMb2FkU2lzJTVDJTIyJTJDJTIwJTdCd2IlM0ElMjAxJTdEKSUzQiU1Q24lMjAlMjAlMjAlMjAlN0QlNUNuJTNDJTJGc2NyaXB0JTNFJTVDbiU1Q24lM0MhLS0lMjBFbmQlMjBTSVMlMjBjb2RlJTIwLS0lM0UlNUNuJTNDIS0tJTIwYmVnaW4lMjBjb21zY29yZSUyMGJlYWNvbiUyMC0tJTNFJTVDbiUzQ3NjcmlwdCUyMHR5cGUlM0QlNUMlMjJ0ZXh0JTJGamF2YXNjcmlwdCU1QyUyMiUyMHNyYyUzRCdodHRwcyUzQSUyRiUyRmlhLm1lZGlhLWltZGIuY29tJTJGaW1hZ2VzJTJGRyUyRjAxJTJGaW1kYmFkcyUyRmpzJTJGYmVhY29uLTE3OTIxNTc2NzIuX0NCNDg1OTM0OTA2Xy5qcyclM0UlM0MlMkZzY3JpcHQlM0UlNUNuJTNDc2NyaXB0JTIwdHlwZSUzRCU1QyUyMnRleHQlMkZqYXZhc2NyaXB0JTVDJTIyJTNFJTVDbiUyMCUyMCUyMCUyMHNldFRpbWVvdXQoZnVuY3Rpb24oKSUyMCU3QiU1Q24lMjAlMjAlMjAlMjAlMjAlMjAlMjAlMjBpZih3aW5kb3cuQ09NU0NPUkUpJTdCJTVDbiUyMCUyMCUyMCUyMCUyMCUyMCUyMCUyMCUyMCUyMCUyMCUyMCUyMCUyMCUyMCUyMENPTVNDT1JFLmJlYWNvbiglN0IlNUNuJTIwJTIwJTIwJTIwJTIwJTIwJTIwJTIwJTIwJTIwJTIwJTIwJTIwJTIwJTIwJTIwJTIwJTIwJTIwJTIwYzElM0ElMjAyJTJDJTVDbiUyMCUyMCUyMCUyMCUyMCUyMCUyMCUyMCUyMCUyMCUyMCUyMCUyMCUyMCUyMCUyMCUyMCUyMCUyMCUyMGMyJTNBJTVDJTIyNjAzNDk2MSU1QyUyMiUyQyU1Q24lMjAlMjAlMjAlMjAlMjAlMjAlMjAlMjAlMjAlMjAlMjAlMjAlMjAlMjAlMjAlMjAlMjAlMjAlMjAlMjBjc191Y2ZyJTNBJTIwJTVDJTIyJTVDJTIyJTVDbiUyMCUyMCUyMCUyMCUyMCUyMCUyMCUyMCUyMCUyMCUyMCUyMCUyMCUyMCUyMCUyMCU3RCklM0IlNUNuJTIwJTIwJTIwJTIwJTIwJTIwJTIwJTIwJTIwJTIwJTIwJTIwJTdEJTVDbiUyMCUyMCUyMCUyMCU3RCUyQyUyMDEwMDApJTNCJTVDbiUzQyUyRnNjcmlwdCUzRSU1Q24lNUNuJTNDbm9zY3JpcHQlM0UlNUNuJTIwJTIwJTIwJTIwJTNDaW1nJTIwc3JjJTNEJTVDJTIyaHR0cHMlM0ElMkYlMkZzYi5zY29yZWNhcmRyZXNlYXJjaC5jb20lMkZwJTNGYzElM0QyJTI2YzIlM0Q2MDM0OTYxJTI2Y2olM0QxJTI2Y3NfdWNmciUzRCU1QyUyMiUyRiUzRSU1Q24lM0MlMkZub3NjcmlwdCUzRSU1Q24lM0MhLS0lMjBlbmQlMjBjb21zY29yZSUyMGJlYWNvbiUyMC0tJTNFJTVDbiU1Q24lM0MhLS0lMjBlbmQlMjBzaXMlMjBwaXhlbCUyMHNsb3QlMjAtLSUzRSU1Q24lMjIlN0QlN0QlMkMlMjJoZWFkZXJNYXJrdXAlMjIlM0ElMjIlM0NzY3JpcHQlM0UlNUNud2luZG93LmFkc19qc19zdGFydCUyMCUzRCUyMG5ldyUyMERhdGUoKS5nZXRUaW1lKCklM0IlNUNudmFyJTIwaW1kYmFkcyUyMCUzRCUyMGltZGJhZHMlMjAlN0MlN0MlMjAlN0IlN0QlM0IlMjBpbWRiYWRzLmNtZCUyMCUzRCUyMGltZGJhZHMuY21kJTIwJTdDJTdDJTIwJTVCJTVEJTNCJTVDbiUzQyUyRnNjcmlwdCUzRSU1Q24lM0MhLS0lMjBiZWdpbiUyMFNSQSUyMC0tJTNFJTVDbiUzQ3NjcmlwdCUzRSU1Q24hZnVuY3Rpb24lMjBhKGIlMkNjJTJDZCklN0JmdW5jdGlvbiUyMGUoZyUyQ2gpJTdCaWYoIWMlNUJnJTVEKSU3QmlmKCFiJTVCZyU1RCklN0J2YXIlMjBpJTNEJTVDJTIyZnVuY3Rpb24lNUMlMjIlM0QlM0R0eXBlb2YlMjByZXF1aXJlJTI2JTI2cmVxdWlyZSUzQmlmKCFoJTI2JTI2aSlyZXR1cm4lMjBpKGclMkMhMCklM0JpZihmKXJldHVybiUyMGYoZyUyQyEwKSUzQnZhciUyMGolM0RuZXclMjBFcnJvciglNUMlMjJDYW5ub3QlMjBmaW5kJTIwbW9kdWxlJTIwJyU1QyUyMiUyQmclMkIlNUMlMjInJTVDJTIyKSUzQnRocm93JTIwai5jb2RlJTNEJTVDJTIyTU9EVUxFX05PVF9GT1VORCU1QyUyMiUyQ2olN0R2YXIlMjBrJTNEYyU1QmclNUQlM0QlN0JleHBvcnRzJTNBJTdCJTdEJTdEJTNCYiU1QmclNUQlNUIwJTVELmNhbGwoay5leHBvcnRzJTJDZnVuY3Rpb24oYSklN0J2YXIlMjBjJTNEYiU1QmclNUQlNUIxJTVEJTVCYSU1RCUzQnJldHVybiUyMGUoYyUzRmMlM0FhKSU3RCUyQ2slMkNrLmV4cG9ydHMlMkNhJTJDYiUyQ2MlMkNkKSU3RHJldHVybiUyMGMlNUJnJTVELmV4cG9ydHMlN0Rmb3IodmFyJTIwZiUzRCU1QyUyMmZ1bmN0aW9uJTVDJTIyJTNEJTNEdHlwZW9mJTIwcmVxdWlyZSUyNiUyNnJlcXVpcmUlMkNnJTNEMCUzQmclM0NkLmxlbmd0aCUzQmclMkIlMkIpZShkJTVCZyU1RCklM0JyZXR1cm4lMjBlJTdEKCU3QjElM0ElNUJmdW5jdGlvbihhJTJDYiUyQ2MpJTdCJTVDJTIydXNlJTIwc3RyaWN0JTVDJTIyJTNCYSgyKSU3RCUyQyU3QjIlM0EyJTdEJTVEJTJDMiUzQSU1QmZ1bmN0aW9uKGElMkNiJTJDYyklN0IlNUMlMjJ1c2UlMjBzdHJpY3QlNUMlMjIlM0IhZnVuY3Rpb24oKSU3QnZhciUyMGElMkNiJTJDYyUzRGZ1bmN0aW9uKGEpJTdCcmV0dXJuJTVDJTIyJTVCb2JqZWN0JTIwQXJyYXklNUQlNUMlMjIlM0QlM0QlM0RPYmplY3QucHJvdG90eXBlLnRvU3RyaW5nLmNhbGwoYSklN0QlMkNkJTNEZnVuY3Rpb24oYSUyQ2IpJTdCZm9yKHZhciUyMGMlM0QwJTNCYyUzQ2EubGVuZ3RoJTNCYyUyQiUyQiljJTIwaW4lMjBhJTI2JTI2Yi5jYWxsKG51bGwlMkNhJTVCYyU1RCUyQ2MpJTdEJTJDZSUzRCU1QiU1RCUyQ2YlM0QhMSUyQ2clM0QhMSUyQ2glM0RmdW5jdGlvbigpJTdCdmFyJTIwYSUzRCU1QiU1RCUyQ2IlM0QlNUIlNUQlMkNjJTNEJTdCJTdEJTNCcmV0dXJuJTIwZChlJTJDZnVuY3Rpb24oZSklN0J2YXIlMjBmJTNEJTVDJTIyJTVDJTIyJTNCZChlLmRhcnRzaXRlLnNwbGl0KCU1QyUyMiUyRiU1QyUyMiklMkNmdW5jdGlvbihiKSU3QiU1QyUyMiU1QyUyMiElM0QlM0RiJTI2JTI2KGIlMjBpbiUyMGMlN0MlN0MoYyU1QmIlNUQlM0RhLmxlbmd0aCUyQ2EucHVzaChiKSklMkNmJTJCJTNEJTVDJTIyJTJGJTVDJTIyJTJCYyU1QmIlNUQpJTdEKSUyQ2IucHVzaChmKSU3RCklMkMlN0JpdV9wYXJ0cyUzQWElMkNlbmNfcHJldl9pdXMlM0FiJTdEJTdEJTJDaSUzRGZ1bmN0aW9uKCklN0J2YXIlMjBhJTNEJTVCJTVEJTNCcmV0dXJuJTIwZChlJTJDZnVuY3Rpb24oYiklN0J2YXIlMjBjJTNEJTVCJTVEJTNCZChiLnNpemVzJTJDZnVuY3Rpb24oYSklN0JjLnB1c2goYS5qb2luKCU1QyUyMnglNUMlMjIpKSU3RCklMkNhLnB1c2goYy5qb2luKCU1QyUyMiU3QyU1QyUyMikpJTdEKSUyQ2ElN0QlMkNqJTNEZnVuY3Rpb24oKSU3QnZhciUyMGElM0QlNUIlNUQlM0JyZXR1cm4lMjBkKGUlMkNmdW5jdGlvbihiKSU3QmEucHVzaChrKGIudGFyZ2V0aW5nKSklN0QpJTJDYS5qb2luKCU1QyUyMiU3QyU1QyUyMiklN0QlMkNrJTNEZnVuY3Rpb24oYSUyQ2IpJTdCdmFyJTIwYyUyQ2QlM0QlNUIlNUQlM0Jmb3IodmFyJTIwZSUyMGluJTIwYSklN0JjJTNEJTVCJTVEJTNCZm9yKHZhciUyMGYlM0QwJTNCZiUzQ2ElNUJlJTVELmxlbmd0aCUzQmYlMkIlMkIpYy5wdXNoKGVuY29kZVVSSUNvbXBvbmVudChhJTVCZSU1RCU1QmYlNUQpKSUzQmIlM0ZkLnB1c2goZSUyQiU1QyUyMiUzRCU1QyUyMiUyQmVuY29kZVVSSUNvbXBvbmVudChjLmpvaW4oJTVDJTIyJTJDJTVDJTIyKSkpJTNBZC5wdXNoKGUlMkIlNUMlMjIlM0QlNUMlMjIlMkJjLmpvaW4oJTVDJTIyJTJDJTVDJTIyKSklN0RyZXR1cm4lMjBkLmpvaW4oJTVDJTIyJTI2JTVDJTIyKSU3RCUyQ2wlM0RmdW5jdGlvbigpJTdCdmFyJTIwYSUzRCUyQm5ldyUyMERhdGUlM0JnJTdDJTdDZG9jdW1lbnQucmVhZHlTdGF0ZSUyNiUyNiU1QyUyMmxvYWRlZCU1QyUyMiElM0QlM0Rkb2N1bWVudC5yZWFkeVN0YXRlJTdDJTdDKGclM0QhMCUyQ2YlMjYlMjZpbWRiYWRzLmNtZC5wdXNoKGZ1bmN0aW9uKCklN0Jmb3IodmFyJTIwYiUzRDAlM0JiJTNDZS5sZW5ndGglM0JiJTJCJTJCKWdlbmVyaWMubW9uaXRvcmluZy5yZWNvcmRfbWV0cmljKGUlNUJiJTVELm5hbWUlMkIlNUMlMjIuZmFpbCU1QyUyMiUyQ2NzbS5kdXJhdGlvbihhKSklN0QpKSU3RCUzQndpbmRvdy50aW55Z3B0JTNEJTdCZGVmaW5lX3Nsb3QlM0FmdW5jdGlvbihhJTJDYiUyQ2MlMkNkKSU3QmUucHVzaCglN0JkYXJ0c2l0ZSUzQWEucmVwbGFjZSglMkYlNUMlNUMlMkYlMjQlMkYlMkMlNUMlMjIlNUMlMjIpJTJDc2l6ZXMlM0FiJTJDbmFtZSUzQWMlMkN0YXJnZXRpbmclM0FkJTdEKSU3RCUyQ3NldF90YXJnZXRpbmclM0FmdW5jdGlvbihiKSU3QmElM0RiJTdEJTJDY2FsbGJhY2slM0FmdW5jdGlvbihhKSU3QnZhciUyMGMlMkNkJTJDZiUzRCU3QiU3RCUyQ2clM0QlMkJuZXclMjBEYXRlJTNCdHJ5JTdCZm9yKHZhciUyMGglM0QwJTNCaCUzQ2UubGVuZ3RoJTNCaCUyQiUyQiljJTNEZSU1QmglNUQuZGFydHNpdGUlMkNkJTNEZSU1QmglNUQubmFtZSUyQ2ElNUJoJTVEJTVCYyU1RCUzRmYlNUJkJTVEJTNEYSU1QmglNUQlNUJjJTVEJTNBd2luZG93LmNvbnNvbGUlMjYlMjZjb25zb2xlLmVycm9yJTI2JTI2Y29uc29sZS5lcnJvciglNUMlMjJVbmFibGUlMjB0byUyMGNvcnJlbGF0ZSUyMEdQVCUyMHJlc3BvbnNlJTIwZm9yJTIwJTVDJTIyJTJCZCklM0JpbWRiYWRzLmNtZC5wdXNoKGZ1bmN0aW9uKCklN0Jmb3IodmFyJTIwYSUzRDAlM0JhJTNDZS5sZW5ndGglM0JhJTJCJTJCKWFkX3V0aWxzLnNsb3RfZXZlbnRzLnRyaWdnZXIoZSU1QmElNUQubmFtZSUyQyU1QyUyMnJlcXVlc3QlNUMlMjIlMkMlN0J0aW1lc3RhbXAlM0FiJTdEKSUyQ2FkX3V0aWxzLnNsb3RfZXZlbnRzLnRyaWdnZXIoZSU1QmElNUQubmFtZSUyQyU1QyUyMnRhZ2RlbGl2ZXIlNUMlMjIlMkMlN0J0aW1lc3RhbXAlM0FnJTdEKSUzQmFkX3V0aWxzLmdwdC5oYW5kbGVfcmVzcG9uc2UoZiklN0QpJTdEY2F0Y2goaSklN0J3aW5kb3cuY29uc29sZSUyNiUyNmNvbnNvbGUuZXJyb3IlMjYlMjZjb25zb2xlLmVycm9yKCU1QyUyMkV4Y2VwdGlvbiUyMGluJTIwR1BUJTIwY2FsbGJhY2slM0ElMjAlNUMlMjIlMkJpLm1lc3NhZ2UpJTdEJTdEJTJDc2VuZCUzQWZ1bmN0aW9uKCklN0J2YXIlMjBkJTJDZyUyQ20lM0QlNUIlNUQlMkNuJTNEZnVuY3Rpb24oYSUyQ2IpJTdCYyhiKSUyNiUyNihiJTNEYi5qb2luKCU1QyUyMiUyQyU1QyUyMikpJTJDYiUyNiUyNm0ucHVzaChhJTJCJTVDJTIyJTNEJTVDJTIyJTJCZW5jb2RlVVJJQ29tcG9uZW50KCU1QyUyMiU1QyUyMiUyQmIpKSU3RCUzQmlmKDAlM0QlM0QlM0RlLmxlbmd0aClyZXR1cm4lMjB2b2lkJTIwdGlueWdwdC5jYWxsYmFjayglN0IlN0QpJTNCbiglNUMlMjJnZGZwX3JlcSU1QyUyMiUyQyU1QyUyMjElNUMlMjIpJTJDbiglNUMlMjJjb3JyZWxhdG9yJTVDJTIyJTJDTWF0aC5mbG9vcig0NTAzNTk5NjI3MzcwNDk2Kk1hdGgucmFuZG9tKCkpKSUyQ24oJTVDJTIyb3V0cHV0JTVDJTIyJTJDJTVDJTIyanNvbl9odG1sJTVDJTIyKSUyQ24oJTVDJTIyY2FsbGJhY2slNUMlMjIlMkMlNUMlMjJ0aW55Z3B0LmNhbGxiYWNrJTVDJTIyKSUyQ24oJTVDJTIyaW1wbCU1QyUyMiUyQyU1QyUyMmZpZnMlNUMlMjIpJTJDbiglNUMlMjJqc29uX2ElNUMlMjIlMkMlNUMlMjIxJTVDJTIyKSUzQnZhciUyMG8lM0RoKCklM0JuKCU1QyUyMml1X3BhcnRzJTVDJTIyJTJDby5pdV9wYXJ0cyklMkNuKCU1QyUyMmVuY19wcmV2X2l1cyU1QyUyMiUyQ28uZW5jX3ByZXZfaXVzKSUyQ24oJTVDJTIycHJldl9pdV9zenMlNUMlMjIlMkNpKCkpJTJDbiglNUMlMjJwcmV2X3NjcCU1QyUyMiUyQ2ooKSklMkNuKCU1QyUyMmN1c3RfcGFyYW1zJTVDJTIyJTJDayhhJTJDITApKSUyQ2QlM0Rkb2N1bWVudC5jcmVhdGVFbGVtZW50KCU1QyUyMnNjcmlwdCU1QyUyMiklMkNnJTNEZG9jdW1lbnQuZ2V0RWxlbWVudHNCeVRhZ05hbWUoJTVDJTIyc2NyaXB0JTVDJTIyKSU1QjAlNUQlMkNkLmFzeW5jJTNEITAlMkNkLnR5cGUlM0QlNUMlMjJ0ZXh0JTJGamF2YXNjcmlwdCU1QyUyMiUyQ2Quc3JjJTNEJTVDJTIyaHR0cCUzQSUyRiUyRnB1YmFkcy5nLmRvdWJsZWNsaWNrLm5ldCUyRmdhbXBhZCUyRmFkcyUzRiU1QyUyMiUyQm0uam9pbiglNUMlMjIlMjYlNUMlMjIpJTJDZC5pZCUzRCU1QyUyMnRpbnlncHQlNUMlMjIlMkNkLm9ubG9hZCUzRGQub25lcnJvciUzRGQub25yZWFkeXN0YXRlY2hhbmdlJTNEbCUyQ2YlM0QhMCUyQ2cucGFyZW50Tm9kZS5pbnNlcnRCZWZvcmUoZCUyQ2cpJTJDYiUzRCUyQm5ldyUyMERhdGUlN0QlN0QlN0QoKSU3RCUyQyU3QiU3RCU1RCU3RCUyQyU3QiU3RCUyQyU1QjElNUQpJTNCJTIwJTNDJTJGc2NyaXB0JTNFJTVDbiUzQyEtLSUyMGJlZ2luJTIwYWRzJTIwaGVhZGVyJTIwLS0lM0UlNUNuJTNDc2NyaXB0JTIwaWQlM0QlNUMlMjJhZHNfdGFybmhlbG0lNUMlMjIlMjBzcmMlM0QlNUMlMjJodHRwcyUzQSUyRiUyRmlhLm1lZGlhLWltZGIuY29tJTJGaW1hZ2VzJTJGRyUyRjAxJTJGaW1kYmFkcyUyRmpzJTJGY29sbGVjdGlvbnMlMkZ0YXJuaGVsbS0yOTM0NzQ0MDk4Ll9DQjQxNTU2NzA1Ml8uanMlNUMlMjIlM0UlM0MlMkZzY3JpcHQlM0UlNUNuJTNDc2NyaXB0JTIwaWQlM0QlNUMlMjJhZHNfZG9XaXRoQWRzJTVDJTIyJTNFJTVDbmRvV2l0aEFkcyUyMCUzRCUyMGZ1bmN0aW9uKGluc2lkZSUyQyUyMGZhaWx1cmVNZXNzYWdlKSU3QiU1Q25pZiUyMCgnY29uc29sZUxvZyclMjBpbiUyMHdpbmRvdyUyMCUyNiUyNiU1Q24nZ2VuZXJpYyclMjBpbiUyMHdpbmRvdyUyMCUyNiUyNiU1Q24nYWRfdXRpbHMnJTIwaW4lMjB3aW5kb3clMjAlMjYlMjYlNUNuJ2N1c3RvbSclMjBpbiUyMHdpbmRvdyUyMCUyNiUyNiU1Q24nbW9uaXRvcmluZyclMjBpbiUyMGdlbmVyaWMlMjAlMjYlMjYlNUNuJ2RvY3VtZW50X2lzX3JlYWR5JyUyMGluJTIwZ2VuZXJpYyklMjAlN0IlNUNudHJ5JTdCJTVDbmluc2lkZS5jYWxsKHRoaXMpJTNCJTVDbiU3RGNhdGNoKGUpJTIwJTdCJTVDbmlmJTIwKCUyMHdpbmRvdy51ZUxvZ0Vycm9yJTIwKSUyMCU3QiU1Q25pZih0eXBlb2YlMjBmYWlsdXJlTWVzc2FnZSUyMCElM0QlM0QlMjAndW5kZWZpbmVkJyklN0IlNUNuZS5tZXNzYWdlJTIwJTNEJTIwZmFpbHVyZU1lc3NhZ2UlM0IlNUNuJTdEJTVDbmUuYXR0cmlidXRpb24lMjAlM0QlMjAlNUMlMjJBZHZlcnRpc2luZyU1QyUyMiUzQiU1Q25lLmxvZ0xldmVsJTIwJTNEJTIwJTVDJTIyRVJST1IlNUMlMjIlM0IlNUNudWVMb2dFcnJvcihlKSUzQiU1Q24lN0QlNUNuaWYoJTIwKGRvY3VtZW50LmxvY2F0aW9uLmhhc2gubWF0Y2goJ2RlYnVnJTNEMScpKSUyMCUyNiUyNiU1Q24odHlwZW9mJTIwZmFpbHVyZU1lc3NhZ2UlMjAhJTNEJTNEJTIwJ3VuZGVmaW5lZCcpJTIwKSU3QiU1Q25jb25zb2xlLmVycm9yKGZhaWx1cmVNZXNzYWdlKSUzQiU1Q24lN0QlNUNuJTdEJTVDbiU3RCUyMGVsc2UlMjAlN0IlNUNuaWYoJTIwKGRvY3VtZW50LmxvY2F0aW9uLmhhc2gubWF0Y2goJ2RlYnVnJTNEMScpKSUyMCUyNiUyNiU1Q24odHlwZW9mJTIwZmFpbHVyZU1lc3NhZ2UlMjAhJTNEJTNEJTIwJ3VuZGVmaW5lZCcpJTIwKSU3QiU1Q25jb25zb2xlLmVycm9yKGZhaWx1cmVNZXNzYWdlKSUzQiU1Q24lN0QlNUNuJTdEJTVDbiU3RCUzQiU1Q24lM0MlMkZzY3JpcHQlM0UlM0NzY3JpcHQlMjBpZCUzRCU1QyUyMmFkc19tb25pdG9yaW5nX3NldHVwJTVDJTIyJTNFJTVDbmRvV2l0aEFkcyhmdW5jdGlvbigpJTdCJTVDbmdlbmVyaWMubW9uaXRvcmluZy5zZXRfZm9yZXN0ZXJfaW5mbyglNUMlMjJob21lcGFnZSU1QyUyMiklM0IlNUNuZ2VuZXJpYy5tb25pdG9yaW5nLnNldF90d2lsaWdodF9pbmZvKCU1Q24lNUMlMjJob21lcGFnZSU1QyUyMiUyQyU1Q24lNUMlMjJJRSU1QyUyMiUyQyU1Q24lNUMlMjI2MWM3NTA3NWYxNWEyYzg4NjRhYTJlODNlZTE0YTAyM2VlMWZlYmJmJTVDJTIyJTJDJTVDbiU1QyUyMjIwMjAtMTEtMjJUMTglMjUzQTA1JTI1M0EzNEdNVCU1QyUyMiUyQyU1Q24lNUMlMjJodHRwcyUzQSUyRiUyRnMubWVkaWEtaW1kYi5jb20lMkZ0d2lsaWdodCUyRiUzRiU1QyUyMiUyQyU1Q24lNUMlMjJjb25zdW1lciU1QyUyMiklM0IlNUNuZ2VuZXJpYy5tb25pdG9yaW5nLnN0YXJ0X3RpbWluZyglNUMlMjJwYWdlX2xvYWQlNUMlMjIpJTNCJTVDbmdlbmVyaWMuc2Vjb25kc190b19taWRuaWdodCUyMCUzRCUyMDUwMDY2JTNCJTVDbmdlbmVyaWMuZGF5c190b19taWRuaWdodCUyMCUzRCUyMDAuNTc5NDY3NTk0NjIzNTY1NyUzQiU1Q24lN0QlMkMlNUMlMjJHZW5lcmljJTIwbm90JTIwZGVmaW5lZCUyQyUyMHNraXBwaW5nJTIwbW9uaXRvcmluZyUyMHNldHVwLiU1QyUyMiklM0IlNUNuJTNDJTJGc2NyaXB0JTNFJTVDbiUzQ3NjcmlwdCUyMHNyYyUzRCU1QyUyMmh0dHBzJTNBJTJGJTJGaW1hZ2VzLW5hLnNzbC1pbWFnZXMtYW1hem9uLmNvbSUyRmltYWdlcyUyRkclMkYwMSUyRmFwZSUyRnNmJTJGZGVza3RvcCUyRkRBc2YtMS41MC45OTYyODljLl9WNDI4ODgxODExXy5qcyU1QyUyMiUzRSUzQyUyRnNjcmlwdCUzRSU1Q24lM0NzY3JpcHQlMjBpZCUzRCU1QyUyMmFkc19zYWZlZnJhbWVfc2V0dXAlNUMlMjIlM0UlNUNuZG9XaXRoQWRzKGZ1bmN0aW9uKCklN0IlNUNuaWYlMjAodHlwZW9mJTIwREFzZiUyMCElM0QlMjAndW5kZWZpbmVkJyUyMCUyNiUyNiUyMHR5cGVvZiUyMERBc2YucmVnaXN0ZXJDdXN0b21NZXNzYWdlTGlzdGVuZXIlMjAlM0QlM0QlM0QlMjAnZnVuY3Rpb24nKSUyMCU3QiU1Q25EQXNmLnJlZ2lzdGVyQ3VzdG9tTWVzc2FnZUxpc3RlbmVyKCd1cGRhdGVBZERldGFpbHMnJTJDJTIwd2luZG93LmFkX3V0aWxzLnVwZGF0ZV9hZF9kZXRhaWxzKSUzQiU1Q25EQXNmLnJlZ2lzdGVyQ3VzdG9tTWVzc2FnZUxpc3RlbmVyKCdzZXRQYXJ0bmVyJyUyQyUyMHdpbmRvdy5hZF91dGlscy5zZXRfcGFydG5lciklM0IlNUNuREFzZi5yZWdpc3RlckN1c3RvbU1lc3NhZ2VMaXN0ZW5lcignYWRGZWVkYmFjayclMkMlMjB3aW5kb3cuYWRfdXRpbHMuc2hvd19hZF9mZWVkYmFjayklM0IlNUNuREFzZi5yZWdpc3RlckN1c3RvbU1lc3NhZ2VMaXN0ZW5lcignc2VuZE1ldHJpY3MnJTJDJTIwd2luZG93LmdlbmVyaWMubW9uaXRvcmluZy51cGRhdGVfc2Zfc2xvdF9tZXRyaWNzKSUzQiU1Q25EQXNmLnJlZ2lzdGVyQ3VzdG9tTWVzc2FnZUxpc3RlbmVyKCdleHBhbmQnJTJDJTIwd2luZG93LmFkX3V0aWxzLmV4cGFuZF9vdmVybGF5KSUzQiU1Q25EQXNmLnJlZ2lzdGVyQ3VzdG9tTWVzc2FnZUxpc3RlbmVyKCdjb2xsYXBzZSclMkMlMjB3aW5kb3cuYWRfdXRpbHMuY29sbGFwc2Vfb3ZlcmxheSklM0IlNUNuJTdEJTVDbiU3RCUyQyU1QyUyMmFkcyUyMGpzJTIwbWlzc2luZyUyQyUyMHNraXBwaW5nJTIwc2FmZWZyYW1lJTIwc2V0dXAuJTVDJTIyKSUzQiU1Q24lM0MlMkZzY3JpcHQlM0UlNUNuJTNDc2NyaXB0JTIwaWQlM0QlNUMlMjJhZHNfZ2VuZXJhbF9zZXR1cCU1QyUyMiUzRSU1Q25kb1dpdGhBZHMoZnVuY3Rpb24oKSU3QiU1Q25nZW5lcmljLm1vbml0b3JpbmcucmVjb3JkX21ldHJpYyglNUMlMjJhZHNfanNfcmVxdWVzdF90b19kb25lJTVDJTIyJTJDJTIwKG5ldyUyMERhdGUoKS5nZXRUaW1lKCkpJTIwLSUyMHdpbmRvdy5hZHNfanNfc3RhcnQpJTNCJTVDbmdlbmVyaWMuc2VuZF9jc21faGVhZF9tZXRyaWNzJTIwJTI2JTI2JTIwZ2VuZXJpYy5zZW5kX2NzbV9oZWFkX21ldHJpY3MoKSUzQiU1Q25hZF91dGlscy5zZXRfc2xvdHNfb25fcGFnZSglN0IlMjAnaW5saW5lMjAnJTNBMSUyQyUyMCdzaXNfcGl4ZWwnJTNBMSUyQyUyMCdpbmxpbmU0MCclM0ExJTIwJTdEKSUzQiU1Q25jdXN0b20uZnVsbF9wYWdlLmRhdGFfdXJsJTIwJTNEJTIwJTVDJTIyaHR0cHMlM0ElMkYlMkZpYS5tZWRpYS1pbWRiLmNvbSUyRmltYWdlcyUyRkclMkYwMSUyRmltZGJhZHMlMkZqcyUyRmdyYWZmaXRpX2RhdGEtMTQ4NjYwNTIuX0NCNDI2NTc0OTQ3Xy5qcyU1QyUyMiUzQiU1Q25jb25zb2xlTG9nKCdhZHZlcnRpc2luZyUyMGluaXRpYWxpemVkJyUyQydhZHMnKSUzQiU1Q24lN0QlMkMlNUMlMjJhZHMlMjBqcyUyMG1pc3NpbmclMkMlMjBza2lwcGluZyUyMGdlbmVyYWwlMjBzZXR1cC4lNUMlMjIpJTNCJTVDbiUzQyUyRnNjcmlwdCUzRSU1Q24lM0NzY3JpcHQlM0Vkb1dpdGhBZHMoZnVuY3Rpb24oKSUyMCU3QiUyMGFkX3V0aWxzLmFkc19oZWFkZXIuZG9uZSgpJTNCJTIwJTdEKSUzQiUzQyUyRnNjcmlwdCUzRSU1Q24lM0NsaW5rJTIwcmVsJTNEJTVDJTIyc3R5bGVzaGVldCU1QyUyMiUyMGhyZWYlM0QlNUMlMjJodHRwcyUzQSUyRiUyRmlhLm1lZGlhLWltZGIuY29tJTJGaW1hZ2VzJTJGRyUyRjAxJTJGaW1kYmFkcyUyRmNzcyUyRnJlc3BvbnNpdmUtc3R5bGVzLTI4MjkzODUxMjUuX0NCNDE1NTY3MDUyXy5jc3MlNUMlMjIlMkYlM0UlNUNuJTNDIS0tJTIwZW5kJTIwYWRzJTIwaGVhZGVyJTIwLS0lM0UlMjIlMkMlMjJzbG90c0VuYWJsZWQlMjIlM0FmYWxzZSUyQyUyMnNsb3RTaXplTWFwJTIyJTNBbnVsbCUyQyUyMnBsYWlkT3ZlcnJpZGVzJTIyJTNBbnVsbCU3RCUyQyUyMnN0cmluZ3MlMjIlM0ElN0IlMjJpbWRiLWhvbWVwYWdlLWJvdHRvbS1kaXNjbGFpbWVyLXRpdGxlJTIyJTNBJTIyJTIyJTJDJTIyaW1kYi1ob21lcGFnZS1ib3R0b20tZGlzY2xhaW1lci1tZXNzYWdlJTIyJTNBJTIyJTIyJTdEJTJDJTIyZm9vdGVyJTIyJTNBJTdCJTIyUmVzcG9uc2l2ZUZvb3Rlck1vZGVsJTIyJTNBJTdCJTIyc2hvd0lNRGJUVkxpbmslMjIlM0FmYWxzZSUyQyUyMmRlc2t0b3BMaW5rJTIyJTNBJTIyaHR0cHMlM0ElMkYlMkZ3d3cuaW1kYi5jb20lMkYlM0Ztb2RlJTNEZGVza3RvcCUyNnJlZl8lM0RtX2Z0X2RzayUyMiUyQyUyMnNob3dEZXNrdG9wTGluayUyMiUzQWZhbHNlJTdEJTdEJTJDJTIyd2VibGFiRXhwZXJpbWVudHMlMjIlM0ElN0IlMjJJTURCX1RSVVNUQVJDX0dEUFJfQ09PS0lFX0NPTVBMSUFOQ0VfMjc0NzAwJTIyJTNBJTIyQyUyMiUyQyUyMklNREJfSE9NRVBBR0VfQVVUT1JPVEFURV8yNTU4NTElMjIlM0ElMjJUMSUyMiUyQyUyMklNREJfTkVYVF9SRURJUkVDVF9XSEFUX1RPX1dBVENIXzI3NjQxMyUyMiUzQSUyMlQxJTIyJTJDJTIySU1EQl8yNjcyMzklMjIlM0ElMjJDJTIyJTdEJTJDJTIydXNlclNpZ25lZEluJTIyJTNBZmFsc2UlN0Q=\";</script><script defer src=\"https://m.media-amazon.com/images/I/81D3iqNaALL.js\"></script>\\n<script defer src=\"https://m.media-amazon.com/images/I/61SeeyqsNHL.js\"></script>\\n<script defer src=\"https://m.media-amazon.com/images/I/71BctOmrhjL.js\"></script>\\n<script defer src=\"https://m.media-amazon.com/images/I/61IuCnjrlZL.js\"></script>\\n<script defer src=\"https://m.media-amazon.com/images/I/61NVy36fA8L.js\"></script>\\n<script defer src=\"https://m.media-amazon.com/images/I/41HSVPl2o4L.js\"></script>\\n<script defer src=\"https://m.media-amazon.com/images/I/81xBXvanyzL.js\"></script>\\n<script defer src=\"https://m.media-amazon.com/images/I/61OTeemcs1L.js\"></script>\\n<script defer src=\"https://m.media-amazon.com/images/I/61dLaNPnPoL.js\"></script>\\n<script defer src=\"https://m.media-amazon.com/images/I/31827uXCh4L.js\"></script>\\n<script defer src=\"https://m.media-amazon.com/images/I/51tPwODjYvL.js\"></script>\\n<script defer src=\"https://m.media-amazon.com/images/I/417+7IWvuPL.js\"></script>\\n<script defer src=\"https://m.media-amazon.com/images/I/31CVeMZywWL.js\"></script>\\n<script defer src=\"https://m.media-amazon.com/images/I/41Dm6cYzV6L.js\"></script>\\n<script defer src=\"https://m.media-amazon.com/images/I/5129P-6KQBL.js\"></script>\\n<script defer src=\"https://m.media-amazon.com/images/I/41HTohEqnNL.js\"></script>\\n<script defer src=\"https://m.media-amazon.com/images/I/31ITDZb0c1L.js\"></script>\\n<script defer src=\"https://m.media-amazon.com/images/I/31QrkV2biWL.js\"></script>\\n<script defer src=\"https://m.media-amazon.com/images/I/21SGBT7Yk6L.js\"></script>\\n<script defer src=\"https://m.media-amazon.com/images/I/21CcfhEdfvL.js\"></script>\\n<script defer src=\"https://m.media-amazon.com/images/I/213VHhHRYRL.js\"></script>\\n<script defer src=\"https://m.media-amazon.com/images/I/213VrvBP8fL.js\"></script>\\n<script defer src=\"https://m.media-amazon.com/images/I/31fC5c0uGuL.js\"></script>\\n<script defer src=\"https://m.media-amazon.com/images/I/31Atlr4QWLL.js\"></script>\\n<script defer src=\"https://m.media-amazon.com/images/I/41GjDlxNgpL.js\"></script>\\n<script defer src=\"https://m.media-amazon.com/images/I/211shG6LOdL.js\"></script>\\n<script defer src=\"https://m.media-amazon.com/images/I/31mIezFCcfL.js\"></script>\\n<script defer src=\"https://m.media-amazon.com/images/I/41eC1ujB7ML.js\"></script>\\n<script defer src=\"https://m.media-amazon.com/images/I/31UD5z63D3L.js\"></script>\\n<script defer src=\"https://m.media-amazon.com/images/I/21vJ3Pr1uDL.js\"></script>\\n<script defer src=\"https://m.media-amazon.com/images/I/11Ki+Pl34wL.js\"></script>\\n<script defer src=\"https://m.media-amazon.com/images/I/01xfXgM7bsL.js\"></script>\\n<script defer src=\"https://m.media-amazon.com/images/I/61Ka2ezTX9L.js\"></script>\\n<script defer src=\"https://m.media-amazon.com/images/I/01GOzucAB9L.js\"></script>\\n<script defer src=\"https://m.media-amazon.com/images/I/01zuBCOPcIL.js\"></script>\\n<script defer src=\"https://m.media-amazon.com/images/I/019vMGkrlkL.js\"></script>\\n<script defer src=\"https://m.media-amazon.com/images/I/21th+zfZMcL.js\"></script>\\n<script defer src=\"https://m.media-amazon.com/images/I/11igy6+WUkL.js\"></script>\\n<script defer src=\"https://m.media-amazon.com/images/I/11UNuUz7BzL.js\"></script>\\n<script defer src=\"https://m.media-amazon.com/images/I/11icVjx0trL.js\"></script>\\n<script defer src=\"https://m.media-amazon.com/images/I/21QhnrxvhtL.js\"></script>\\n<script defer src=\"https://m.media-amazon.com/images/I/11S4fR+qCGL.js\"></script>\\n<script defer src=\"https://m.media-amazon.com/images/I/01EjywnajPL.js\"></script>\\n<script defer src=\"https://m.media-amazon.com/images/I/01eEXY1YetL.js\"></script>\\n<script defer src=\"https://m.media-amazon.com/images/I/21n5fdlWBhL.js\"></script>\\n<script defer src=\"https://m.media-amazon.com/images/I/21a9eB+eAFL.js\"></script>\\n<script defer src=\"https://m.media-amazon.com/images/I/51i8pVL1GgL.js\"></script>            </body></html>'"
      ]
     },
     "metadata": {},
     "execution_count": 96
    }
   ],
   "source": [
    "page.page"
   ]
  },
  {
   "cell_type": "code",
   "execution_count": 31,
   "metadata": {},
   "outputs": [
    {
     "output_type": "execute_result",
     "data": {
      "text/plain": [
       "mappingproxy({'__module__': '__main__',\n",
       "              '__init__': <function __main__.WebPage.__init__(self, url)>,\n",
       "              'url': <property at 0x7fde2cbb14a0>,\n",
       "              'page': <property at 0x7fde2cb9b270>,\n",
       "              'page_size': <property at 0x7fde2cbb14f0>,\n",
       "              'time_elapsed': <property at 0x7fde2cbb1540>,\n",
       "              'download_page': <function __main__.WebPage.download_page(self)>,\n",
       "              '__dict__': <attribute '__dict__' of 'WebPage' objects>,\n",
       "              '__weakref__': <attribute '__weakref__' of 'WebPage' objects>,\n",
       "              '__doc__': None})"
      ]
     },
     "metadata": {},
     "execution_count": 31
    }
   ],
   "source": [
    "WebPage.__dict__"
   ]
  },
  {
   "cell_type": "code",
   "execution_count": null,
   "metadata": {},
   "outputs": [],
   "source": []
  }
 ],
 "metadata": {
  "kernelspec": {
   "display_name": "Python 3",
   "language": "python",
   "name": "python3"
  },
  "language_info": {
   "codemirror_mode": {
    "name": "ipython",
    "version": 3
   },
   "file_extension": ".py",
   "mimetype": "text/x-python",
   "name": "python",
   "nbconvert_exporter": "python",
   "pygments_lexer": "ipython3",
   "version": "3.8.5-final"
  }
 },
 "nbformat": 4,
 "nbformat_minor": 2
}