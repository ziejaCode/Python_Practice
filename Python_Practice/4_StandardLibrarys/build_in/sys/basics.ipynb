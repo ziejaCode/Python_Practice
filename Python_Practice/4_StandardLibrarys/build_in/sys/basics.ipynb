{
 "metadata": {
  "language_info": {
   "codemirror_mode": {
    "name": "ipython",
    "version": 3
   },
   "file_extension": ".py",
   "mimetype": "text/x-python",
   "name": "python",
   "nbconvert_exporter": "python",
   "pygments_lexer": "ipython3",
   "version": "3.8.6"
  },
  "orig_nbformat": 2,
  "kernelspec": {
   "name": "python3",
   "display_name": "Python 3.8.6 64-bit"
  },
  "metadata": {
   "interpreter": {
    "hash": "0b15b737317ee57d023fd1135e68b8999dc64b0fb76512e8c43c46da68401b6e"
   }
  },
  "interpreter": {
   "hash": "fbe238fbd6722883a25f0e99a6b32a532e1e5c4d6bc62cce666becd368f75eaf"
  }
 },
 "nbformat": 4,
 "nbformat_minor": 2,
 "cells": [
  {
   "cell_type": "code",
   "execution_count": null,
   "metadata": {},
   "outputs": [],
   "source": [
    "\"\"\"\n",
    ">>> help(sys)\n",
    " \n",
    "Help on built-in module sys:\n",
    " \n",
    "NAME\n",
    "    sys\n",
    " \n",
    "MODULE REFERENCE\n",
    "    https://docs.python.org/3.8/library/sys\n",
    "    \n",
    "    The following documentation is automatically generated from the Python\n",
    "    source files.  It may be incomplete, incorrect or include features that\n",
    "    are considered implementation detail and may vary between Python\n",
    "    implementations.  When in doubt, consult the module reference at the\n",
    "    location listed above.\n",
    " \n",
    "DESCRIPTION\n",
    "    This module provides access to some objects used or maintained by the\n",
    "    interpreter and to functions that interact strongly with the interpreter.\n",
    "    \n",
    "    Dynamic objects:\n",
    "    \n",
    "    argv -- command line arguments; argv[0] is the script pathname if known\n",
    "    path -- module search path; path[0] is the script directory, else ''\n",
    "    modules -- dictionary of loaded modules\n",
    "    \n",
    "    displayhook -- called to show results in an interactive session\n",
    "    excepthook -- called to handle any uncaught exception other than SystemExit\n",
    "      To customize printing in an interactive session or to install a custom\n",
    "      top-level exception handler, assign other functions to replace these.\n",
    "    \n",
    "    stdin -- standard input file object; used by input()\n",
    "    stdout -- standard output file object; used by print()\n",
    "    stderr -- standard error object; used for error messages\n",
    "      By assigning other file objects (or objects that behave like files)\n",
    "      to these, it is possible to redirect all of the interpreter's I/O.\n",
    "    \n",
    "    last_type -- type of last uncaught exception\n",
    "    last_value -- value of last uncaught exception\n",
    "    last_traceback -- traceback of last uncaught exception\n",
    "      These three are only available in an interactive session after a\n",
    "      traceback has been printed.\n",
    "\"\"\""
   ]
  },
  {
   "cell_type": "code",
   "execution_count": null,
   "metadata": {},
   "outputs": [],
   "source": [
    "# Python sys Module - https://www.programcreek.com/python/index/2/sys \n",
    "\n",
    "# Python modules : sys - https://www.youtube.com/watch?v=qZy9pb5BCsU"
   ]
  },
  {
   "cell_type": "code",
   "execution_count": null,
   "metadata": {},
   "outputs": [],
   "source": []
  },
  {
   "cell_type": "code",
   "execution_count": 2,
   "metadata": {},
   "outputs": [
    {
     "output_type": "execute_result",
     "data": {
      "text/plain": [
       "'win32'"
      ]
     },
     "metadata": {},
     "execution_count": 2
    }
   ],
   "source": [
    "import sys\n",
    "\n",
    "sys.platform"
   ]
  },
  {
   "cell_type": "code",
   "execution_count": 20,
   "metadata": {},
   "outputs": [
    {
     "output_type": "execute_result",
     "data": {
      "text/plain": [
       "<ipykernel.displayhook.ZMQShellDisplayHook at 0x13fd2d0>"
      ]
     },
     "metadata": {},
     "execution_count": 20
    }
   ],
   "source": [
    "sys.displayhook"
   ]
  },
  {
   "cell_type": "code",
   "execution_count": 22,
   "metadata": {},
   "outputs": [
    {
     "output_type": "execute_result",
     "data": {
      "text/plain": [
       "<traceback at 0x71c18c8>"
      ]
     },
     "metadata": {},
     "execution_count": 22
    }
   ],
   "source": [
    "sys.last_traceback"
   ]
  },
  {
   "cell_type": "code",
   "execution_count": 19,
   "metadata": {},
   "outputs": [
    {
     "output_type": "execute_result",
     "data": {
      "text/plain": [
       "ython_0_29_21'>,\n",
       " 'zmq.backend.cython.message': <module 'zmq.backend.cython.message' from 'C:\\\\Users\\\\Marty\\\\AppData\\\\Roaming\\\\Python\\\\Python37\\\\site-packages\\\\zmq\\\\backend\\\\cython\\\\message.cp37-win32.pyd'>,\n",
       " 'zmq.error': <module 'zmq.error' from 'C:\\\\Users\\\\Marty\\\\AppData\\\\Roaming\\\\Python\\\\Python37\\\\site-packages\\\\zmq\\\\error.py'>,\n",
       " 'zmq.backend.cython.context': <module 'zmq.backend.cython.context' from 'C:\\\\Users\\\\Marty\\\\AppData\\\\Roaming\\\\Python\\\\Python37\\\\site-packages\\\\zmq\\\\backend\\\\cython\\\\context.cp37-win32.pyd'>,\n",
       " 'zmq.backend.cython.socket': <module 'zmq.backend.cython.socket' from 'C:\\\\Users\\\\Marty\\\\AppData\\\\Roaming\\\\Python\\\\Python37\\\\site-packages\\\\zmq\\\\backend\\\\cython\\\\socket.cp37-win32.pyd'>,\n",
       " 'zmq.backend.cython.utils': <module 'zmq.backend.cython.utils' from 'C:\\\\Users\\\\Marty\\\\AppData\\\\Roaming\\\\Python\\\\Python37\\\\site-packages\\\\zmq\\\\backend\\\\cython\\\\utils.cp37-win32.pyd'>,\n",
       " 'zmq.backend.cython._poll': <module 'zmq.backend.cython._poll' from 'C:\\\\Users\\\\Marty\\\\AppData\\\\Roaming\\\\Python\\\\Python37\\\\site-packages\\\\zmq\\\\backend\\\\cython\\\\_poll.cp37-win32.pyd'>,\n",
       " 'zmq.backend.cython._version': <module 'zmq.backend.cython._version' from 'C:\\\\Users\\\\Marty\\\\AppData\\\\Roaming\\\\Python\\\\Python37\\\\site-packages\\\\zmq\\\\backend\\\\cython\\\\_version.cp37-win32.pyd'>,\n",
       " 'zmq.backend.cython._device': <module 'zmq.backend.cython._device' from 'C:\\\\Users\\\\Marty\\\\AppData\\\\Roaming\\\\Python\\\\Python37\\\\site-packages\\\\zmq\\\\backend\\\\cython\\\\_device.cp37-win32.pyd'>,\n",
       " 'zmq.backend.cython._proxy_steerable': <module 'zmq.backend.cython._proxy_steerable' from 'C:\\\\Users\\\\Marty\\\\AppData\\\\Roaming\\\\Python\\\\Python37\\\\site-packages\\\\zmq\\\\backend\\\\cython\\\\_proxy_steerable.cp37-win32.pyd'>,\n",
       " 'zmq.sugar': <module 'zmq.sugar' from 'C:\\\\Users\\\\Marty\\\\AppData\\\\Roaming\\\\Python\\\\Python37\\\\site-packages\\\\zmq\\\\sugar\\\\__init__.py'>,\n",
       " 'zmq.sugar.constants': <module 'zmq.sugar.constants' from 'C:\\\\Users\\\\Marty\\\\AppData\\\\Roaming\\\\Python\\\\Python37\\\\site-packages\\\\zmq\\\\sugar\\\\constants.py'>,\n",
       " 'zmq.utils': <module 'zmq.utils' from 'C:\\\\Users\\\\Marty\\\\AppData\\\\Roaming\\\\Python\\\\Python37\\\\site-packages\\\\zmq\\\\utils\\\\__init__.py'>,\n",
       " 'zmq.utils.constant_names': <module 'zmq.utils.constant_names' from 'C:\\\\Users\\\\Marty\\\\AppData\\\\Roaming\\\\Python\\\\Python37\\\\site-packages\\\\zmq\\\\utils\\\\constant_names.py'>,\n",
       " 'zmq.sugar.context': <module 'zmq.sugar.context' from 'C:\\\\Users\\\\Marty\\\\AppData\\\\Roaming\\\\Python\\\\Python37\\\\site-packages\\\\zmq\\\\sugar\\\\context.py'>,\n",
       " 'zmq.sugar.attrsettr': <module 'zmq.sugar.attrsettr' from 'C:\\\\Users\\\\Marty\\\\AppData\\\\Roaming\\\\Python\\\\Python37\\\\site-packages\\\\zmq\\\\sugar\\\\attrsettr.py'>,\n",
       " 'zmq.sugar.socket': <module 'zmq.sugar.socket' from 'C:\\\\Users\\\\Marty\\\\AppData\\\\Roaming\\\\Python\\\\Python37\\\\site-packages\\\\zmq\\\\sugar\\\\socket.py'>,\n",
       " 'zmq.sugar.poll': <module 'zmq.sugar.poll' from 'C:\\\\Users\\\\Marty\\\\AppData\\\\Roaming\\\\Python\\\\Python37\\\\site-packages\\\\zmq\\\\sugar\\\\poll.py'>,\n",
       " 'zmq.utils.jsonapi': <module 'zmq.utils.jsonapi' from 'C:\\\\Users\\\\Marty\\\\AppData\\\\Roaming\\\\Python\\\\Python37\\\\site-packages\\\\zmq\\\\utils\\\\jsonapi.py'>,\n",
       " 'zmq.utils.strtypes': <module 'zmq.utils.strtypes' from 'C:\\\\Users\\\\Marty\\\\AppData\\\\Roaming\\\\Python\\\\Python37\\\\site-packages\\\\zmq\\\\utils\\\\strtypes.py'>,\n",
       " 'zmq.sugar.frame': <module 'zmq.sugar.frame' from 'C:\\\\Users\\\\Marty\\\\AppData\\\\Roaming\\\\Python\\\\Python37\\\\site-packages\\\\zmq\\\\sugar\\\\frame.py'>,\n",
       " 'zmq.sugar.tracker': <module 'zmq.sugar.tracker' from 'C:\\\\Users\\\\Marty\\\\AppData\\\\Roaming\\\\Python\\\\Python37\\\\site-packages\\\\zmq\\\\sugar\\\\tracker.py'>,\n",
       " 'zmq.sugar.version': <module 'zmq.sugar.version' from 'C:\\\\Users\\\\Marty\\\\AppData\\\\Roaming\\\\Python\\\\Python37\\\\site-packages\\\\zmq\\\\sugar\\\\version.py'>,\n",
       " 'zmq.sugar.stopwatch': <module 'zmq.sugar.stopwatch' from 'C:\\\\Users\\\\Marty\\\\AppData\\\\Roaming\\\\Python\\\\Python37\\\\site-packages\\\\zmq\\\\sugar\\\\stopwatch.py'>,\n",
       " 'jupyter_client.localinterfaces': <module 'jupyter_client.localinterfaces' from 'C:\\\\Users\\\\Marty\\\\AppData\\\\Roaming\\\\Python\\\\Python37\\\\site-packages\\\\jupyter_client\\\\localinterfaces.py'>,\n",
       " 'jupyter_core': <module 'jupyter_core' from 'C:\\\\Users\\\\Marty\\\\AppData\\\\Roaming\\\\Python\\\\Python37\\\\site-packages\\\\jupyter_core\\\\__init__.py'>,\n",
       " 'jupyter_core.version': <module 'jupyter_core.version' from 'C:\\\\Users\\\\Marty\\\\AppData\\\\Roaming\\\\Python\\\\Python37\\\\site-packages\\\\jupyter_core\\\\version.py'>,\n",
       " 'jupyter_core.paths': <module 'jupyter_core.paths' from 'C:\\\\Users\\\\Marty\\\\AppData\\\\Roaming\\\\Python\\\\Python37\\\\site-packages\\\\jupyter_core\\\\paths.py'>,\n",
       " 'distutils': <module 'distutils' from 'C:\\\\Users\\\\Marty\\\\AppData\\\\Local\\\\Programs\\\\Python\\\\Python37-32\\\\lib\\\\distutils\\\\__init__.py'>,\n",
       " 'distutils.util': <module 'distutils.util' from 'C:\\\\Users\\\\Marty\\\\AppData\\\\Local\\\\Programs\\\\Python\\\\Python37-32\\\\lib\\\\distutils\\\\util.py'>,\n",
       " 'distutils.errors': <module 'distutils.errors' from 'C:\\\\Users\\\\Marty\\\\AppData\\\\Local\\\\Programs\\\\Python\\\\Python37-32\\\\lib\\\\distutils\\\\errors.py'>,\n",
       " 'distutils.dep_util': <module 'distutils.dep_util' from 'C:\\\\Users\\\\Marty\\\\AppData\\\\Local\\\\Programs\\\\Python\\\\Python37-32\\\\lib\\\\distutils\\\\dep_util.py'>,\n",
       " 'distutils.spawn': <module 'distutils.spawn' from 'C:\\\\Users\\\\Marty\\\\AppData\\\\Local\\\\Programs\\\\Python\\\\Python37-32\\\\lib\\\\distutils\\\\spawn.py'>,\n",
       " 'distutils.debug': <module 'distutils.debug' from 'C:\\\\Users\\\\Marty\\\\AppData\\\\Local\\\\Programs\\\\Python\\\\Python37-32\\\\lib\\\\distutils\\\\debug.py'>,\n",
       " 'distutils.log': <module 'distutils.log' from 'C:\\\\Users\\\\Marty\\\\AppData\\\\Local\\\\Programs\\\\Python\\\\Python37-32\\\\lib\\\\distutils\\\\log.py'>,\n",
       " 'jupyter_client.launcher': <module 'jupyter_client.launcher' from 'C:\\\\Users\\\\Marty\\\\AppData\\\\Roaming\\\\Python\\\\Python37\\\\site-packages\\\\jupyter_client\\\\launcher.py'>,\n",
       " 'traitlets.log': <module 'traitlets.log' from 'C:\\\\Users\\\\Marty\\\\AppData\\\\Roaming\\\\Python\\\\Python37\\\\site-packages\\\\traitlets\\\\log.py'>,\n",
       " 'jupyter_client.client': <module 'jupyter_client.client' from 'C:\\\\Users\\\\Marty\\\\AppData\\\\Roaming\\\\Python\\\\Python37\\\\site-packages\\\\jupyter_client\\\\client.py'>,\n",
       " 'jupyter_client.channels': <module 'jupyter_client.channels' from 'C:\\\\Users\\\\Marty\\\\AppData\\\\Roaming\\\\Python\\\\Python37\\\\site-packages\\\\jupyter_client\\\\channels.py'>,\n",
       " 'jupyter_client.channelsabc': <module 'jupyter_client.channelsabc' from 'C:\\\\Users\\\\Marty\\\\AppData\\\\Roaming\\\\Python\\\\Python37\\\\site-packages\\\\jupyter_client\\\\channelsabc.py'>,\n",
       " 'jupyter_client.clientabc': <module 'jupyter_client.clientabc' from 'C:\\\\Users\\\\Marty\\\\AppData\\\\Roaming\\\\Python\\\\Python37\\\\site-packages\\\\jupyter_client\\\\clientabc.py'>,\n",
       " 'jupyter_client.manager': <module 'jupyter_client.manager' from 'C:\\\\Users\\\\Marty\\\\AppData\\\\Roaming\\\\Python\\\\Python37\\\\site-packages\\\\jupyter_client\\\\manager.py'>,\n",
       " 'ipython_genutils.importstring': <module 'ipython_genutils.importstring' from 'C:\\\\Users\\\\Marty\\\\AppData\\\\Roaming\\\\Python\\\\Python37\\\\site-packages\\\\ipython_genutils\\\\importstring.py'>,\n",
       " 'jupyter_client.kernelspec': <module 'jupyter_client.kernelspec' from 'C:\\\\Users\\\\Marty\\\\AppData\\\\Roaming\\\\Python\\\\Python37\\\\site-packages\\\\jupyter_client\\\\kernelspec.py'>,\n",
       " 'jupyter_client.managerabc': <module 'jupyter_client.managerabc' from 'C:\\\\Users\\\\Marty\\\\AppData\\\\Roaming\\\\Python\\\\Python37\\\\site-packages\\\\jupyter_client\\\\managerabc.py'>,\n",
       " 'jupyter_client.blocking': <module 'jupyter_client.blocking' from 'C:\\\\Users\\\\Marty\\\\AppData\\\\Roaming\\\\Python\\\\Python37\\\\site-packages\\\\jupyter_client\\\\blocking\\\\__init__.py'>,\n",
       " 'jupyter_client.blocking.client': <module 'jupyter_client.blocking.client' from 'C:\\\\Users\\\\Marty\\\\AppData\\\\Roaming\\\\Python\\\\Python37\\\\site-packages\\\\jupyter_client\\\\blocking\\\\client.py'>,\n",
       " 'jupyter_client.blocking.channels': <module 'jupyter_client.blocking.channels' from 'C:\\\\Users\\\\Marty\\\\AppData\\\\Roaming\\\\Python\\\\Python37\\\\site-packages\\\\jupyter_client\\\\blocking\\\\channels.py'>,\n",
       " 'jupyter_client.asynchronous': <module 'jupyter_client.asynchronous' from 'C:\\\\Users\\\\Marty\\\\AppData\\\\Roaming\\\\Python\\\\Python37\\\\site-packages\\\\jupyter_client\\\\asynchronous\\\\__init__.py'>,\n",
       " 'jupyter_client.asynchronous.client': <module 'jupyter_client.asynchronous.client' from 'C:\\\\Users\\\\Marty\\\\AppData\\\\Roaming\\\\Python\\\\Python37\\\\site-packages\\\\jupyter_client\\\\asynchronous\\\\client.py'>,\n",
       " 'zmq.asyncio': <module 'zmq.asyncio' from 'C:\\\\Users\\\\Marty\\\\AppData\\\\Roaming\\\\Python\\\\Python37\\\\site-packages\\\\zmq\\\\asyncio\\\\__init__.py'>,\n",
       " 'zmq._future': <module 'zmq._future' from 'C:\\\\Users\\\\Marty\\\\AppData\\\\Roaming\\\\Python\\\\Python37\\\\site-packages\\\\zmq\\\\_future.py'>,\n",
       " 'jupyter_client.asynchronous.channels': <module 'jupyter_client.asynchronous.channels' from 'C:\\\\Users\\\\Marty\\\\AppData\\\\Roaming\\\\Python\\\\Python37\\\\site-packages\\\\jupyter_client\\\\asynchronous\\\\channels.py'>,\n",
       " 'jupyter_client.multikernelmanager': <module 'jupyter_client.multikernelmanager' from 'C:\\\\Users\\\\Marty\\\\AppData\\\\Roaming\\\\Python\\\\Python37\\\\site-packages\\\\jupyter_client\\\\multikernelmanager.py'>,\n",
       " 'uuid': <module 'uuid' from 'C:\\\\Users\\\\Marty\\\\AppData\\\\Local\\\\Programs\\\\Python\\\\Python37-32\\\\lib\\\\uuid.py'>,\n",
       " 'ipykernel.kernelapp': <module 'ipykernel.kernelapp' from 'C:\\\\Users\\\\Marty\\\\AppData\\\\Roaming\\\\Python\\\\Python37\\\\site-packages\\\\ipykernel\\\\kernelapp.py'>,\n",
       " 'tornado': <module 'tornado' from 'C:\\\\Users\\\\Marty\\\\AppData\\\\Roaming\\\\Python\\\\Python37\\\\site-packages\\\\tornado\\\\__init__.py'>,\n",
       " 'tornado.ioloop': <module 'tornado.ioloop' from 'C:\\\\Users\\\\Marty\\\\AppData\\\\Roaming\\\\Python\\\\Python37\\\\site-packages\\\\tornado\\\\ioloop.py'>,\n",
       " 'numbers': <module 'numbers' from 'C:\\\\Users\\\\Marty\\\\AppData\\\\Local\\\\Programs\\\\Python\\\\Python37-32\\\\lib\\\\numbers.py'>,\n",
       " 'tornado.concurrent': <module 'tornado.concurrent' from 'C:\\\\Users\\\\Marty\\\\AppData\\\\Roaming\\\\Python\\\\Python37\\\\site-packages\\\\tornado\\\\concurrent.py'>,\n",
       " 'tornado.log': <module 'tornado.log' from 'C:\\\\Users\\\\Marty\\\\AppData\\\\Roaming\\\\Python\\\\Python37\\\\site-packages\\\\tornado\\\\log.py'>,\n",
       " 'logging.handlers': <module 'logging.handlers' from 'C:\\\\Users\\\\Marty\\\\AppData\\\\Local\\\\Programs\\\\Python\\\\Python37-32\\\\lib\\\\logging\\\\handlers.py'>,\n",
       " 'tornado.escape': <module 'tornado.escape' from 'C:\\\\Users\\\\Marty\\\\AppData\\\\Roaming\\\\Python\\\\Python37\\\\site-packages\\\\tornado\\\\escape.py'>,\n",
       " 'tornado.util': <module 'tornado.util' from 'C:\\\\Users\\\\Marty\\\\AppData\\\\Roaming\\\\Python\\\\Python37\\\\site-packages\\\\tornado\\\\util.py'>,\n",
       " 'tornado.speedups': <module 'tornado.speedups' from 'C:\\\\Users\\\\Marty\\\\AppData\\\\Roaming\\\\Python\\\\Python37\\\\site-packages\\\\tornado\\\\speedups.cp37-win32.pyd'>,\n",
       " 'colorama': <module 'colorama' from 'C:\\\\Users\\\\Marty\\\\AppData\\\\Roaming\\\\Python\\\\Python37\\\\site-packages\\\\colorama\\\\__init__.py'>,\n",
       " 'colorama.initialise': <module 'colorama.initialise' from 'C:\\\\Users\\\\Marty\\\\AppData\\\\Roaming\\\\Python\\\\Python37\\\\site-packages\\\\colorama\\\\initialise.py'>,\n",
       " 'colorama.ansitowin32': <module 'colorama.ansitowin32' from 'C:\\\\Users\\\\Marty\\\\AppData\\\\Roaming\\\\Python\\\\Python37\\\\site-packages\\\\colorama\\\\ansitowin32.py'>,\n",
       " 'colorama.ansi': <module 'colorama.ansi' from 'C:\\\\Users\\\\Marty\\\\AppData\\\\Roaming\\\\Python\\\\Python37\\\\site-packages\\\\colorama\\\\ansi.py'>,\n",
       " 'colorama.winterm': <module 'colorama.winterm' from 'C:\\\\Users\\\\Marty\\\\AppData\\\\Roaming\\\\Python\\\\Python37\\\\site-packages\\\\colorama\\\\winterm.py'>,\n",
       " 'colorama.win32': <module 'colorama.win32' from 'C:\\\\Users\\\\Marty\\\\AppData\\\\Roaming\\\\Python\\\\Python37\\\\site-packages\\\\colorama\\\\win32.py'>,\n",
       " 'zmq.eventloop': <module 'zmq.eventloop' from 'C:\\\\Users\\\\Marty\\\\AppData\\\\Roaming\\\\Python\\\\Python37\\\\site-packages\\\\zmq\\\\eventloop\\\\__init__.py'>,\n",
       " 'zmq.eventloop.ioloop': <module 'zmq.eventloop.ioloop' from 'C:\\\\Users\\\\Marty\\\\AppData\\\\Roaming\\\\Python\\\\Python37\\\\site-packages\\\\zmq\\\\eventloop\\\\ioloop.py'>,\n",
       " 'tornado.platform': <module 'tornado.platform' from 'C:\\\\Users\\\\Marty\\\\AppData\\\\Roaming\\\\Python\\\\Python37\\\\site-packages\\\\tornado\\\\platform\\\\__init__.py'>,\n",
       " 'tornado.platform.asyncio': <module 'tornado.platform.asyncio' from 'C:\\\\Users\\\\Marty\\\\AppData\\\\Roaming\\\\Python\\\\Python37\\\\site-packages\\\\tornado\\\\platform\\\\asyncio.py'>,\n",
       " 'tornado.gen': <module 'tornado.gen' from 'C:\\\\Users\\\\Marty\\\\AppData\\\\Roaming\\\\Python\\\\Python37\\\\site-packages\\\\tornado\\\\gen.py'>,\n",
       " 'zmq.eventloop.zmqstream': <module 'zmq.eventloop.zmqstream' from 'C:\\\\Users\\\\Marty\\\\AppData\\\\Roaming\\\\Python\\\\Python37\\\\site-packages\\\\zmq\\\\eventloop\\\\zmqstream.py'>,\n",
       " 'ipykernel.iostream': <module 'ipykernel.iostream' from 'C:\\\\Users\\\\Marty\\\\AppData\\\\Roaming\\\\Python\\\\Python37\\\\site-packages\\\\ipykernel\\\\iostream.py'>,\n",
       " 'imp': <module 'imp' from 'C:\\\\Users\\\\Marty\\\\AppData\\\\Local\\\\Programs\\\\Python\\\\Python37-32\\\\lib\\\\imp.py'>,\n",
       " 'jupyter_client.session': <module 'jupyter_client.session' from 'C:\\\\Users\\\\Marty\\\\AppData\\\\Roaming\\\\Python\\\\Python37\\\\site-packages\\\\jupyter_client\\\\session.py'>,\n",
       " 'hmac': <module 'hmac' from 'C:\\\\Users\\\\Marty\\\\AppData\\\\Local\\\\Programs\\\\Python\\\\Python37-32\\\\lib\\\\hmac.py'>,\n",
       " 'jupyter_client.jsonutil': <module 'jupyter_client.jsonutil' from 'C:\\\\Users\\\\Marty\\\\AppData\\\\Roaming\\\\Python\\\\Python37\\\\site-packages\\\\jupyter_client\\\\jsonutil.py'>,\n",
       " 'dateutil': <module 'dateutil' from 'C:\\\\Users\\\\Marty\\\\AppData\\\\Local\\\\Programs\\\\Python\\\\Python37-32\\\\lib\\\\site-packages\\\\dateutil\\\\__init__.py'>,\n",
       " 'dateutil._version': <module 'dateutil._version' from 'C:\\\\Users\\\\Marty\\\\AppData\\\\Local\\\\Programs\\\\Python\\\\Python37-32\\\\lib\\\\site-packages\\\\dateutil\\\\_version.py'>,\n",
       " 'dateutil.parser': <module 'dateutil.parser' from 'C:\\\\Users\\\\Marty\\\\AppData\\\\Local\\\\Programs\\\\Python\\\\Python37-32\\\\lib\\\\site-packages\\\\dateutil\\\\parser\\\\__init__.py'>,\n",
       " 'dateutil.parser._parser': <module 'dateutil.parser._parser' from 'C:\\\\Users\\\\Marty\\\\AppData\\\\Local\\\\Programs\\\\Python\\\\Python37-32\\\\lib\\\\site-packages\\\\dateutil\\\\parser\\\\_parser.py'>,\n",
       " 'six': <module 'six' from 'C:\\\\Users\\\\Marty\\\\AppData\\\\Roaming\\\\Python\\\\Python37\\\\site-packages\\\\six.py'>,\n",
       " 'decimal': <module 'decimal' from 'C:\\\\Users\\\\Marty\\\\AppData\\\\Local\\\\Programs\\\\Python\\\\Python37-32\\\\lib\\\\decimal.py'>,\n",
       " '_decimal': <module '_decimal' from 'C:\\\\Users\\\\Marty\\\\AppData\\\\Local\\\\Programs\\\\Python\\\\Python37-32\\\\DLLs\\\\_decimal.pyd'>,\n",
       " 'dateutil.relativedelta': <module 'dateutil.relativedelta' from 'C:\\\\Users\\\\Marty\\\\AppData\\\\Local\\\\Programs\\\\Python\\\\Python37-32\\\\lib\\\\site-packages\\\\dateutil\\\\relativedelta.py'>,\n",
       " 'dateutil._common': <module 'dateutil._common' from 'C:\\\\Users\\\\Marty\\\\AppData\\\\Local\\\\Programs\\\\Python\\\\Python37-32\\\\lib\\\\site-packages\\\\dateutil\\\\_common.py'>,\n",
       " 'dateutil.tz': <module 'dateutil.tz' from 'C:\\\\Users\\\\Marty\\\\AppData\\\\Local\\\\Programs\\\\Python\\\\Python37-32\\\\lib\\\\site-packages\\\\dateutil\\\\tz\\\\__init__.py'>,\n",
       " 'dateutil.tz.tz': <module 'dateutil.tz.tz' from 'C:\\\\Users\\\\Marty\\\\AppData\\\\Local\\\\Programs\\\\Python\\\\Python37-32\\\\lib\\\\site-packages\\\\dateutil\\\\tz\\\\tz.py'>,\n",
       " 'six.moves': <module 'six.moves' (<six._SixMetaPathImporter object at 0x05141CD0>)>,\n",
       " 'dateutil.tz._common': <module 'dateutil.tz._common' from 'C:\\\\Users\\\\Marty\\\\AppData\\\\Local\\\\Programs\\\\Python\\\\Python37-32\\\\lib\\\\site-packages\\\\dateutil\\\\tz\\\\_common.py'>,\n",
       " 'dateutil.tz._factories': <module 'dateutil.tz._factories' from 'C:\\\\Users\\\\Marty\\\\AppData\\\\Local\\\\Programs\\\\Python\\\\Python37-32\\\\lib\\\\site-packages\\\\dateutil\\\\tz\\\\_factories.py'>,\n",
       " 'dateutil.tz.win': <module 'dateutil.tz.win' from 'C:\\\\Users\\\\Marty\\\\AppData\\\\Local\\\\Programs\\\\Python\\\\Python37-32\\\\lib\\\\site-packages\\\\dateutil\\\\tz\\\\win.py'>,\n",
       " 'dateutil.parser.isoparser': <module 'dateutil.parser.isoparser' from 'C:\\\\Users\\\\Marty\\\\AppData\\\\Local\\\\Programs\\\\Python\\\\Python37-32\\\\lib\\\\site-packages\\\\dateutil\\\\parser\\\\isoparser.py'>,\n",
       " '_strptime': <module '_strptime' from 'C:\\\\Users\\\\Marty\\\\AppData\\\\Local\\\\Programs\\\\Python\\\\Python37-32\\\\lib\\\\_strptime.py'>,\n",
       " 'jupyter_client.adapter': <module 'jupyter_client.adapter' from 'C:\\\\Users\\\\Marty\\\\AppData\\\\Roaming\\\\Python\\\\Python37\\\\site-packages\\\\jupyter_client\\\\adapter.py'>,\n",
       " 'ipykernel.heartbeat': <module 'ipykernel.heartbeat' from 'C:\\\\Users\\\\Marty\\\\AppData\\\\Roaming\\\\Python\\\\Python37\\\\site-packages\\\\ipykernel\\\\heartbeat.py'>,\n",
       " 'ipykernel.ipkernel': <module 'ipykernel.ipkernel' from 'C:\\\\Users\\\\Marty\\\\AppData\\\\Roaming\\\\Python\\\\Python37\\\\site-packages\\\\ipykernel\\\\ipkernel.py'>,\n",
       " 'IPython.utils.tokenutil': <module 'IPython.utils.tokenutil' from 'C:\\\\Users\\\\Marty\\\\AppData\\\\Roaming\\\\Python\\\\Python37\\\\site-packages\\\\IPython\\\\utils\\\\tokenutil.py'>,\n",
       " 'ipykernel.comm': <module 'ipykernel.comm' from 'C:\\\\Users\\\\Marty\\\\AppData\\\\Roaming\\\\Python\\\\Python37\\\\site-packages\\\\ipykernel\\\\comm\\\\__init__.py'>,\n",
       " 'ipykernel.comm.manager': <module 'ipykernel.comm.manager' from 'C:\\\\Users\\\\Marty\\\\AppData\\\\Roaming\\\\Python\\\\Python37\\\\site-packages\\\\ipykernel\\\\comm\\\\manager.py'>,\n",
       " 'ipykernel.comm.comm': <module 'ipykernel.comm.comm' from 'C:\\\\Users\\\\Marty\\\\AppData\\\\Roaming\\\\Python\\\\Python37\\\\site-packages\\\\ipykernel\\\\comm\\\\comm.py'>,\n",
       " 'ipykernel.kernelbase': <module 'ipykernel.kernelbase' from 'C:\\\\Users\\\\Marty\\\\AppData\\\\Roaming\\\\Python\\\\Python37\\\\site-packages\\\\ipykernel\\\\kernelbase.py'>,\n",
       " 'tornado.queues': <module 'tornado.queues' from 'C:\\\\Users\\\\Marty\\\\AppData\\\\Roaming\\\\Python\\\\Python37\\\\site-packages\\\\tornado\\\\queues.py'>,\n",
       " 'tornado.locks': <module 'tornado.locks' from 'C:\\\\Users\\\\Marty\\\\AppData\\\\Roaming\\\\Python\\\\Python37\\\\site-packages\\\\tornado\\\\locks.py'>,\n",
       " 'ipykernel.jsonutil': <module 'ipykernel.jsonutil' from 'C:\\\\Users\\\\Marty\\\\AppData\\\\Roaming\\\\Python\\\\Python37\\\\site-packages\\\\ipykernel\\\\jsonutil.py'>,\n",
       " 'ipykernel.zmqshell': <module 'ipykernel.zmqshell' from 'C:\\\\Users\\\\Marty\\\\AppData\\\\Roaming\\\\Python\\\\Python37\\\\site-packages\\\\ipykernel\\\\zmqshell.py'>,\n",
       " 'IPython.core.payloadpage': <module 'IPython.core.payloadpage' from 'C:\\\\Users\\\\Marty\\\\AppData\\\\Roaming\\\\Python\\\\Python37\\\\site-packages\\\\IPython\\\\core\\\\payloadpage.py'>,\n",
       " 'ipykernel.displayhook': <module 'ipykernel.displayhook' from 'C:\\\\Users\\\\Marty\\\\AppData\\\\Roaming\\\\Python\\\\Python37\\\\site-packages\\\\ipykernel\\\\displayhook.py'>,\n",
       " 'ipykernel.eventloops': <module 'ipykernel.eventloops' from 'C:\\\\Users\\\\Marty\\\\AppData\\\\Roaming\\\\Python\\\\Python37\\\\site-packages\\\\ipykernel\\\\eventloops.py'>,\n",
       " 'distutils.version': <module 'distutils.version' from 'C:\\\\Users\\\\Marty\\\\AppData\\\\Local\\\\Programs\\\\Python\\\\Python37-32\\\\lib\\\\distutils\\\\version.py'>,\n",
       " 'ipykernel.parentpoller': <module 'ipykernel.parentpoller' from 'C:\\\\Users\\\\Marty\\\\AppData\\\\Roaming\\\\Python\\\\Python37\\\\site-packages\\\\ipykernel\\\\parentpoller.py'>,\n",
       " 'win32api': <module 'win32api' from 'C:\\\\Users\\\\Marty\\\\AppData\\\\Roaming\\\\Python\\\\Python37\\\\site-packages\\\\win32\\\\win32api.pyd'>,\n",
       " 'win32security': <module 'win32security' from 'C:\\\\Users\\\\Marty\\\\AppData\\\\Roaming\\\\Python\\\\Python37\\\\site-packages\\\\win32\\\\win32security.pyd'>,\n",
       " 'ntsecuritycon': <module 'ntsecuritycon' from 'C:\\\\Users\\\\Marty\\\\AppData\\\\Roaming\\\\Python\\\\Python37\\\\site-packages\\\\win32\\\\lib\\\\ntsecuritycon.py'>,\n",
       " 'faulthandler': <module 'faulthandler' (built-in)>,\n",
       " 'ipykernel.datapub': <module 'ipykernel.datapub' from 'C:\\\\Users\\\\Marty\\\\AppData\\\\Roaming\\\\Python\\\\Python37\\\\site-packages\\\\ipykernel\\\\datapub.py'>,\n",
       " 'ipykernel.serialize': <module 'ipykernel.serialize' from 'C:\\\\Users\\\\Marty\\\\AppData\\\\Roaming\\\\Python\\\\Python37\\\\site-packages\\\\ipykernel\\\\serialize.py'>,\n",
       " 'ipykernel.pickleutil': <module 'ipykernel.pickleutil' from 'C:\\\\Users\\\\Marty\\\\AppData\\\\Roaming\\\\Python\\\\Python37\\\\site-packages\\\\ipykernel\\\\pickleutil.py'>,\n",
       " 'ipykernel.codeutil': <module 'ipykernel.codeutil' from 'C:\\\\Users\\\\Marty\\\\AppData\\\\Roaming\\\\Python\\\\Python37\\\\site-packages\\\\ipykernel\\\\codeutil.py'>,\n",
       " 'IPython.core.completerlib': <module 'IPython.core.completerlib' from 'C:\\\\Users\\\\Marty\\\\AppData\\\\Roaming\\\\Python\\\\Python37\\\\site-packages\\\\IPython\\\\core\\\\completerlib.py'>,\n",
       " 'storemagic': <module 'storemagic' from 'C:\\\\Users\\\\Marty\\\\AppData\\\\Roaming\\\\Python\\\\Python37\\\\site-packages\\\\IPython\\\\extensions\\\\storemagic.py'>,\n",
       " 'pygments.styles.default': <module 'pygments.styles.default' from 'C:\\\\Users\\\\Marty\\\\AppData\\\\Roaming\\\\Python\\\\Python37\\\\site-packages\\\\pygments\\\\styles\\\\default.py'>,\n",
       " 'jedi.inference.finder': <module 'jedi.inference.finder' from 'C:\\\\Users\\\\Marty\\\\AppData\\\\Roaming\\\\Python\\\\Python37\\\\site-packages\\\\jedi\\\\inference\\\\finder.py'>,\n",
       " 'jedi.inference.star_args': <module 'jedi.inference.star_args' from 'C:\\\\Users\\\\Marty\\\\AppData\\\\Roaming\\\\Python\\\\Python37\\\\site-packages\\\\jedi\\\\inference\\\\star_args.py'>}"
      ]
     },
     "metadata": {},
     "execution_count": 19
    }
   ],
   "source": [
    "sys.modules"
   ]
  },
  {
   "cell_type": "code",
   "execution_count": 18,
   "metadata": {},
   "outputs": [
    {
     "output_type": "execute_result",
     "data": {
      "text/plain": [
       "['c:\\\\Users\\\\Marty\\\\Desktop\\\\Git Repositories\\\\Python_Practice\\\\Python_Practice\\\\4_StandardLibrarys\\\\build_in\\\\sys',\n",
       " 'c:\\\\Users\\\\Marty\\\\.vscode\\\\extensions\\\\ms-toolsai.jupyter-2021.6.832593372\\\\pythonFiles',\n",
       " 'c:\\\\Users\\\\Marty\\\\.vscode\\\\extensions\\\\ms-toolsai.jupyter-2021.6.832593372\\\\pythonFiles',\n",
       " 'c:\\\\Users\\\\Marty\\\\.vscode\\\\extensions\\\\ms-toolsai.jupyter-2021.6.832593372\\\\pythonFiles\\\\lib\\\\python',\n",
       " 'C:\\\\Users\\\\Marty\\\\AppData\\\\Local\\\\Programs\\\\Python\\\\Python37-32\\\\python37.zip',\n",
       " 'C:\\\\Users\\\\Marty\\\\AppData\\\\Local\\\\Programs\\\\Python\\\\Python37-32\\\\DLLs',\n",
       " 'C:\\\\Users\\\\Marty\\\\AppData\\\\Local\\\\Programs\\\\Python\\\\Python37-32\\\\lib',\n",
       " 'C:\\\\Users\\\\Marty\\\\AppData\\\\Local\\\\Programs\\\\Python\\\\Python37-32',\n",
       " '',\n",
       " 'C:\\\\Users\\\\Marty\\\\AppData\\\\Roaming\\\\Python\\\\Python37\\\\site-packages',\n",
       " 'C:\\\\Users\\\\Marty\\\\AppData\\\\Roaming\\\\Python\\\\Python37\\\\site-packages\\\\win32',\n",
       " 'C:\\\\Users\\\\Marty\\\\AppData\\\\Roaming\\\\Python\\\\Python37\\\\site-packages\\\\win32\\\\lib',\n",
       " 'C:\\\\Users\\\\Marty\\\\AppData\\\\Roaming\\\\Python\\\\Python37\\\\site-packages\\\\Pythonwin',\n",
       " 'C:\\\\Users\\\\Marty\\\\AppData\\\\Local\\\\Programs\\\\Python\\\\Python37-32\\\\lib\\\\site-packages',\n",
       " 'C:\\\\Users\\\\Marty\\\\AppData\\\\Roaming\\\\Python\\\\Python37\\\\site-packages\\\\IPython\\\\extensions',\n",
       " 'C:\\\\Users\\\\Marty\\\\.ipython']"
      ]
     },
     "metadata": {},
     "execution_count": 18
    }
   ],
   "source": [
    "sys.path"
   ]
  },
  {
   "cell_type": "code",
   "execution_count": 5,
   "metadata": {},
   "outputs": [
    {
     "output_type": "execute_result",
     "data": {
      "text/plain": [
       "'Copyright (c) 2001-2020 Python Software Foundation.\\nAll Rights Reserved.\\n\\nCopyright (c) 2000 BeOpen.com.\\nAll Rights Reserved.\\n\\nCopyright (c) 1995-2001 Corporation for National Research Initiatives.\\nAll Rights Reserved.\\n\\nCopyright (c) 1991-1995 Stichting Mathematisch Centrum, Amsterdam.\\nAll Rights Reserved.'"
      ]
     },
     "metadata": {},
     "execution_count": 5
    }
   ],
   "source": [
    "a = sys.copyright\n",
    "a"
   ]
  },
  {
   "cell_type": "code",
   "execution_count": 4,
   "metadata": {},
   "outputs": [
    {
     "output_type": "execute_result",
     "data": {
      "text/plain": [
       "'3.8.6 (tags/v3.8.6:db45529, Sep 23 2020, 15:52:53) [MSC v.1927 64 bit (AMD64)]'"
      ]
     },
     "metadata": {},
     "execution_count": 4
    }
   ],
   "source": [
    "s = sys.version\n",
    "s"
   ]
  },
  {
   "cell_type": "code",
   "execution_count": 15,
   "metadata": {},
   "outputs": [
    {
     "output_type": "execute_result",
     "data": {
      "text/plain": [
       "0.332"
      ]
     },
     "metadata": {},
     "execution_count": 15
    }
   ],
   "source": [
    "# this is how to get size of the object\n",
    "\n",
    "sys.getsizeof(a)/1000"
   ]
  },
  {
   "cell_type": "code",
   "execution_count": 7,
   "metadata": {},
   "outputs": [
    {
     "output_type": "stream",
     "name": "stdout",
     "text": [
      "something to write"
     ]
    }
   ],
   "source": [
    "sys.stdout.write('something to write')"
   ]
  },
  {
   "cell_type": "code",
   "execution_count": 6,
   "metadata": {},
   "outputs": [
    {
     "output_type": "stream",
     "name": "stderr",
     "text": [
      "something to write"
     ]
    }
   ],
   "source": [
    "sys.stderr.write('something to write')"
   ]
  },
  {
   "cell_type": "code",
   "execution_count": null,
   "metadata": {},
   "outputs": [],
   "source": []
  }
 ]
}