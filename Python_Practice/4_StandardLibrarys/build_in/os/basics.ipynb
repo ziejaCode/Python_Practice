{
 "metadata": {
  "language_info": {
   "codemirror_mode": {
    "name": "ipython",
    "version": 3
   },
   "file_extension": ".py",
   "mimetype": "text/x-python",
   "name": "python",
   "nbconvert_exporter": "python",
   "pygments_lexer": "ipython3",
   "version": "3.8.6"
  },
  "orig_nbformat": 2,
  "kernelspec": {
   "name": "python386jvsc74a57bd0fbe238fbd6722883a25f0e99a6b32a532e1e5c4d6bc62cce666becd368f75eaf",
   "display_name": "Python 3.8.6 64-bit"
  },
  "metadata": {
   "interpreter": {
    "hash": "fbe238fbd6722883a25f0e99a6b32a532e1e5c4d6bc62cce666becd368f75eaf"
   }
  }
 },
 "nbformat": 4,
 "nbformat_minor": 2,
 "cells": [
  {
   "cell_type": "code",
   "execution_count": 4,
   "metadata": {},
   "outputs": [
    {
     "output_type": "stream",
     "name": "stdout",
     "text": [
      "['DirEntry', 'F_OK', 'MutableMapping', 'O_APPEND', 'O_BINARY', 'O_CREAT', 'O_EXCL', 'O_NOINHERIT', 'O_RANDOM', 'O_RDONLY', 'O_RDWR', 'O_SEQUENTIAL', 'O_SHORT_LIVED', 'O_TEMPORARY', 'O_TEXT', 'O_TRUNC', 'O_WRONLY', 'P_DETACH', 'P_NOWAIT', 'P_NOWAITO', 'P_OVERLAY', 'P_WAIT', 'PathLike', 'R_OK', 'SEEK_CUR', 'SEEK_END', 'SEEK_SET', 'TMP_MAX', 'W_OK', 'X_OK', '_AddedDllDirectory', '_Environ', '__all__', '__builtins__', '__cached__', '__doc__', '__file__', '__loader__', '__name__', '__package__', '__spec__', '_check_methods', '_execvpe', '_exists', '_exit', '_fspath', '_get_exports_list', '_putenv', '_unsetenv', '_wrap_close', 'abc', 'abort', 'access', 'add_dll_directory', 'altsep', 'chdir', 'chmod', 'close', 'closerange', 'cpu_count', 'curdir', 'defpath', 'device_encoding', 'devnull', 'dup', 'dup2', 'environ', 'error', 'execl', 'execle', 'execlp', 'execlpe', 'execv', 'execve', 'execvp', 'execvpe', 'extsep', 'fdopen', 'fsdecode', 'fsencode', 'fspath', 'fstat', 'fsync', 'ftruncate', 'get_exec_path', 'get_handle_inheritable', 'get_inheritable', 'get_terminal_size', 'getcwd', 'getcwdb', 'getenv', 'getlogin', 'getpid', 'getppid', 'isatty', 'kill', 'linesep', 'link', 'listdir', 'lseek', 'lstat', 'makedirs', 'mkdir', 'name', 'open', 'pardir', 'path', 'pathsep', 'pipe', 'popen', 'putenv', 'read', 'readlink', 'remove', 'removedirs', 'rename', 'renames', 'replace', 'rmdir', 'scandir', 'sep', 'set_handle_inheritable', 'set_inheritable', 'spawnl', 'spawnle', 'spawnv', 'spawnve', 'st', 'startfile', 'stat', 'stat_result', 'statvfs_result', 'strerror', 'supports_bytes_environ', 'supports_dir_fd', 'supports_effective_ids', 'supports_fd', 'supports_follow_symlinks', 'symlink', 'sys', 'system', 'terminal_size', 'times', 'times_result', 'truncate', 'umask', 'uname_result', 'unlink', 'urandom', 'utime', 'waitpid', 'walk', 'write']\n"
     ]
    }
   ],
   "source": [
    "'''This is practice notebook for os python module.\n",
    "\n",
    "'''\n",
    "\n",
    "import os\n",
    "\n",
    "dir(os) # this will print all line by line better for reading\n",
    "\n",
    "print(dir(os))\n"
   ]
  },
  {
   "cell_type": "code",
   "execution_count": 6,
   "metadata": {},
   "outputs": [
    {
     "output_type": "stream",
     "name": "stdout",
     "text": [
      "c:\\Users\\czarn\\OneDrive\\Desktop\\VS git repositories\\Python_Practice\\Python_Practice\\4_StandardLibrarys\\build_in\\os\n"
     ]
    }
   ],
   "source": [
    "\n",
    "# get current path that you are in \n",
    "\n",
    "print(os.getcwd())"
   ]
  },
  {
   "cell_type": "code",
   "execution_count": 24,
   "metadata": {},
   "outputs": [],
   "source": [
    "# change directory to different path\n",
    "os.chdir(\"c:\\\\Users\\\\czarn\\\\OneDrive\\\\Desktop\\\\FIT\\\\\")\n",
    "\n",
    "# now check directory \n",
    "\n",
    "dir_to_check = os.getcwd()\n"
   ]
  },
  {
   "cell_type": "code",
   "execution_count": 25,
   "metadata": {},
   "outputs": [
    {
     "output_type": "execute_result",
     "data": {
      "text/plain": [
       "['2. Communication and Information Management.docx',\n",
       " '3. Leadership.docx',\n",
       " '5. Working with Others.docx',\n",
       " '6. Managing Customer Relationship.docx',\n",
       " 'Communication.docx',\n",
       " 'Test Results.pdf']"
      ]
     },
     "metadata": {},
     "execution_count": 25
    }
   ],
   "source": [
    "\n",
    "# check files and folders on a particular directory\n",
    "\n",
    "os.listdir(dir_to_check)"
   ]
  },
  {
   "cell_type": "code",
   "execution_count": 28,
   "metadata": {},
   "outputs": [],
   "source": [
    "# create new folders and directories\n",
    "\n",
    "# create directory\n",
    "os.mkdir('test.txt')\n",
    "\n"
   ]
  },
  {
   "cell_type": "code",
   "execution_count": 35,
   "metadata": {},
   "outputs": [],
   "source": [
    "# this will create directory deep structure\n",
    "\n",
    "os.makedirs('department\\employee\\hella.txt')"
   ]
  },
  {
   "cell_type": "code",
   "execution_count": 36,
   "metadata": {},
   "outputs": [
    {
     "output_type": "execute_result",
     "data": {
      "text/plain": [
       "['2. Communication and Information Management.docx',\n",
       " '3. Leadership.docx',\n",
       " '5. Working with Others.docx',\n",
       " '6. Managing Customer Relationship.docx',\n",
       " 'Communication.docx',\n",
       " 'department',\n",
       " 'Test Results.pdf']"
      ]
     },
     "metadata": {},
     "execution_count": 36
    }
   ],
   "source": [
    "os.listdir(dir_to_check)"
   ]
  },
  {
   "cell_type": "code",
   "execution_count": 32,
   "metadata": {},
   "outputs": [
    {
     "output_type": "execute_result",
     "data": {
      "text/plain": [
       "['2. Communication and Information Management.docx',\n",
       " '3. Leadership.docx',\n",
       " '5. Working with Others.docx',\n",
       " '6. Managing Customer Relationship.docx',\n",
       " 'Communication.docx',\n",
       " 'department',\n",
       " 'Test Results.pdf']"
      ]
     },
     "metadata": {},
     "execution_count": 32
    }
   ],
   "source": [
    "# deleting folders\n",
    "\n",
    "os.rmdir('test.txt')\n",
    "\n",
    "os.listdir(dir_to_check) # check"
   ]
  },
  {
   "cell_type": "code",
   "execution_count": 37,
   "metadata": {},
   "outputs": [
    {
     "output_type": "execute_result",
     "data": {
      "text/plain": [
       "['2. Communication and Information Management.docx',\n",
       " '3. Leadership.docx',\n",
       " '5. Working with Others.docx',\n",
       " '6. Managing Customer Relationship.docx',\n",
       " 'Communication.docx',\n",
       " 'Test Results.pdf']"
      ]
     },
     "metadata": {},
     "execution_count": 37
    }
   ],
   "source": [
    "# deleting folders deep structure\n",
    "\n",
    "os.removedirs('department\\employee\\hella.txt')\n",
    "\n",
    "os.listdir(dir_to_check) # check\n"
   ]
  },
  {
   "cell_type": "code",
   "execution_count": 91,
   "metadata": {},
   "outputs": [
    {
     "output_type": "execute_result",
     "data": {
      "text/plain": [
       "['2. Communication and Information Management.docx',\n",
       " '3. Leadership.docx',\n",
       " '5. Working with Others.docx',\n",
       " '6. Managing Customer Relationship.docx',\n",
       " 'Communication.docx',\n",
       " 'Test Results.pdf']"
      ]
     },
     "metadata": {},
     "execution_count": 91
    }
   ],
   "source": [
    "\n",
    "# reneme file/dir\n",
    "os.mkdir('test.txt')\n",
    "\n",
    "os.rename('test.txt', 'marian.db')\n",
    "\n",
    "os.rmdir('marian.db')\n",
    "os.listdir(dir_to_check) # check\n",
    "\n",
    "\n",
    "\n"
   ]
  },
  {
   "cell_type": "code",
   "execution_count": null,
   "metadata": {},
   "outputs": [],
   "source": []
  },
  {
   "cell_type": "code",
   "execution_count": 84,
   "metadata": {},
   "outputs": [
    {
     "output_type": "stream",
     "name": "stdout",
     "text": [
      "it is\n33206\n18577348463146048\n1754327969\n1\n0\n0\n13749\n1621690786\n1620580617\n1620575388\n"
     ]
    }
   ],
   "source": [
    "# print info about the file\n",
    "\n",
    "type(os.stat('5. Working with Others.docx'))\n",
    "\n",
    "#from __future__ import print_function\n",
    "\n",
    "try:\n",
    "    some_object_iterator = iter(os.stat('5. Working with Others.docx'))\n",
    "    print('it is')\n",
    "except TypeError as te:\n",
    "    print(some_object, 'is not iterable')\n",
    "\n",
    "for item in os.stat('5. Working with Others.docx'):\n",
    "    print(item)\n",
    "\n",
    "stat_object =  os.stat('5. Working with Others.docx')\n"
   ]
  },
  {
   "cell_type": "code",
   "execution_count": 94,
   "metadata": {},
   "outputs": [
    {
     "output_type": "stream",
     "name": "stdout",
     "text": [
      "2021-05-09 18:16:57.258363\n"
     ]
    }
   ],
   "source": [
    "# this gives you a lot info about file more to check\n",
    "stat_object.st_size\n",
    "\n",
    "\n",
    "# example of use\n",
    "from datetime import datetime\n",
    "\n",
    "mod_time = stat_object.st_mtime\n",
    "print(datetime.fromtimestamp(mod_time))"
   ]
  },
  {
   "cell_type": "code",
   "execution_count": 98,
   "metadata": {
    "tags": [
     "outputPrepend"
    ]
   },
   "outputs": [
    {
     "output_type": "stream",
     "name": "stdout",
     "text": [
      "ing_projects\\Project_1\\venv\\lib\\python3.8\\site-packages\\pip\\_internal\\network\n",
      "Directories:  ['__pycache__']\n",
      "Files:  ['auth.py', 'cache.py', 'download.py', 'session.py', 'utils.py', 'xmlrpc.py', '__init__.py']\n",
      "\n",
      "Current path:  c:\\Users\\czarn\\OneDrive\\Desktop\\VS git repositories\\Testing-with-Python-Practice\\7_various_testing_projects\\Project_1\\venv\\lib\\python3.8\\site-packages\\pip\\_internal\\network\\__pycache__\n",
      "Directories:  []\n",
      "Files:  ['auth.cpython-38.pyc', 'cache.cpython-38.pyc', 'download.cpython-38.pyc', 'session.cpython-38.pyc', 'utils.cpython-38.pyc', 'xmlrpc.cpython-38.pyc', '__init__.cpython-38.pyc']\n",
      "\n",
      "Current path:  c:\\Users\\czarn\\OneDrive\\Desktop\\VS git repositories\\Testing-with-Python-Practice\\7_various_testing_projects\\Project_1\\venv\\lib\\python3.8\\site-packages\\pip\\_internal\\operations\n",
      "Directories:  ['build', 'install', '__pycache__']\n",
      "Files:  ['check.py', 'freeze.py', 'prepare.py', '__init__.py']\n",
      "\n",
      "Current path:  c:\\Users\\czarn\\OneDrive\\Desktop\\VS git repositories\\Testing-with-Python-Practice\\7_various_testing_projects\\Project_1\\venv\\lib\\python3.8\\site-packages\\pip\\_internal\\operations\\build\n",
      "Directories:  ['__pycache__']\n",
      "Files:  ['metadata.py', 'metadata_legacy.py', 'wheel.py', 'wheel_legacy.py', '__init__.py']\n",
      "\n",
      "Current path:  c:\\Users\\czarn\\OneDrive\\Desktop\\VS git repositories\\Testing-with-Python-Practice\\7_various_testing_projects\\Project_1\\venv\\lib\\python3.8\\site-packages\\pip\\_internal\\operations\\build\\__pycache__\n",
      "Directories:  []\n",
      "Files:  ['metadata.cpython-38.pyc', 'metadata_legacy.cpython-38.pyc', 'wheel.cpython-38.pyc', 'wheel_legacy.cpython-38.pyc', '__init__.cpython-38.pyc']\n",
      "\n",
      "Current path:  c:\\Users\\czarn\\OneDrive\\Desktop\\VS git repositories\\Testing-with-Python-Practice\\7_various_testing_projects\\Project_1\\venv\\lib\\python3.8\\site-packages\\pip\\_internal\\operations\\install\n",
      "Directories:  ['__pycache__']\n",
      "Files:  ['editable_legacy.py', 'legacy.py', 'wheel.py', '__init__.py']\n",
      "\n",
      "Current path:  c:\\Users\\czarn\\OneDrive\\Desktop\\VS git repositories\\Testing-with-Python-Practice\\7_various_testing_projects\\Project_1\\venv\\lib\\python3.8\\site-packages\\pip\\_internal\\operations\\install\\__pycache__\n",
      "Directories:  []\n",
      "Files:  ['editable_legacy.cpython-38.pyc', 'legacy.cpython-38.pyc', 'wheel.cpython-38.pyc', '__init__.cpython-38.pyc']\n",
      "\n",
      "Current path:  c:\\Users\\czarn\\OneDrive\\Desktop\\VS git repositories\\Testing-with-Python-Practice\\7_various_testing_projects\\Project_1\\venv\\lib\\python3.8\\site-packages\\pip\\_internal\\operations\\__pycache__\n",
      "Directories:  []\n",
      "Files:  ['check.cpython-38.pyc', 'freeze.cpython-38.pyc', 'prepare.cpython-38.pyc', '__init__.cpython-38.pyc']\n",
      "\n",
      "Current path:  c:\\Users\\czarn\\OneDrive\\Desktop\\VS git repositories\\Testing-with-Python-Practice\\7_various_testing_projects\\Project_1\\venv\\lib\\python3.8\\site-packages\\pip\\_internal\\req\n",
      "Directories:  ['__pycache__']\n",
      "Files:  ['constructors.py', 'req_file.py', 'req_install.py', 'req_set.py', 'req_tracker.py', 'req_uninstall.py', '__init__.py']\n",
      "\n",
      "Current path:  c:\\Users\\czarn\\OneDrive\\Desktop\\VS git repositories\\Testing-with-Python-Practice\\7_various_testing_projects\\Project_1\\venv\\lib\\python3.8\\site-packages\\pip\\_internal\\req\\__pycache__\n",
      "Directories:  []\n",
      "Files:  ['constructors.cpython-38.pyc', 'req_file.cpython-38.pyc', 'req_install.cpython-38.pyc', 'req_set.cpython-38.pyc', 'req_tracker.cpython-38.pyc', 'req_uninstall.cpython-38.pyc', '__init__.cpython-38.pyc']\n",
      "\n",
      "Current path:  c:\\Users\\czarn\\OneDrive\\Desktop\\VS git repositories\\Testing-with-Python-Practice\\7_various_testing_projects\\Project_1\\venv\\lib\\python3.8\\site-packages\\pip\\_internal\\utils\n",
      "Directories:  ['__pycache__']\n",
      "Files:  ['appdirs.py', 'compat.py', 'deprecation.py', 'distutils_args.py', 'encoding.py', 'entrypoints.py', 'filesystem.py', 'filetypes.py', 'glibc.py', 'hashes.py', 'inject_securetransport.py', 'logging.py', 'marker_files.py', 'misc.py', 'models.py', 'packaging.py', 'pkg_resources.py', 'setuptools_build.py', 'subprocess.py', 'temp_dir.py', 'typing.py', 'ui.py', 'unpacking.py', 'urls.py', 'virtualenv.py', 'wheel.py', '__init__.py']\n",
      "\n",
      "Current path:  c:\\Users\\czarn\\OneDrive\\Desktop\\VS git repositories\\Testing-with-Python-Practice\\7_various_testing_projects\\Project_1\\venv\\lib\\python3.8\\site-packages\\pip\\_internal\\utils\\__pycache__\n",
      "Directories:  []\n",
      "Files:  ['appdirs.cpython-38.pyc', 'compat.cpython-38.pyc', 'deprecation.cpython-38.pyc', 'distutils_args.cpython-38.pyc', 'encoding.cpython-38.pyc', 'entrypoints.cpython-38.pyc', 'filesystem.cpython-38.pyc', 'filetypes.cpython-38.pyc', 'glibc.cpython-38.pyc', 'hashes.cpython-38.pyc', 'inject_securetransport.cpython-38.pyc', 'logging.cpython-38.pyc', 'marker_files.cpython-38.pyc', 'misc.cpython-38.pyc', 'models.cpython-38.pyc', 'packaging.cpython-38.pyc', 'pkg_resources.cpython-38.pyc', 'setuptools_build.cpython-38.pyc', 'subprocess.cpython-38.pyc', 'temp_dir.cpython-38.pyc', 'typing.cpython-38.pyc', 'ui.cpython-38.pyc', 'unpacking.cpython-38.pyc', 'urls.cpython-38.pyc', 'virtualenv.cpython-38.pyc', 'wheel.cpython-38.pyc', '__init__.cpython-38.pyc']\n",
      "\n",
      "Current path:  c:\\Users\\czarn\\OneDrive\\Desktop\\VS git repositories\\Testing-with-Python-Practice\\7_various_testing_projects\\Project_1\\venv\\lib\\python3.8\\site-packages\\pip\\_internal\\vcs\n",
      "Directories:  ['__pycache__']\n",
      "Files:  ['bazaar.py', 'git.py', 'mercurial.py', 'subversion.py', 'versioncontrol.py', '__init__.py']\n",
      "\n",
      "Current path:  c:\\Users\\czarn\\OneDrive\\Desktop\\VS git repositories\\Testing-with-Python-Practice\\7_various_testing_projects\\Project_1\\venv\\lib\\python3.8\\site-packages\\pip\\_internal\\vcs\\__pycache__\n",
      "Directories:  []\n",
      "Files:  ['bazaar.cpython-38.pyc', 'git.cpython-38.pyc', 'mercurial.cpython-38.pyc', 'subversion.cpython-38.pyc', 'versioncontrol.cpython-38.pyc', '__init__.cpython-38.pyc']\n",
      "\n",
      "Current path:  c:\\Users\\czarn\\OneDrive\\Desktop\\VS git repositories\\Testing-with-Python-Practice\\7_various_testing_projects\\Project_1\\venv\\lib\\python3.8\\site-packages\\pip\\_internal\\__pycache__\n",
      "Directories:  []\n",
      "Files:  ['build_env.cpython-38.pyc', 'cache.cpython-38.pyc', 'configuration.cpython-38.pyc', 'exceptions.cpython-38.pyc', 'legacy_resolve.cpython-38.pyc', 'locations.cpython-38.pyc', 'main.cpython-38.pyc', 'pep425tags.cpython-38.pyc', 'pyproject.cpython-38.pyc', 'self_outdated_check.cpython-38.pyc', 'wheel_builder.cpython-38.pyc', '__init__.cpython-38.pyc']\n",
      "\n",
      "Current path:  c:\\Users\\czarn\\OneDrive\\Desktop\\VS git repositories\\Testing-with-Python-Practice\\7_various_testing_projects\\Project_1\\venv\\lib\\python3.8\\site-packages\\pip\\_vendor\n",
      "Directories:  ['__pycache__']\n",
      "Files:  ['__init__.py']\n",
      "\n",
      "Current path:  c:\\Users\\czarn\\OneDrive\\Desktop\\VS git repositories\\Testing-with-Python-Practice\\7_various_testing_projects\\Project_1\\venv\\lib\\python3.8\\site-packages\\pip\\_vendor\\__pycache__\n",
      "Directories:  []\n",
      "Files:  ['__init__.cpython-38.pyc']\n",
      "\n",
      "Current path:  c:\\Users\\czarn\\OneDrive\\Desktop\\VS git repositories\\Testing-with-Python-Practice\\7_various_testing_projects\\Project_1\\venv\\lib\\python3.8\\site-packages\\pip\\__pycache__\n",
      "Directories:  []\n",
      "Files:  ['__init__.cpython-38.pyc', '__main__.cpython-38.pyc']\n",
      "\n",
      "Current path:  c:\\Users\\czarn\\OneDrive\\Desktop\\VS git repositories\\Testing-with-Python-Practice\\7_various_testing_projects\\Project_1\\venv\\lib\\python3.8\\site-packages\\pip-20.0.2.dist-info\n",
      "Directories:  []\n",
      "Files:  ['entry_points.txt', 'INSTALLER', 'LICENSE.txt', 'METADATA', 'RECORD', 'top_level.txt', 'WHEEL']\n",
      "\n",
      "Current path:  c:\\Users\\czarn\\OneDrive\\Desktop\\VS git repositories\\Testing-with-Python-Practice\\7_various_testing_projects\\Project_1\\venv\\lib\\python3.8\\site-packages\\pkg_resources\n",
      "Directories:  ['extern', '_vendor', '__pycache__']\n",
      "Files:  ['py31compat.py', '__init__.py']\n",
      "\n",
      "Current path:  c:\\Users\\czarn\\OneDrive\\Desktop\\VS git repositories\\Testing-with-Python-Practice\\7_various_testing_projects\\Project_1\\venv\\lib\\python3.8\\site-packages\\pkg_resources\\extern\n",
      "Directories:  ['__pycache__']\n",
      "Files:  ['__init__.py']\n",
      "\n",
      "Current path:  c:\\Users\\czarn\\OneDrive\\Desktop\\VS git repositories\\Testing-with-Python-Practice\\7_various_testing_projects\\Project_1\\venv\\lib\\python3.8\\site-packages\\pkg_resources\\extern\\__pycache__\n",
      "Directories:  []\n",
      "Files:  ['__init__.cpython-38.pyc']\n",
      "\n",
      "Current path:  c:\\Users\\czarn\\OneDrive\\Desktop\\VS git repositories\\Testing-with-Python-Practice\\7_various_testing_projects\\Project_1\\venv\\lib\\python3.8\\site-packages\\pkg_resources\\_vendor\n",
      "Directories:  ['packaging', '__pycache__']\n",
      "Files:  ['appdirs.py', 'pyparsing.py', 'six.py', '__init__.py']\n",
      "\n",
      "Current path:  c:\\Users\\czarn\\OneDrive\\Desktop\\VS git repositories\\Testing-with-Python-Practice\\7_various_testing_projects\\Project_1\\venv\\lib\\python3.8\\site-packages\\pkg_resources\\_vendor\\packaging\n",
      "Directories:  ['__pycache__']\n",
      "Files:  ['markers.py', 'requirements.py', 'specifiers.py', 'utils.py', 'version.py', '_compat.py', '_structures.py', '__about__.py', '__init__.py']\n",
      "\n",
      "Current path:  c:\\Users\\czarn\\OneDrive\\Desktop\\VS git repositories\\Testing-with-Python-Practice\\7_various_testing_projects\\Project_1\\venv\\lib\\python3.8\\site-packages\\pkg_resources\\_vendor\\packaging\\__pycache__\n",
      "Directories:  []\n",
      "Files:  ['markers.cpython-38.pyc', 'requirements.cpython-38.pyc', 'specifiers.cpython-38.pyc', 'utils.cpython-38.pyc', 'version.cpython-38.pyc', '_compat.cpython-38.pyc', '_structures.cpython-38.pyc', '__about__.cpython-38.pyc', '__init__.cpython-38.pyc']\n",
      "\n",
      "Current path:  c:\\Users\\czarn\\OneDrive\\Desktop\\VS git repositories\\Testing-with-Python-Practice\\7_various_testing_projects\\Project_1\\venv\\lib\\python3.8\\site-packages\\pkg_resources\\_vendor\\__pycache__\n",
      "Directories:  []\n",
      "Files:  ['appdirs.cpython-38.pyc', 'pyparsing.cpython-38.pyc', 'six.cpython-38.pyc', '__init__.cpython-38.pyc']\n",
      "\n",
      "Current path:  c:\\Users\\czarn\\OneDrive\\Desktop\\VS git repositories\\Testing-with-Python-Practice\\7_various_testing_projects\\Project_1\\venv\\lib\\python3.8\\site-packages\\pkg_resources\\__pycache__\n",
      "Directories:  []\n",
      "Files:  ['py31compat.cpython-38.pyc', '__init__.cpython-38.pyc']\n",
      "\n",
      "Current path:  c:\\Users\\czarn\\OneDrive\\Desktop\\VS git repositories\\Testing-with-Python-Practice\\7_various_testing_projects\\Project_1\\venv\\lib\\python3.8\\site-packages\\pkg_resources-0.0.0.dist-info\n",
      "Directories:  []\n",
      "Files:  ['AUTHORS.txt', 'INSTALLER', 'LICENSE.txt', 'METADATA', 'RECORD', 'WHEEL']\n",
      "\n",
      "Current path:  c:\\Users\\czarn\\OneDrive\\Desktop\\VS git repositories\\Testing-with-Python-Practice\\7_various_testing_projects\\Project_1\\venv\\lib\\python3.8\\site-packages\\setuptools\n",
      "Directories:  ['command', 'extern', '_vendor', '__pycache__']\n",
      "Files:  ['archive_util.py', 'build_meta.py', 'cli-32.exe', 'cli-64.exe', 'cli.exe', 'config.py', 'depends.py', 'dep_util.py', 'dist.py', 'errors.py', 'extension.py', 'glob.py', 'gui-32.exe', 'gui-64.exe', 'gui.exe', 'installer.py', 'launch.py', 'lib2to3_ex.py', 'monkey.py', 'msvc.py', 'namespaces.py', 'package_index.py', 'py27compat.py', 'py31compat.py', 'py33compat.py', 'py34compat.py', 'sandbox.py', 'script (dev).tmpl', 'script.tmpl', 'site-patch.py', 'ssl_support.py', 'unicode_utils.py', 'version.py', 'wheel.py', 'windows_support.py', '_deprecation_warning.py', '_imp.py', '__init__.py']\n",
      "\n",
      "Current path:  c:\\Users\\czarn\\OneDrive\\Desktop\\VS git repositories\\Testing-with-Python-Practice\\7_various_testing_projects\\Project_1\\venv\\lib\\python3.8\\site-packages\\setuptools\\command\n",
      "Directories:  ['__pycache__']\n",
      "Files:  ['alias.py', 'bdist_egg.py', 'bdist_rpm.py', 'bdist_wininst.py', 'build_clib.py', 'build_ext.py', 'build_py.py', 'develop.py', 'dist_info.py', 'easy_install.py', 'egg_info.py', 'install.py', 'install_egg_info.py', 'install_lib.py', 'install_scripts.py', 'launcher manifest.xml', 'py36compat.py', 'register.py', 'rotate.py', 'saveopts.py', 'sdist.py', 'setopt.py', 'test.py', 'upload.py', 'upload_docs.py', '__init__.py']\n",
      "\n",
      "Current path:  c:\\Users\\czarn\\OneDrive\\Desktop\\VS git repositories\\Testing-with-Python-Practice\\7_various_testing_projects\\Project_1\\venv\\lib\\python3.8\\site-packages\\setuptools\\command\\__pycache__\n",
      "Directories:  []\n",
      "Files:  ['alias.cpython-38.pyc', 'bdist_egg.cpython-38.pyc', 'bdist_rpm.cpython-38.pyc', 'bdist_wininst.cpython-38.pyc', 'build_clib.cpython-38.pyc', 'build_ext.cpython-38.pyc', 'build_py.cpython-38.pyc', 'develop.cpython-38.pyc', 'dist_info.cpython-38.pyc', 'easy_install.cpython-38.pyc', 'egg_info.cpython-38.pyc', 'install.cpython-38.pyc', 'install_egg_info.cpython-38.pyc', 'install_lib.cpython-38.pyc', 'install_scripts.cpython-38.pyc', 'py36compat.cpython-38.pyc', 'register.cpython-38.pyc', 'rotate.cpython-38.pyc', 'saveopts.cpython-38.pyc', 'sdist.cpython-38.pyc', 'setopt.cpython-38.pyc', 'test.cpython-38.pyc', 'upload.cpython-38.pyc', 'upload_docs.cpython-38.pyc', '__init__.cpython-38.pyc']\n",
      "\n",
      "Current path:  c:\\Users\\czarn\\OneDrive\\Desktop\\VS git repositories\\Testing-with-Python-Practice\\7_various_testing_projects\\Project_1\\venv\\lib\\python3.8\\site-packages\\setuptools\\extern\n",
      "Directories:  ['__pycache__']\n",
      "Files:  ['__init__.py']\n",
      "\n",
      "Current path:  c:\\Users\\czarn\\OneDrive\\Desktop\\VS git repositories\\Testing-with-Python-Practice\\7_various_testing_projects\\Project_1\\venv\\lib\\python3.8\\site-packages\\setuptools\\extern\\__pycache__\n",
      "Directories:  []\n",
      "Files:  ['__init__.cpython-38.pyc']\n",
      "\n",
      "Current path:  c:\\Users\\czarn\\OneDrive\\Desktop\\VS git repositories\\Testing-with-Python-Practice\\7_various_testing_projects\\Project_1\\venv\\lib\\python3.8\\site-packages\\setuptools\\_vendor\n",
      "Directories:  ['packaging', '__pycache__']\n",
      "Files:  ['ordered_set.py', 'pyparsing.py', 'six.py', '__init__.py']\n",
      "\n",
      "Current path:  c:\\Users\\czarn\\OneDrive\\Desktop\\VS git repositories\\Testing-with-Python-Practice\\7_various_testing_projects\\Project_1\\venv\\lib\\python3.8\\site-packages\\setuptools\\_vendor\\packaging\n",
      "Directories:  ['__pycache__']\n",
      "Files:  ['markers.py', 'requirements.py', 'specifiers.py', 'tags.py', 'utils.py', 'version.py', '_compat.py', '_structures.py', '__about__.py', '__init__.py']\n",
      "\n",
      "Current path:  c:\\Users\\czarn\\OneDrive\\Desktop\\VS git repositories\\Testing-with-Python-Practice\\7_various_testing_projects\\Project_1\\venv\\lib\\python3.8\\site-packages\\setuptools\\_vendor\\packaging\\__pycache__\n",
      "Directories:  []\n",
      "Files:  ['markers.cpython-38.pyc', 'requirements.cpython-38.pyc', 'specifiers.cpython-38.pyc', 'tags.cpython-38.pyc', 'utils.cpython-38.pyc', 'version.cpython-38.pyc', '_compat.cpython-38.pyc', '_structures.cpython-38.pyc', '__about__.cpython-38.pyc', '__init__.cpython-38.pyc']\n",
      "\n",
      "Current path:  c:\\Users\\czarn\\OneDrive\\Desktop\\VS git repositories\\Testing-with-Python-Practice\\7_various_testing_projects\\Project_1\\venv\\lib\\python3.8\\site-packages\\setuptools\\_vendor\\__pycache__\n",
      "Directories:  []\n",
      "Files:  ['ordered_set.cpython-38.pyc', 'pyparsing.cpython-38.pyc', 'six.cpython-38.pyc', '__init__.cpython-38.pyc']\n",
      "\n",
      "Current path:  c:\\Users\\czarn\\OneDrive\\Desktop\\VS git repositories\\Testing-with-Python-Practice\\7_various_testing_projects\\Project_1\\venv\\lib\\python3.8\\site-packages\\setuptools\\__pycache__\n",
      "Directories:  []\n",
      "Files:  ['archive_util.cpython-38.pyc', 'build_meta.cpython-38.pyc', 'config.cpython-38.pyc', 'depends.cpython-38.pyc', 'dep_util.cpython-38.pyc', 'dist.cpython-38.pyc', 'errors.cpython-38.pyc', 'extension.cpython-38.pyc', 'glob.cpython-38.pyc', 'installer.cpython-38.pyc', 'launch.cpython-38.pyc', 'lib2to3_ex.cpython-38.pyc', 'monkey.cpython-38.pyc', 'msvc.cpython-38.pyc', 'namespaces.cpython-38.pyc', 'package_index.cpython-38.pyc', 'py27compat.cpython-38.pyc', 'py31compat.cpython-38.pyc', 'py33compat.cpython-38.pyc', 'py34compat.cpython-38.pyc', 'sandbox.cpython-38.pyc', 'site-patch.cpython-38.pyc', 'ssl_support.cpython-38.pyc', 'unicode_utils.cpython-38.pyc', 'version.cpython-38.pyc', 'wheel.cpython-38.pyc', 'windows_support.cpython-38.pyc', '_deprecation_warning.cpython-38.pyc', '_imp.cpython-38.pyc', '__init__.cpython-38.pyc']\n",
      "\n",
      "Current path:  c:\\Users\\czarn\\OneDrive\\Desktop\\VS git repositories\\Testing-with-Python-Practice\\7_various_testing_projects\\Project_1\\venv\\lib\\python3.8\\site-packages\\setuptools-44.0.0.dist-info\n",
      "Directories:  []\n",
      "Files:  ['AUTHORS.txt', 'dependency_links.txt', 'entry_points.txt', 'INSTALLER', 'LICENSE.txt', 'METADATA', 'RECORD', 'top_level.txt', 'WHEEL', 'zip-safe']\n",
      "\n",
      "Current path:  c:\\Users\\czarn\\OneDrive\\Desktop\\VS git repositories\\Testing-with-Python-Practice\\7_various_testing_projects\\Project_1\\venv\\lib\\python3.8\\site-packages\\__pycache__\n",
      "Directories:  []\n",
      "Files:  ['easy_install.cpython-38.pyc']\n",
      "\n",
      "Current path:  c:\\Users\\czarn\\OneDrive\\Desktop\\VS git repositories\\Testing-with-Python-Practice\\7_various_testing_projects\\Project_1\\venv\\share\n",
      "Directories:  ['python-wheels']\n",
      "Files:  []\n",
      "\n",
      "Current path:  c:\\Users\\czarn\\OneDrive\\Desktop\\VS git repositories\\Testing-with-Python-Practice\\7_various_testing_projects\\Project_1\\venv\\share\\python-wheels\n",
      "Directories:  []\n",
      "Files:  ['appdirs-1.4.3-py2.py3-none-any.whl', 'CacheControl-0.12.6-py2.py3-none-any.whl', 'certifi-2019.11.28-py2.py3-none-any.whl', 'chardet-3.0.4-py2.py3-none-any.whl', 'colorama-0.4.3-py2.py3-none-any.whl', 'contextlib2-0.6.0-py2.py3-none-any.whl', 'distlib-0.3.0-py2.py3-none-any.whl', 'distro-1.4.0-py2.py3-none-any.whl', 'html5lib-1.0.1-py2.py3-none-any.whl', 'idna-2.8-py2.py3-none-any.whl', 'ipaddr-2.2.0-py2.py3-none-any.whl', 'lockfile-0.12.2-py2.py3-none-any.whl', 'msgpack-0.6.2-py2.py3-none-any.whl', 'packaging-20.3-py2.py3-none-any.whl', 'pep517-0.8.2-py2.py3-none-any.whl', 'pip-20.0.2-py2.py3-none-any.whl', 'pkg_resources-0.0.0-py2.py3-none-any.whl', 'progress-1.5-py2.py3-none-any.whl', 'pyparsing-2.4.6-py2.py3-none-any.whl', 'pytoml-0.1.21-py2.py3-none-any.whl', 'requests-2.22.0-py2.py3-none-any.whl', 'retrying-1.3.3-py2.py3-none-any.whl', 'setuptools-44.0.0-py2.py3-none-any.whl', 'six-1.14.0-py2.py3-none-any.whl', 'urllib3-1.25.8-py2.py3-none-any.whl', 'webencodings-0.5.1-py2.py3-none-any.whl', 'wheel-0.34.2-py2.py3-none-any.whl']\n",
      "\n",
      "Current path:  c:\\Users\\czarn\\OneDrive\\Desktop\\VS git repositories\\Testing-with-Python-Practice\\7_various_testing_projects\\Project_basket\n",
      "Directories:  ['__pycache__']\n",
      "Files:  ['basket.py', 'product.py', 'test_product.py']\n",
      "\n",
      "Current path:  c:\\Users\\czarn\\OneDrive\\Desktop\\VS git repositories\\Testing-with-Python-Practice\\7_various_testing_projects\\Project_basket\\__pycache__\n",
      "Directories:  []\n",
      "Files:  ['basket.cpython-37.pyc', 'product.cpython-37.pyc']\n",
      "\n",
      "Current path:  c:\\Users\\czarn\\OneDrive\\Desktop\\VS git repositories\\Testing-with-Python-Practice\\7_various_testing_projects\\testing_practice2\n",
      "Directories:  []\n",
      "Files:  ['App1.py', 'testApp1.py']\n",
      "\n",
      "Current path:  c:\\Users\\czarn\\OneDrive\\Desktop\\VS git repositories\\Testing-with-Python-Practice\\7_various_testing_projects\\test_practice1\n",
      "Directories:  ['htmlcov', 'test_case_1', '__pycache__']\n",
      "Files:  ['.coverage', 'calc.py', 'employee.py', 'test_calc.py', 'test_emoloyee.py']\n",
      "\n",
      "Current path:  c:\\Users\\czarn\\OneDrive\\Desktop\\VS git repositories\\Testing-with-Python-Practice\\7_various_testing_projects\\test_practice1\\htmlcov\n",
      "Directories:  []\n",
      "Files:  ['calc_py.html', 'coverage_html.js', 'favicon_32.png', 'index.html', 'jquery.ba-throttle-debounce.min.js', 'jquery.hotkeys.js', 'jquery.isonscreen.js', 'jquery.min.js', 'jquery.tablesorter.min.js', 'keybd_closed.png', 'keybd_open.png', 'status.json', 'style.css', 'test_calc_py.html']\n",
      "\n",
      "Current path:  c:\\Users\\czarn\\OneDrive\\Desktop\\VS git repositories\\Testing-with-Python-Practice\\7_various_testing_projects\\test_practice1\\test_case_1\n",
      "Directories:  ['__pycache__']\n",
      "Files:  ['test1.py', 'Widget.py']\n",
      "\n",
      "Current path:  c:\\Users\\czarn\\OneDrive\\Desktop\\VS git repositories\\Testing-with-Python-Practice\\7_various_testing_projects\\test_practice1\\test_case_1\\__pycache__\n",
      "Directories:  []\n",
      "Files:  ['Widget.cpython-37.pyc']\n",
      "\n",
      "Current path:  c:\\Users\\czarn\\OneDrive\\Desktop\\VS git repositories\\Testing-with-Python-Practice\\7_various_testing_projects\\test_practice1\\__pycache__\n",
      "Directories:  []\n",
      "Files:  ['calc.cpython-37.pyc', 'calc.cpython-38.pyc', 'employee.cpython-36.pyc', 'employee.cpython-37.pyc', 'employee.cpython-38.pyc', 'test_calc.cpython-37-pytest-5.3.5.pyc', 'test_calc.cpython-37.pyc', 'test_calc.cpython-38.pyc', 'test_emoloyee.cpython-37-pytest-5.3.5.pyc']\n",
      "\n",
      "Current path:  c:\\Users\\czarn\\OneDrive\\Desktop\\VS git repositories\\web development\n",
      "Directories:  []\n",
      "Files:  []\n",
      "\n"
     ]
    }
   ],
   "source": [
    "# return \n",
    "\n",
    "for dirpath, dirnames, filenames in os.walk(\"c:\\\\Users\\\\czarn\\\\OneDrive\\\\Desktop\\\\\"):\n",
    "    print('Current path: ', dirpath)\n",
    "    print('Directories: ', dirnames)\n",
    "    print('Files: ', filenames)\n",
    "    print()"
   ]
  },
  {
   "cell_type": "code",
   "execution_count": 103,
   "metadata": {},
   "outputs": [
    {
     "output_type": "stream",
     "name": "stdout",
     "text": [
      "None\n"
     ]
    }
   ],
   "source": [
    "\n",
    "print(os.environ.get('Desktop'))"
   ]
  },
  {
   "cell_type": "code",
   "execution_count": 108,
   "metadata": {},
   "outputs": [
    {
     "output_type": "execute_result",
     "data": {
      "text/plain": [
       "'c:\\\\Users\\\\czarn\\\\OneDrive\\\\Desktop\\\\FIT'"
      ]
     },
     "metadata": {},
     "execution_count": 108
    }
   ],
   "source": [
    "# creating path\n",
    "os.chdir(\"c:\\\\Users\\\\czarn\\\\OneDrive\\\\Desktop\")\n",
    "dir_to_check = os.getcwd()\n",
    "\n",
    "file_path = os.path.join(os.getcwd(), 'FIT')\n",
    "file_path"
   ]
  },
  {
   "cell_type": "code",
   "execution_count": 109,
   "metadata": {},
   "outputs": [
    {
     "output_type": "execute_result",
     "data": {
      "text/plain": [
       "'Desktop'"
      ]
     },
     "metadata": {},
     "execution_count": 109
    }
   ],
   "source": [
    "\n",
    "os.path.basename(dir_to_check)"
   ]
  },
  {
   "cell_type": "code",
   "execution_count": 110,
   "metadata": {},
   "outputs": [
    {
     "output_type": "execute_result",
     "data": {
      "text/plain": [
       "'c:\\\\Users\\\\czarn\\\\OneDrive'"
      ]
     },
     "metadata": {},
     "execution_count": 110
    }
   ],
   "source": [
    "os.path.dirname(dir_to_check)"
   ]
  },
  {
   "cell_type": "code",
   "execution_count": 111,
   "metadata": {},
   "outputs": [
    {
     "output_type": "execute_result",
     "data": {
      "text/plain": [
       "('c:\\\\Users\\\\czarn\\\\OneDrive', 'Desktop')"
      ]
     },
     "metadata": {},
     "execution_count": 111
    }
   ],
   "source": [
    "os.path.split(dir_to_check)"
   ]
  },
  {
   "cell_type": "code",
   "execution_count": 112,
   "metadata": {},
   "outputs": [
    {
     "output_type": "execute_result",
     "data": {
      "text/plain": [
       "True"
      ]
     },
     "metadata": {},
     "execution_count": 112
    }
   ],
   "source": [
    "os.path.exists(dir_to_check)"
   ]
  },
  {
   "cell_type": "code",
   "execution_count": 114,
   "metadata": {},
   "outputs": [
    {
     "output_type": "execute_result",
     "data": {
      "text/plain": [
       "True"
      ]
     },
     "metadata": {},
     "execution_count": 114
    }
   ],
   "source": [
    "os.path.isdir(dir_to_check)"
   ]
  },
  {
   "cell_type": "code",
   "execution_count": 115,
   "metadata": {},
   "outputs": [
    {
     "output_type": "execute_result",
     "data": {
      "text/plain": [
       "False"
      ]
     },
     "metadata": {},
     "execution_count": 115
    }
   ],
   "source": [
    "os.path.isfile(dir_to_check)"
   ]
  },
  {
   "cell_type": "code",
   "execution_count": 116,
   "metadata": {},
   "outputs": [
    {
     "output_type": "execute_result",
     "data": {
      "text/plain": [
       "('c:\\\\Users\\\\czarn\\\\OneDrive\\\\Desktop', '')"
      ]
     },
     "metadata": {},
     "execution_count": 116
    }
   ],
   "source": [
    "os.path.splitext(dir_to_check)"
   ]
  },
  {
   "cell_type": "code",
   "execution_count": null,
   "metadata": {},
   "outputs": [],
   "source": []
  }
 ]
}