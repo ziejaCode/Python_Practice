{
 "metadata": {
  "language_info": {
   "codemirror_mode": {
    "name": "ipython",
    "version": 3
   },
   "file_extension": ".py",
   "mimetype": "text/x-python",
   "name": "python",
   "nbconvert_exporter": "python",
   "pygments_lexer": "ipython3",
   "version": "3.8.5-final"
  },
  "orig_nbformat": 2,
  "kernelspec": {
   "name": "python36964bit0bc70279e1ae40098a673b37a979fad8",
   "display_name": "Python 3.6.9 64-bit"
  }
 },
 "nbformat": 4,
 "nbformat_minor": 2,
 "cells": [
  {
   "cell_type": "code",
   "execution_count": 26,
   "metadata": {},
   "outputs": [
    {
     "output_type": "stream",
     "name": "stdout",
     "text": [
      "[0, 1, 16, 81, 256, 625, 1296, 2401, 4096, 6561]\n"
     ]
    }
   ],
   "source": [
    "\n",
    "def square_nums(nums):\n",
    "    result = []\n",
    "    for i in nums:\n",
    "        result.append(i*i)\n",
    "    return result\n",
    "\n",
    "my_nums = square_nums([0, 1, 4, 9, 16, 25, 36, 49, 64, 81])\n",
    "\n",
    "print(my_nums)"
   ]
  },
  {
   "cell_type": "code",
   "execution_count": 25,
   "metadata": {},
   "outputs": [
    {
     "output_type": "stream",
     "name": "stdout",
     "text": [
      "0\n1\n16\n"
     ]
    }
   ],
   "source": [
    "# this is generator verion of the above\n",
    "\n",
    "def square_nums1(nums):\n",
    "    for i in nums:\n",
    "        yield(i*i)\n",
    "    \n",
    "\n",
    "my_nums = square_nums1([0, 1, 4, 9, 16, 25, 36, 49, 64, 81])\n",
    "\n",
    "#for num in my_nums:\n",
    "#next(my_nums)\n",
    "#next(my_nums)\n",
    "print(next(my_nums))\n",
    "#next(my_nums)\n",
    "print(next(my_nums))\n",
    "#next(my_nums)\n",
    "print(next(my_nums))\n",
    "    \n"
   ]
  },
  {
   "cell_type": "code",
   "execution_count": null,
   "metadata": {},
   "outputs": [],
   "source": [
    "# write it as list comprehension\n",
    "\n",
    "nums = [0, 1, 4, 9, 16, 25, 36, 49, 64, 81]\n",
    "\n",
    "squares = (i*i for i in nums)\n",
    "\n",
    "print(squares)\n",
    "\n",
    "for num in squares:\n",
    "    print(num)"
   ]
  },
  {
   "cell_type": "code",
   "execution_count": null,
   "metadata": {},
   "outputs": [],
   "source": []
  }
 ]
}