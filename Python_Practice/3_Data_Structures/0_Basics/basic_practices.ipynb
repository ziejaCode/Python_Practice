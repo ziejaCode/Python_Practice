{
 "metadata": {
  "language_info": {
   "codemirror_mode": {
    "name": "ipython",
    "version": 3
   },
   "file_extension": ".py",
   "mimetype": "text/x-python",
   "name": "python",
   "nbconvert_exporter": "python",
   "pygments_lexer": "ipython3",
   "version": "3.8.5-final"
  },
  "orig_nbformat": 2,
  "kernelspec": {
   "name": "python36964bit0bc70279e1ae40098a673b37a979fad8",
   "display_name": "Python 3.6.9 64-bit"
  }
 },
 "nbformat": 4,
 "nbformat_minor": 2,
 "cells": [
  {
   "cell_type": "code",
   "execution_count": 22,
   "metadata": {},
   "outputs": [],
   "source": [
    "l = [1, 2, 3]\n",
    "t = {1, 2, 3}\n",
    "s = '123'\n"
   ]
  },
  {
   "cell_type": "code",
   "execution_count": 23,
   "metadata": {},
   "outputs": [
    {
     "output_type": "execute_result",
     "data": {
      "text/plain": [
       "3"
      ]
     },
     "metadata": {},
     "execution_count": 23
    }
   ],
   "source": [
    "len(s)"
   ]
  },
  {
   "cell_type": "code",
   "execution_count": 24,
   "metadata": {},
   "outputs": [
    {
     "output_type": "execute_result",
     "data": {
      "text/plain": [
       "1"
      ]
     },
     "metadata": {},
     "execution_count": 24
    }
   ],
   "source": [
    "min(t)"
   ]
  },
  {
   "cell_type": "code",
   "execution_count": 25,
   "metadata": {},
   "outputs": [
    {
     "output_type": "execute_result",
     "data": {
      "text/plain": [
       "3"
      ]
     },
     "metadata": {},
     "execution_count": 25
    }
   ],
   "source": [
    "max(l)"
   ]
  },
  {
   "cell_type": "code",
   "execution_count": 26,
   "metadata": {},
   "outputs": [
    {
     "output_type": "execute_result",
     "data": {
      "text/plain": [
       "True"
      ]
     },
     "metadata": {},
     "execution_count": 26
    }
   ],
   "source": [
    "2 in range(3)"
   ]
  },
  {
   "cell_type": "code",
   "execution_count": 27,
   "metadata": {},
   "outputs": [],
   "source": [
    "s = 'gnu is not unix'"
   ]
  },
  {
   "cell_type": "code",
   "execution_count": 28,
   "metadata": {},
   "outputs": [
    {
     "output_type": "execute_result",
     "data": {
      "text/plain": [
       "<enumerate at 0x7fc37a37d900>"
      ]
     },
     "metadata": {},
     "execution_count": 28
    }
   ],
   "source": [
    "enumerate(s)"
   ]
  },
  {
   "cell_type": "code",
   "execution_count": 29,
   "metadata": {},
   "outputs": [
    {
     "output_type": "execute_result",
     "data": {
      "text/plain": [
       "[(0, 'g'),\n",
       " (1, 'n'),\n",
       " (2, 'u'),\n",
       " (3, ' '),\n",
       " (4, 'i'),\n",
       " (5, 's'),\n",
       " (6, ' '),\n",
       " (7, 'n'),\n",
       " (8, 'o'),\n",
       " (9, 't'),\n",
       " (10, ' '),\n",
       " (11, 'u'),\n",
       " (12, 'n'),\n",
       " (13, 'i'),\n",
       " (14, 'x')]"
      ]
     },
     "metadata": {},
     "execution_count": 29
    }
   ],
   "source": [
    "list(enumerate(s))"
   ]
  },
  {
   "cell_type": "code",
   "execution_count": 30,
   "metadata": {},
   "outputs": [
    {
     "output_type": "execute_result",
     "data": {
      "text/plain": [
       "13"
      ]
     },
     "metadata": {},
     "execution_count": 30
    }
   ],
   "source": [
    "s.index('i', 5)"
   ]
  },
  {
   "cell_type": "code",
   "execution_count": 31,
   "metadata": {},
   "outputs": [],
   "source": [
    "# slicing\n",
    "l = [1, 2, 4, 5, 7, 8, 90, 45, 67, 78]"
   ]
  },
  {
   "cell_type": "code",
   "execution_count": 32,
   "metadata": {},
   "outputs": [
    {
     "output_type": "execute_result",
     "data": {
      "text/plain": [
       "'u i'"
      ]
     },
     "metadata": {},
     "execution_count": 32
    }
   ],
   "source": [
    "s[2:5]"
   ]
  },
  {
   "cell_type": "code",
   "execution_count": 33,
   "metadata": {},
   "outputs": [
    {
     "output_type": "execute_result",
     "data": {
      "text/plain": [
       "'gnu is not unix'"
      ]
     },
     "metadata": {},
     "execution_count": 33
    }
   ],
   "source": [
    "s[:]"
   ]
  },
  {
   "cell_type": "code",
   "execution_count": 34,
   "metadata": {},
   "outputs": [
    {
     "output_type": "execute_result",
     "data": {
      "text/plain": [
       "'gnu is'"
      ]
     },
     "metadata": {},
     "execution_count": 34
    }
   ],
   "source": [
    "s[:6]"
   ]
  },
  {
   "cell_type": "code",
   "execution_count": 35,
   "metadata": {},
   "outputs": [
    {
     "output_type": "execute_result",
     "data": {
      "text/plain": [
       "' not unix'"
      ]
     },
     "metadata": {},
     "execution_count": 35
    }
   ],
   "source": [
    "s[6:]"
   ]
  },
  {
   "cell_type": "code",
   "execution_count": 61,
   "metadata": {},
   "outputs": [],
   "source": [
    "def func(chees):\n",
    "    chees = copy.deepcopy(chees)\n",
    "    chees.append(\"chees\")"
   ]
  },
  {
   "cell_type": "code",
   "execution_count": 62,
   "metadata": {},
   "outputs": [
    {
     "output_type": "execute_result",
     "data": {
      "text/plain": [
       "(['1', '2', '3'], 140477540785728)"
      ]
     },
     "metadata": {},
     "execution_count": 62
    }
   ],
   "source": [
    "spam = ['1','2','3']\n",
    "spam , id(spam)\n"
   ]
  },
  {
   "cell_type": "code",
   "execution_count": 63,
   "metadata": {},
   "outputs": [
    {
     "output_type": "execute_result",
     "data": {
      "text/plain": [
       "(['1', '2', '3'], 140477540785728)"
      ]
     },
     "metadata": {},
     "execution_count": 63
    }
   ],
   "source": [
    "func(spam)\n",
    "spam , id(spam)"
   ]
  },
  {
   "cell_type": "code",
   "execution_count": null,
   "metadata": {},
   "outputs": [],
   "source": []
  },
  {
   "cell_type": "code",
   "execution_count": 43,
   "metadata": {},
   "outputs": [],
   "source": [
    "import copy"
   ]
  },
  {
   "cell_type": "code",
   "execution_count": 46,
   "metadata": {},
   "outputs": [
    {
     "output_type": "execute_result",
     "data": {
      "text/plain": [
       "(['1', '2', '3', 'chees'], 140477546157760)"
      ]
     },
     "metadata": {},
     "execution_count": 46
    }
   ],
   "source": [
    "bob = spam\n",
    "bob , id(bob)"
   ]
  },
  {
   "cell_type": "code",
   "execution_count": 47,
   "metadata": {},
   "outputs": [
    {
     "output_type": "execute_result",
     "data": {
      "text/plain": [
       "(['1', '2', '3', 'chees'], 140477542532928)"
      ]
     },
     "metadata": {},
     "execution_count": 47
    }
   ],
   "source": [
    "will = copy.deepcopy(spam)\n",
    "will, id(will)"
   ]
  },
  {
   "cell_type": "code",
   "execution_count": 78,
   "metadata": {},
   "outputs": [],
   "source": [
    "p = '123456789'\n"
   ]
  },
  {
   "cell_type": "code",
   "execution_count": 80,
   "metadata": {},
   "outputs": [
    {
     "output_type": "execute_result",
     "data": {
      "text/plain": [
       "'7654'"
      ]
     },
     "metadata": {},
     "execution_count": 80
    }
   ],
   "source": [
    "p[6:2:-1]"
   ]
  },
  {
   "cell_type": "code",
   "execution_count": 83,
   "metadata": {},
   "outputs": [
    {
     "output_type": "execute_result",
     "data": {
      "text/plain": [
       "'98'"
      ]
     },
     "metadata": {},
     "execution_count": 83
    }
   ],
   "source": [
    "p[8:6:-1]"
   ]
  },
  {
   "cell_type": "code",
   "execution_count": null,
   "metadata": {},
   "outputs": [],
   "source": []
  }
 ]
}