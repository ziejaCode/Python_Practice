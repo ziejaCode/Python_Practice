{
 "metadata": {
  "language_info": {
   "codemirror_mode": {
    "name": "ipython",
    "version": 3
   },
   "file_extension": ".py",
   "mimetype": "text/x-python",
   "name": "python",
   "nbconvert_exporter": "python",
   "pygments_lexer": "ipython3",
   "version": "3.7.6-final"
  },
  "orig_nbformat": 2,
  "kernelspec": {
   "name": "python3",
   "display_name": "Python 3",
   "language": "python"
  }
 },
 "nbformat": 4,
 "nbformat_minor": 2,
 "cells": [
  {
   "cell_type": "code",
   "execution_count": 4,
   "metadata": {},
   "outputs": [
    {
     "output_type": "stream",
     "name": "stdout",
     "text": [
      "{'b': 4}\n"
     ]
    }
   ],
   "source": [
    "# simple dict comprehension\n",
    "\n",
    "dict1 = {'a': 1, 'b': 2}\n",
    "\n",
    "my_dict = {k: v**2 for k, v in dict1.items() if v % 2 == 0}\n",
    "\n",
    "print(my_dict)\n"
   ]
  },
  {
   "cell_type": "code",
   "execution_count": 9,
   "metadata": {},
   "outputs": [
    {
     "output_type": "stream",
     "name": "stdout",
     "text": [
      "{1: 'aa', 2: 'bb', 3: 'cc'}\n"
     ]
    }
   ],
   "source": [
    "my_dict2 = {n1: n2*2 for n1, n2 in zip([1, 2, 3],['a','b','c'])}\n",
    "\n",
    "print(my_dict2)"
   ]
  },
  {
   "cell_type": "code",
   "execution_count": 19,
   "metadata": {},
   "outputs": [
    {
     "output_type": "stream",
     "name": "stdout",
     "text": [
      "['a', 'n']\n"
     ]
    }
   ],
   "source": [
    "val = ['a', 'a', 'b', 'c', 'd', 'n', 'n']\n",
    "\n",
    "\n",
    "duplicates = list({v for v in val if val.count(v)>1 })\n",
    "\n",
    "print(duplicates)"
   ]
  },
  {
   "cell_type": "code",
   "execution_count": null,
   "metadata": {},
   "outputs": [],
   "source": []
  }
 ]
}