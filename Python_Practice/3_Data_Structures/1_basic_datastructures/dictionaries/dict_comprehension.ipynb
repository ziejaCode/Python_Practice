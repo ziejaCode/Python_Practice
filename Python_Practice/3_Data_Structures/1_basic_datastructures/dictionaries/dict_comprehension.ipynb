{
 "metadata": {
  "language_info": {
   "codemirror_mode": {
    "name": "ipython",
    "version": 3
   },
   "file_extension": ".py",
   "mimetype": "text/x-python",
   "name": "python",
   "nbconvert_exporter": "python",
   "pygments_lexer": "ipython3",
   "version": "3.7.4"
  },
  "orig_nbformat": 2,
  "kernelspec": {
   "name": "python3",
   "display_name": "Python 3.7.4 32-bit"
  },
  "interpreter": {
   "hash": "0b15b737317ee57d023fd1135e68b8999dc64b0fb76512e8c43c46da68401b6e"
  }
 },
 "nbformat": 4,
 "nbformat_minor": 2,
 "cells": [
  {
   "cell_type": "code",
   "execution_count": 4,
   "metadata": {},
   "outputs": [
    {
     "output_type": "stream",
     "name": "stdout",
     "text": [
      "{'b': 4}\n"
     ]
    }
   ],
   "source": [
    "# simple dict comprehension\n",
    "\n",
    "dict1 = {'a': 1, 'b': 2}\n",
    "\n",
    "my_dict = {k: v**2 for k, v in dict1.items() if v % 2 == 0}\n",
    "\n",
    "print(my_dict)\n"
   ]
  },
  {
   "cell_type": "code",
   "execution_count": 9,
   "metadata": {},
   "outputs": [
    {
     "output_type": "stream",
     "name": "stdout",
     "text": [
      "{1: 'aa', 2: 'bb', 3: 'cc'}\n"
     ]
    }
   ],
   "source": [
    "my_dict2 = {n1: n2*2 for n1, n2 in zip([1, 2, 3],['a','b','c'])}\n",
    "\n",
    "print(my_dict2)"
   ]
  },
  {
   "cell_type": "code",
   "execution_count": 6,
   "metadata": {},
   "outputs": [
    {
     "output_type": "stream",
     "name": "stdout",
     "text": [
      "['a', 'n']\n"
     ]
    }
   ],
   "source": [
    "val = ['a', 'a', 'b', 'c', 'd', 'n', 'n']\n",
    "\n",
    "\n",
    "duplicates = list({v for v in val if val.count(v)>1 })\n",
    "\n",
    "print(duplicates)"
   ]
  },
  {
   "cell_type": "code",
   "execution_count": 19,
   "metadata": {},
   "outputs": [
    {
     "output_type": "stream",
     "name": "stdout",
     "text": [
      "sdfs\n{'name': 'sdfs', 'home': [12, 34, 45]}\ntret\n{'name': 'tret', 'home': [12, 34, 45]}\ndfjdf\n{'name': 'dfjdf', 'home': [12, 34, 45]}\nyutyu\n{'name': 'yutyu', 'home': [12, 34, 45]}\n<class 'dict'>\n[None, None, {'name': 'yutyu', 'home': [12, 34, 45]}]\n"
     ]
    }
   ],
   "source": [
    "team = ['sdfs', 'tret', 'dfjdf', 'yutyu']\n",
    "dicdt = {'name':'', 'home':[]}\n",
    "l = [None, None, None]\n",
    "h = [12, 34, 45]\n",
    "\n",
    "for t in team:\n",
    "    dicdt['name'] = t\n",
    "    dicdt['home'] = h\n",
    "    print(dicdt['name'])\n",
    "    l[2] = dicdt\n",
    "    print(dicdt)\n",
    "\n",
    "print(type(l[2]))\n",
    "print(l)\n",
    "#print(dicdt)"
   ]
  },
  {
   "cell_type": "code",
   "execution_count": null,
   "metadata": {},
   "outputs": [],
   "source": []
  }
 ]
}