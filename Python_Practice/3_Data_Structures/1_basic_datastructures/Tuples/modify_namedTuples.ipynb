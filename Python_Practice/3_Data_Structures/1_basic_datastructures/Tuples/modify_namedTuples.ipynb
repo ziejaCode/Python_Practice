{
 "metadata": {
  "language_info": {
   "codemirror_mode": {
    "name": "ipython",
    "version": 3
   },
   "file_extension": ".py",
   "mimetype": "text/x-python",
   "name": "python",
   "nbconvert_exporter": "python",
   "pygments_lexer": "ipython3",
   "version": "3.7.6-final"
  },
  "orig_nbformat": 2,
  "kernelspec": {
   "name": "python3",
   "display_name": "Python 3"
  }
 },
 "nbformat": 4,
 "nbformat_minor": 2,
 "cells": [
  {
   "cell_type": "code",
   "execution_count": 1,
   "metadata": {},
   "outputs": [],
   "source": [
    "from collections import namedtuple\n",
    "\n",
    "Point2D = namedtuple('Point2D', 'x y')\n",
    "pt = Point2D(2, 4)\n"
   ]
  },
  {
   "cell_type": "code",
   "execution_count": 2,
   "metadata": {},
   "outputs": [
    {
     "output_type": "execute_result",
     "data": {
      "text/plain": [
       "Point2D(x=2, y=4)"
      ]
     },
     "metadata": {},
     "execution_count": 2
    }
   ],
   "source": [
    "pt"
   ]
  },
  {
   "cell_type": "code",
   "execution_count": 3,
   "metadata": {},
   "outputs": [
    {
     "output_type": "execute_result",
     "data": {
      "text/plain": [
       "2"
      ]
     },
     "metadata": {},
     "execution_count": 3
    }
   ],
   "source": [
    "pt[0]"
   ]
  },
  {
   "cell_type": "code",
   "execution_count": 4,
   "metadata": {},
   "outputs": [
    {
     "output_type": "execute_result",
     "data": {
      "text/plain": [
       "2"
      ]
     },
     "metadata": {},
     "execution_count": 4
    }
   ],
   "source": [
    "pt.x"
   ]
  },
  {
   "cell_type": "code",
   "execution_count": 12,
   "metadata": {},
   "outputs": [
    {
     "output_type": "execute_result",
     "data": {
      "text/plain": [
       "2375635068312"
      ]
     },
     "metadata": {},
     "execution_count": 12
    }
   ],
   "source": [
    "id(pt)"
   ]
  },
  {
   "cell_type": "code",
   "execution_count": 13,
   "metadata": {},
   "outputs": [],
   "source": [
    "pt = Point2D(100, pt.y)"
   ]
  },
  {
   "cell_type": "code",
   "execution_count": 14,
   "metadata": {},
   "outputs": [
    {
     "output_type": "execute_result",
     "data": {
      "text/plain": [
       "Point2D(x=100, y=4)"
      ]
     },
     "metadata": {},
     "execution_count": 14
    }
   ],
   "source": [
    "pt"
   ]
  },
  {
   "cell_type": "code",
   "execution_count": 15,
   "metadata": {},
   "outputs": [
    {
     "output_type": "execute_result",
     "data": {
      "text/plain": [
       "2375635158104"
      ]
     },
     "metadata": {},
     "execution_count": 15
    }
   ],
   "source": [
    "id(pt)"
   ]
  },
  {
   "cell_type": "code",
   "execution_count": 43,
   "metadata": {},
   "outputs": [
    {
     "output_type": "execute_result",
     "data": {
      "text/plain": [
       "Stock(sym='WIG', year=2020, month=11, day=15, open=2345, high=2355, low=2333, close=2451)"
      ]
     },
     "metadata": {},
     "execution_count": 43
    }
   ],
   "source": [
    "Stock = namedtuple('Stock', 'sym year month day open high low close')\n",
    "wig = Stock('WIG', 2020, 11, 15, 2345, 2355, 2333, 2451)\n",
    "wig"
   ]
  },
  {
   "cell_type": "code",
   "execution_count": 44,
   "metadata": {},
   "outputs": [
    {
     "output_type": "execute_result",
     "data": {
      "text/plain": [
       "['WIG', 2020, 11, 15, 2345, 2355, 2333]"
      ]
     },
     "metadata": {},
     "execution_count": 44
    }
   ],
   "source": [
    "*stay, change = wig\n",
    "stay"
   ]
  },
  {
   "cell_type": "code",
   "execution_count": 45,
   "metadata": {},
   "outputs": [
    {
     "output_type": "execute_result",
     "data": {
      "text/plain": [
       "['WIG', 2020, 11, 15, 2345, 2355, 2333, 1333]"
      ]
     },
     "metadata": {},
     "execution_count": 45
    }
   ],
   "source": [
    "stay.append(1333)\n",
    "stay"
   ]
  },
  {
   "cell_type": "code",
   "execution_count": 86,
   "metadata": {},
   "outputs": [
    {
     "output_type": "execute_result",
     "data": {
      "text/plain": [
       "Stock(sym='WIG', year=2020, month=11, day=15, open=2345, high=2355, low=2333, close=1333)"
      ]
     },
     "metadata": {},
     "execution_count": 86
    }
   ],
   "source": [
    "wig = Stock(*stay)\n",
    "wig"
   ]
  },
  {
   "cell_type": "code",
   "execution_count": 49,
   "metadata": {},
   "outputs": [
    {
     "output_type": "execute_result",
     "data": {
      "text/plain": [
       "Stock(sym='WIG', year=2020, month=11, day=15, open=2345, high=2355, low=2333, close=1333)"
      ]
     },
     "metadata": {},
     "execution_count": 49
    }
   ],
   "source": [
    "wig"
   ]
  },
  {
   "cell_type": "code",
   "execution_count": 50,
   "metadata": {},
   "outputs": [
    {
     "output_type": "execute_result",
     "data": {
      "text/plain": [
       "2375632369224"
      ]
     },
     "metadata": {},
     "execution_count": 50
    }
   ],
   "source": [
    "id(wig)"
   ]
  },
  {
   "cell_type": "code",
   "execution_count": 71,
   "metadata": {},
   "outputs": [
    {
     "output_type": "execute_result",
     "data": {
      "text/plain": [
       "(15, int)"
      ]
     },
     "metadata": {},
     "execution_count": 71
    }
   ],
   "source": [
    " values = wig[3]\n",
    " values, type(values)"
   ]
  },
  {
   "cell_type": "code",
   "execution_count": 87,
   "metadata": {},
   "outputs": [
    {
     "output_type": "execute_result",
     "data": {
      "text/plain": [
       "Stock(sym='WIG', year=2020, month=11, day=15, open=2345, high=2355, low=2333, close=1333)"
      ]
     },
     "metadata": {},
     "execution_count": 87
    }
   ],
   "source": [
    "wig"
   ]
  },
  {
   "cell_type": "code",
   "execution_count": 88,
   "metadata": {},
   "outputs": [
    {
     "output_type": "execute_result",
     "data": {
      "text/plain": [
       "2375631057992"
      ]
     },
     "metadata": {},
     "execution_count": 88
    }
   ],
   "source": [
    "id(wig)"
   ]
  },
  {
   "cell_type": "code",
   "execution_count": 89,
   "metadata": {},
   "outputs": [
    {
     "output_type": "execute_result",
     "data": {
      "text/plain": [
       "Stock(sym='DAX', year=2020, month=11, day=15, open=2345, high=2355, low=2333, close=1333)"
      ]
     },
     "metadata": {},
     "execution_count": 89
    }
   ],
   "source": [
    "wig = wig._replace(sym='DAX')\n",
    "wig"
   ]
  },
  {
   "cell_type": "code",
   "execution_count": 90,
   "metadata": {},
   "outputs": [
    {
     "output_type": "execute_result",
     "data": {
      "text/plain": [
       "2375631057224"
      ]
     },
     "metadata": {},
     "execution_count": 90
    }
   ],
   "source": [
    "id(wig)"
   ]
  },
  {
   "cell_type": "code",
   "execution_count": 117,
   "metadata": {},
   "outputs": [
    {
     "output_type": "execute_result",
     "data": {
      "text/plain": [
       "('x', 'y', 'z', 'w', 't', 'a', 'b', 'c', 'h', 'd', 'dolar', 'dolar11')"
      ]
     },
     "metadata": {},
     "execution_count": 117
    }
   ],
   "source": [
    "Point2D._fields"
   ]
  },
  {
   "cell_type": "code",
   "execution_count": 108,
   "metadata": {},
   "outputs": [],
   "source": [
    "# extenidng tuple\n",
    "\n",
    "Point2D = namedtuple('Point2D', Point2D._fields + ('c',\"h\",'d'))"
   ]
  },
  {
   "cell_type": "code",
   "execution_count": 125,
   "metadata": {},
   "outputs": [
    {
     "output_type": "execute_result",
     "data": {
      "text/plain": [
       "('x',\n",
       " 'y',\n",
       " 'z',\n",
       " 'w',\n",
       " 't',\n",
       " 'a',\n",
       " 'b',\n",
       " 'c',\n",
       " 'h',\n",
       " 'd',\n",
       " 'dolar',\n",
       " 'dolar11',\n",
       " 'dol4ar11')"
      ]
     },
     "metadata": {},
     "execution_count": 125
    }
   ],
   "source": [
    "Point2D._fields"
   ]
  },
  {
   "cell_type": "code",
   "execution_count": 120,
   "metadata": {},
   "outputs": [],
   "source": [
    "Point2D = namedtuple('Point2D', Point2D._fields + ('dol4ar11',))"
   ]
  },
  {
   "cell_type": "code",
   "execution_count": null,
   "metadata": {},
   "outputs": [],
   "source": []
  },
  {
   "cell_type": "code",
   "execution_count": 121,
   "metadata": {},
   "outputs": [
    {
     "output_type": "execute_result",
     "data": {
      "text/plain": [
       "Point2D(x=100, y=4)"
      ]
     },
     "metadata": {},
     "execution_count": 121
    }
   ],
   "source": [
    "pt"
   ]
  },
  {
   "cell_type": "code",
   "execution_count": 127,
   "metadata": {},
   "outputs": [],
   "source": [
    "pt = Point2D(23, 34, 45, 56, 67,23 ,56,87, 89,12, 33, 66, 44)"
   ]
  },
  {
   "cell_type": "code",
   "execution_count": 136,
   "metadata": {},
   "outputs": [
    {
     "output_type": "execute_result",
     "data": {
      "text/plain": [
       "Point2D(x=23, y=34, z=45, w=56, t=67, a=23, b=56, c=87, h=89, d=12, dolar=33, dolar11=66, dol4ar11=44)"
      ]
     },
     "metadata": {},
     "execution_count": 136
    }
   ],
   "source": [
    "pt"
   ]
  },
  {
   "cell_type": "code",
   "execution_count": 149,
   "metadata": {},
   "outputs": [
    {
     "output_type": "execute_result",
     "data": {
      "text/plain": [
       "((23, 34, 45, 56, 67), (23, 56, 87, 89, 12), (33, 66, 44))"
      ]
     },
     "metadata": {},
     "execution_count": 149
    }
   ],
   "source": [
    "pre = pt[0:5]\n",
    "mid = pt[5:10]\n",
    "post = pt[10:13]\n",
    "pre, mid, post\n"
   ]
  },
  {
   "cell_type": "code",
   "execution_count": 150,
   "metadata": {},
   "outputs": [
    {
     "output_type": "execute_result",
     "data": {
      "text/plain": [
       "(67, 12)"
      ]
     },
     "metadata": {},
     "execution_count": 150
    }
   ],
   "source": [
    "*_1, c1 = pre\n",
    "*_2, c2 = mid\n",
    "c1, c2,"
   ]
  },
  {
   "cell_type": "code",
   "execution_count": 141,
   "metadata": {},
   "outputs": [
    {
     "output_type": "execute_result",
     "data": {
      "text/plain": [
       "(67, 12)"
      ]
     },
     "metadata": {},
     "execution_count": 141
    }
   ],
   "source": [
    "change1, _1, _2, _3, _4, *rest1 = rest\n",
    "change2, *rest2 = rest1\n",
    "change1, change2"
   ]
  },
  {
   "cell_type": "code",
   "execution_count": 160,
   "metadata": {},
   "outputs": [],
   "source": [
    "pt = Point2D(*_1, 76, *_2, 21, *post)"
   ]
  },
  {
   "cell_type": "code",
   "execution_count": 161,
   "metadata": {},
   "outputs": [
    {
     "output_type": "execute_result",
     "data": {
      "text/plain": [
       "Point2D(x=23, y=34, z=45, w=56, t=76, a=23, b=56, c=87, h=89, d=21, dolar=33, dolar11=66, dol4ar11=44)"
      ]
     },
     "metadata": {},
     "execution_count": 161
    }
   ],
   "source": [
    "pt"
   ]
  },
  {
   "cell_type": "code",
   "execution_count": 162,
   "metadata": {},
   "outputs": [],
   "source": [
    "pt = pt._replace(t=67,d=12)"
   ]
  },
  {
   "cell_type": "code",
   "execution_count": 163,
   "metadata": {},
   "outputs": [
    {
     "output_type": "execute_result",
     "data": {
      "text/plain": [
       "Point2D(x=23, y=34, z=45, w=56, t=67, a=23, b=56, c=87, h=89, d=12, dolar=33, dolar11=66, dol4ar11=44)"
      ]
     },
     "metadata": {},
     "execution_count": 163
    }
   ],
   "source": [
    "pt"
   ]
  },
  {
   "cell_type": "code",
   "execution_count": null,
   "metadata": {},
   "outputs": [],
   "source": []
  }
 ]
}