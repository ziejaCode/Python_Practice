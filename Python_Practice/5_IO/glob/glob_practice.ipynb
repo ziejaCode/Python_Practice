{
 "metadata": {
  "orig_nbformat": 2,
  "kernelspec": {
   "name": "python3",
   "display_name": "Python 3",
   "language": "python"
  }
 },
 "nbformat": 4,
 "nbformat_minor": 2,
 "cells": [
  {
   "cell_type": "code",
   "execution_count": 3,
   "metadata": {},
   "outputs": [
    {
     "output_type": "execute_result",
     "data": {
      "text/plain": [
       "['Hellmann D. - The Python Standard Library by Example - 2011.pdf',\n",
       " 'ice_cream_rpc-master.zip',\n",
       " 'W pogoni za skarbem - Skarb piratów (2020) [S01E01] [480p] [HDTV] [XViD] [AC3-H1] [Lektor PL]',\n",
       " 'download.jpfmeg',\n",
       " '34 Tour of Duty',\n",
       " 'protobuf-example-java.git',\n",
       " 'protobuf-example-java-master.zip',\n",
       " 'pytest-tut-master',\n",
       " 'Małe szczęścia   Le bonheur des uns... (2020) PL.480p.WEB-DL.XViD.AC3-MORS   Lektor PL.avi.3g2',\n",
       " 'bazel-4.0.0-installer-linux-x86_64.sh',\n",
       " '[Filetracker.PL] - Human Capital (2019) [480p] [WEB-DL] [XviD] [AC3-KLiO] [Lektor PL] [avi] [sfpi] [FIONA9].torrent',\n",
       " 'Programming with Python [2017].pdf',\n",
       " 'ice_cream_rpc-master',\n",
       " 'pytest-tut-master.zip',\n",
       " 'protobuf-example-java',\n",
       " 'download.jpeg',\n",
       " 'laska.jpg',\n",
       " 'Bhargava A. Y. - Grokking Algorithms - 2016.pdf',\n",
       " 'expressvpn_3.6.0.70-1_amd64.deb',\n",
       " '3Archive (2020) [1080p] [BluRay] [5.1] [YTS.MX]',\n",
       " 'protobuf-example-python-master.zip',\n",
       " 'www.lyrics.lol    -    We Children From Bahnhof Zoo S01E01 XviD-AFG',\n",
       " 'protobuf-example-java-master',\n",
       " 'code.zip',\n",
       " 'Bader D. - Python Tricks_ The Book - 2017.pdf',\n",
       " 'Human Capital (2019) PL.480p.WEB-DL.XviD.AC3-KLiO   Lektor PL.avi.3g2',\n",
       " 'Daniel-Arbuckles-Mastering-Python-master.zip',\n",
       " 'python-example-proto',\n",
       " 'test',\n",
       " 'rtl8821ce',\n",
       " 'rtl8821ce-master.zip',\n",
       " 'bazel-4.0.0-dist.zip',\n",
       " 'download',\n",
       " '23 code',\n",
       " 'bookmarks_3_15_21.html']"
      ]
     },
     "metadata": {},
     "execution_count": 3
    }
   ],
   "source": [
    "# this is how to list all files under given path\n",
    "import os \n",
    "path = os.listdir(\"/home/marty/Downloads\")\n",
    "path"
   ]
  },
  {
   "cell_type": "code",
   "execution_count": 4,
   "metadata": {},
   "outputs": [
    {
     "output_type": "stream",
     "name": "stdout",
     "text": [
      "found\n"
     ]
    }
   ],
   "source": [
    "'Bhargava A. Y. - Grokking Algorithms - 2016.pdf'\n",
    "path = os.listdir(\"/home/marty/Downloads\")\n",
    "for book in path:\n",
    "    if book == 'Bhargava A. Y. - Grokking Algorithms - 2016.pdf':\n",
    "        print(\"found\")\n"
   ]
  },
  {
   "cell_type": "code",
   "execution_count": 5,
   "metadata": {},
   "outputs": [
    {
     "output_type": "stream",
     "name": "stdout",
     "text": [
      "found it\nfound it\nfound it\nfound it\nfound it\nfound it\nfound it\nfound it\n"
     ]
    }
   ],
   "source": [
    "# other example\n",
    "path = os.listdir(\"/home/marty/Downloads\")\n",
    "for path in path:\n",
    "    if path.endswith(\".zip\"):\n",
    "        print(\"found it\")\n"
   ]
  },
  {
   "cell_type": "code",
   "execution_count": 6,
   "metadata": {},
   "outputs": [
    {
     "output_type": "execute_result",
     "data": {
      "text/plain": [
       "['/home/marty/Downloads/ice_cream_rpc-master.zip']"
      ]
     },
     "metadata": {},
     "execution_count": 6
    }
   ],
   "source": [
    "# lets now introduce glob library for this process\n",
    "#  official library https://docs.python.org/3/library/glob.html\n",
    "#  youtube tutorial https://www.youtube.com/watch?v=Vc5kGYty18k\n",
    "\n",
    "\n",
    "import glob\n",
    "\n",
    "glob.glob(\"/home/marty/Downloads/ice*.zip\")"
   ]
  },
  {
   "cell_type": "code",
   "execution_count": 7,
   "metadata": {},
   "outputs": [
    {
     "output_type": "execute_result",
     "data": {
      "text/plain": [
       "['/home/marty/Downloads/34 Tour of Duty',\n",
       " '/home/marty/Downloads/3Archive (2020) [1080p] [BluRay] [5.1] [YTS.MX]',\n",
       " '/home/marty/Downloads/23 code']"
      ]
     },
     "metadata": {},
     "execution_count": 7
    }
   ],
   "source": [
    "# this is how to specyfy rules - its pretty much like regex\n",
    "\n",
    "glob.glob(\"/home/marty/Downloads/[0-9]*\")"
   ]
  },
  {
   "cell_type": "code",
   "execution_count": 8,
   "metadata": {},
   "outputs": [],
   "source": [
    "# these wildcharacters are available in glob\n",
    "#  *  ?   []  "
   ]
  },
  {
   "cell_type": "code",
   "execution_count": 19,
   "metadata": {},
   "outputs": [
    {
     "output_type": "execute_result",
     "data": {
      "text/plain": [
       "['/home/marty/Downloads/pytest-tut-master/README.md',\n",
       " '/home/marty/Downloads/ice_cream_rpc-master/README.md',\n",
       " '/home/marty/Downloads/protobuf-example-java-master/protobuf-example-java-master/README.md',\n",
       " '/home/marty/Downloads/python-example-proto/protobuf-example-python-master/README.md',\n",
       " '/home/marty/Downloads/test/deep/deeper/README.md',\n",
       " '/home/marty/Downloads/rtl8821ce/README.md']"
      ]
     },
     "metadata": {},
     "execution_count": 19
    }
   ],
   "source": [
    "# this read one or more levels down \n",
    "\n",
    "glob.glob(\"/home/marty/Downloads/**/*.md\", recursive=True)"
   ]
  },
  {
   "cell_type": "code",
   "execution_count": 28,
   "metadata": {},
   "outputs": [],
   "source": [
    "# returns glob iterator\n",
    "\n",
    "it = glob.iglob(\"/home/marty/Downloads/**/*.md\", recursive=True)"
   ]
  },
  {
   "cell_type": "code",
   "execution_count": 30,
   "metadata": {},
   "outputs": [
    {
     "output_type": "execute_result",
     "data": {
      "text/plain": [
       "'/home/marty/Downloads/ice_cream_rpc-master/README.md'"
      ]
     },
     "metadata": {},
     "execution_count": 30
    }
   ],
   "source": [
    "# this is iterator object that holds values from above read\n",
    "next(it)"
   ]
  },
  {
   "cell_type": "code",
   "execution_count": null,
   "metadata": {},
   "outputs": [],
   "source": []
  }
 ]
}