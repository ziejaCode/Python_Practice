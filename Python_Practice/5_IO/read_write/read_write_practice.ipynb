{
 "metadata": {
  "language_info": {
   "codemirror_mode": {
    "name": "ipython",
    "version": 3
   },
   "file_extension": ".py",
   "mimetype": "text/x-python",
   "name": "python",
   "nbconvert_exporter": "python",
   "pygments_lexer": "ipython3",
   "version": "3.6.9-final"
  },
  "orig_nbformat": 2,
  "kernelspec": {
   "name": "python3",
   "display_name": "Python 3",
   "language": "python"
  }
 },
 "nbformat": 4,
 "nbformat_minor": 2,
 "cells": [
  {
   "cell_type": "code",
   "execution_count": 8,
   "metadata": {},
   "outputs": [
    {
     "output_type": "stream",
     "name": "stdout",
     "text": [
      "1) This is a test file\n2) With multiple lines of data...\n3) Third line\n4) Fourth line\n5) Fifth line\n6) Sixth line\n7) Seventh line\n8) Eighth line\n9) Ninth line\n10) Tenth line\n"
     ]
    }
   ],
   "source": [
    "#Reading Files:\n",
    "with open(\"test.txt\", \"r\") as f:\n",
    "\tpass\n",
    "\t\n",
    "\tf_contents = f.read()\n",
    "\tprint(f_contents)"
   ]
  },
  {
   "cell_type": "code",
   "execution_count": 9,
   "metadata": {},
   "outputs": [
    {
     "output_type": "stream",
     "name": "stdout",
     "text": [
      "1) This is\n"
     ]
    }
   ],
   "source": [
    "#Reading Files:\n",
    "with open(\"test.txt\", \"r\") as f:\n",
    "\tpass\n",
    "\t\n",
    "\tf_contents = f.read(10)\n",
    "\tprint(f_contents)"
   ]
  },
  {
   "cell_type": "code",
   "execution_count": 118,
   "metadata": {},
   "outputs": [
    {
     "output_type": "stream",
     "name": "stdout",
     "text": [
      "<class '_io.TextIOWrapper'>\n<_io.TextIOWrapper name='test.txt' mode='r' encoding='UTF-8'> is iterable\n"
     ]
    }
   ],
   "source": [
    "# here I want to check if f is iterable\n",
    "\n",
    "from __future__ import print_function\n",
    "\n",
    "with open(\"test.txt\", \"r\") as f:\n",
    "\n",
    "    # first what is the type\n",
    "    print(type(f))\n",
    "    try:\n",
    "        some_object_iterator = iter(f)\n",
    "        print(f, 'is iterable')\n",
    "    except TypeError as te:\n",
    "        print(f, 'is not iterable')\n",
    "\n"
   ]
  },
  {
   "cell_type": "code",
   "execution_count": 105,
   "metadata": {},
   "outputs": [
    {
     "output_type": "execute_result",
     "data": {
      "text/plain": [
       "True"
      ]
     },
     "metadata": {},
     "execution_count": 105
    }
   ],
   "source": [
    "x = []\n",
    "type(x) == list"
   ]
  },
  {
   "cell_type": "code",
   "execution_count": 10,
   "metadata": {},
   "outputs": [
    {
     "output_type": "stream",
     "name": "stdout",
     "text": [
      "['1) This is a test file\\n', '2) With multiple lines of data...\\n', '3) Third line\\n', '4) Fourth line\\n', '5) Fifth line\\n', '6) Sixth line\\n', '7) Seventh line\\n', '8) Eighth line\\n', '9) Ninth line\\n', '10) Tenth line']"
     ]
    }
   ],
   "source": [
    "#Reading lines:\n",
    "with open(\"test.txt\", \"r\") as f:\n",
    "\tpass\n",
    "\t\n",
    "\tf_contents = f.readlines()\n",
    "\tprint(f_contents, end='')"
   ]
  },
  {
   "cell_type": "code",
   "execution_count": 13,
   "metadata": {},
   "outputs": [
    {
     "output_type": "stream",
     "name": "stdout",
     "text": [
      "1) This is a test file\n\n"
     ]
    }
   ],
   "source": [
    "#Reading one line:\n",
    "with open(\"test.txt\", \"r\") as f:\n",
    "\tf_contents = f.readline()\n",
    "\tprint(f_contents)"
   ]
  },
  {
   "cell_type": "code",
   "execution_count": 97,
   "metadata": {},
   "outputs": [
    {
     "output_type": "stream",
     "name": "stdout",
     "text": [
      "1) This is a test file\n2) With multiple lines of data...\n3) Third line\n4) Fourth line\n5) Fifth line\n6) Sixth line\n7) Seventh line\n8) Eighth line\n9) Ninth line\n10) Tenth line"
     ]
    }
   ],
   "source": [
    "with open(\"test_copy.txt\", \"r\") as f:\n",
    "    for line in f:\n",
    "        print(line, end='')"
   ]
  },
  {
   "cell_type": "code",
   "execution_count": 51,
   "metadata": {},
   "outputs": [
    {
     "output_type": "stream",
     "name": "stdout",
     "text": [
      "1) This is a test file\n2) With multiple lines of data...\n3) Third line\n4) Fourth line\n5) Fifth line\n6) Sixth line\n7) Seventh line\n8) Eighth line\n9) Ninth line\n10) Tenth line"
     ]
    }
   ],
   "source": [
    "#Reading characters using loop and buffer:\n",
    "with open(\"test.txt\", \"r\") as f:\n",
    "\tsize_to_read = 10\n",
    "\tf_contents = f.read(size_to_read)\n",
    "\twhile len(f_contents) > 0:\n",
    "\t\tprint(f_contents, end='')\n",
    "\t\tf_contents = f.read(size_to_read)"
   ]
  },
  {
   "cell_type": "code",
   "execution_count": 16,
   "metadata": {},
   "outputs": [
    {
     "output_type": "stream",
     "name": "stdout",
     "text": [
      "True\n"
     ]
    }
   ],
   "source": [
    "print(f.closed)"
   ]
  },
  {
   "cell_type": "code",
   "execution_count": 18,
   "metadata": {},
   "outputs": [
    {
     "output_type": "error",
     "ename": "ValueError",
     "evalue": "I/O operation on closed file.",
     "traceback": [
      "\u001b[0;31m---------------------------------------------------------------------------\u001b[0m",
      "\u001b[0;31mValueError\u001b[0m                                Traceback (most recent call last)",
      "\u001b[0;32m<ipython-input-18-315c20b774c2>\u001b[0m in \u001b[0;36m<module>\u001b[0;34m\u001b[0m\n\u001b[0;32m----> 1\u001b[0;31m \u001b[0mprint\u001b[0m\u001b[0;34m(\u001b[0m\u001b[0mf\u001b[0m\u001b[0;34m.\u001b[0m\u001b[0mread\u001b[0m\u001b[0;34m(\u001b[0m\u001b[0;34m)\u001b[0m\u001b[0;34m)\u001b[0m\u001b[0;34m\u001b[0m\u001b[0;34m\u001b[0m\u001b[0m\n\u001b[0m",
      "\u001b[0;31mValueError\u001b[0m: I/O operation on closed file."
     ]
    }
   ],
   "source": [
    "print(f.read())"
   ]
  },
  {
   "cell_type": "code",
   "execution_count": 38,
   "metadata": {},
   "outputs": [
    {
     "output_type": "stream",
     "name": "stdout",
     "text": [
      "1) This is a test file\n2) With multiple lines of data...\n3) Third line\n4) Fourth line\n5) Fifth line\n6) Sixth line\n7) Seventh line\n8) Eighth line\n9) Ninth line\n10) Tenth line"
     ]
    }
   ],
   "source": [
    "#Reading characters using loop and buffer:\n",
    "with open(\"test.txt\", \"r\") as f:\n",
    "\tsize_to_read = 10\n",
    "\tf_contents = f.read(size_to_read)\n",
    "\twhile len(f_contents) > 0:\n",
    "\t\tprint(f_contents, end='')\n",
    "        \n",
    "\t\tf_contents = f.read(size_to_read)\n",
    "        "
   ]
  },
  {
   "cell_type": "code",
   "execution_count": 79,
   "metadata": {},
   "outputs": [
    {
     "output_type": "stream",
     "name": "stdout",
     "text": [
      "1) This is\n2) With mu\n"
     ]
    }
   ],
   "source": [
    "with open(\"test.txt\", \"r\") as f:\n",
    "    size_to_read = 10\n",
    "    f_contents = f.read(size_to_read)\n",
    "    print(f_contents)\n",
    "    f.seek(23)\n",
    "    f_contents = f.read(size_to_read)\n",
    "    print(f_contents)"
   ]
  },
  {
   "cell_type": "code",
   "execution_count": 92,
   "metadata": {},
   "outputs": [],
   "source": [
    "# writing to file - overwriting\n",
    "with open(\"test1.txt\", \"w\") as e:\n",
    "    e.write('This is test')    \n",
    "    #e.write('This is test')\n",
    "    #e.write('This is test')\n",
    "    #e.write('This is test')"
   ]
  },
  {
   "cell_type": "code",
   "execution_count": 93,
   "metadata": {},
   "outputs": [],
   "source": [
    "# writing to file using seek() to overwrite\n",
    "with open(\"test1.txt\", \"w\") as e:\n",
    "    e.write('This is test')\n",
    "    e.seek(5)    \n",
    "    e.write('This is test')\n",
    "    #e.write('This is test')\n",
    "    #e.write('This is test')"
   ]
  },
  {
   "cell_type": "code",
   "execution_count": 94,
   "metadata": {},
   "outputs": [],
   "source": [
    "# writing to file - appending\n",
    "with open(\"test1.txt\", \"a\") as e:\n",
    "    e.write('This is test')\n",
    "    "
   ]
  },
  {
   "cell_type": "code",
   "execution_count": 95,
   "metadata": {},
   "outputs": [],
   "source": [
    "# this is a file copier\n",
    "with open(\"test.txt\", \"r\") as rf:\n",
    "    with open(\"test_copy.txt\", \"w\") as wf:\n",
    "        for line in rf:\n",
    "            wf.write(line)"
   ]
  },
  {
   "cell_type": "code",
   "execution_count": 4,
   "metadata": {},
   "outputs": [],
   "source": [
    "# this is how to copy a picture file using binary mode\n",
    "with open(\"laska.jpg\", \"rb\") as rf:\n",
    "    with open(\"laska_copy1.jpg\", \"wb\") as wf:\n",
    "        buffer_size = 4096\n",
    "        rf_buffer = rf.read(buffer_size)\n",
    "        while len(rf_buffer) > 0:\n",
    "            wf.write(rf_buffer)\n",
    "            rf_buffer = rf.read(buffer_size)\n"
   ]
  },
  {
   "cell_type": "code",
   "execution_count": null,
   "metadata": {},
   "outputs": [],
   "source": []
  }
 ]
}