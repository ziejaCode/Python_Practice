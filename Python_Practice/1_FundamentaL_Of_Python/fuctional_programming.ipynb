{
 "metadata": {
  "language_info": {
   "codemirror_mode": {
    "name": "ipython",
    "version": 3
   },
   "file_extension": ".py",
   "mimetype": "text/x-python",
   "name": "python",
   "nbconvert_exporter": "python",
   "pygments_lexer": "ipython3",
   "version": "3.7.6-final"
  },
  "orig_nbformat": 2,
  "kernelspec": {
   "name": "python3",
   "display_name": "Python 3",
   "language": "python"
  }
 },
 "nbformat": 4,
 "nbformat_minor": 2,
 "cells": [
  {
   "cell_type": "code",
   "execution_count": 2,
   "metadata": {},
   "outputs": [
    {
     "output_type": "stream",
     "name": "stdout",
     "text": [
      "[2, 4, 6]\n"
     ]
    }
   ],
   "source": [
    "def multi(li):\n",
    "    new_list = []\n",
    "    for item in li:\n",
    "        new_list.append(item*2)\n",
    "    return new_list\n",
    "\n",
    "print(multi([1,2,3]))"
   ]
  },
  {
   "cell_type": "code",
   "execution_count": 6,
   "metadata": {},
   "outputs": [
    {
     "output_type": "stream",
     "name": "stdout",
     "text": [
      "[2, 4, 6]\n"
     ]
    }
   ],
   "source": [
    "# same as above but for using with map\n",
    "\n",
    "def multi(item):\n",
    "    return item*2\n",
    "\n",
    "print(list(map(multi, [1,2,3])))"
   ]
  },
  {
   "cell_type": "code",
   "execution_count": 8,
   "metadata": {},
   "outputs": [
    {
     "output_type": "stream",
     "name": "stdout",
     "text": [
      "[1, 3]\n[True, False, True]\n"
     ]
    }
   ],
   "source": [
    "# using filter function\n",
    "\n",
    "def only_odd(li):\n",
    "    return li % 2 != 0\n",
    "\n",
    "print(list(filter(only_odd, [1,2,3])))\n",
    "print(list(map(only_odd, [1,2,3])))\n"
   ]
  },
  {
   "cell_type": "code",
   "execution_count": 16,
   "metadata": {},
   "outputs": [
    {
     "output_type": "stream",
     "name": "stdout",
     "text": [
      "[('roman', 'ro@com', 432424), ('fred', 'fre@com', 353535), ('hela', 'hel@com', 23423)]\n"
     ]
    }
   ],
   "source": [
    "# using function zip()\n",
    "# the lenght of all iterables must be equal\n",
    "\n",
    "names = ['roman', 'fred', 'hela']\n",
    "emails = ('ro@com', 'fre@com', 'hel@com')\n",
    "phones = [432424, 353535, 23423]\n",
    "\n",
    "print(list(zip(names, emails, phones)))\n",
    "\n"
   ]
  },
  {
   "cell_type": "code",
   "execution_count": 21,
   "metadata": {},
   "outputs": [
    {
     "output_type": "stream",
     "name": "stdout",
     "text": [
      "0 432424\n432424 353535\n785959 23423\n809382\n"
     ]
    }
   ],
   "source": [
    "# now reduce function\n",
    "\n",
    "from functools import reduce\n",
    "\n",
    "names = ['roman', 'fred', 'hela']\n",
    "phones = [432424, 353535, 23423]\n",
    "\n",
    "def accumulator(acc, item):\n",
    "    print(acc, item)\n",
    "    return acc + item\n",
    "\n",
    "print(reduce(accumulator, phones, 0))\n",
    "\n"
   ]
  },
  {
   "cell_type": "code",
   "execution_count": null,
   "metadata": {},
   "outputs": [],
   "source": []
  }
 ]
}