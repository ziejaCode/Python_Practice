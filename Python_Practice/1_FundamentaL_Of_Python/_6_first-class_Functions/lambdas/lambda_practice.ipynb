{
 "metadata": {
  "language_info": {
   "codemirror_mode": {
    "name": "ipython",
    "version": 3
   },
   "file_extension": ".py",
   "mimetype": "text/x-python",
   "name": "python",
   "nbconvert_exporter": "python",
   "pygments_lexer": "ipython3",
   "version": "3.8.6"
  },
  "orig_nbformat": 2,
  "kernelspec": {
   "name": "python3",
   "display_name": "Python 3.8.6 64-bit"
  },
  "interpreter": {
   "hash": "fbe238fbd6722883a25f0e99a6b32a532e1e5c4d6bc62cce666becd368f75eaf"
  }
 },
 "nbformat": 4,
 "nbformat_minor": 2,
 "cells": [
  {
   "cell_type": "code",
   "execution_count": 2,
   "source": [
    "# lambda method assigned to variable\r\n",
    "\r\n",
    "add_one = lambda x: x + 1\r\n",
    "add_one(2)"
   ],
   "outputs": [
    {
     "output_type": "execute_result",
     "data": {
      "text/plain": [
       "3"
      ]
     },
     "metadata": {},
     "execution_count": 2
    }
   ],
   "metadata": {}
  },
  {
   "cell_type": "code",
   "execution_count": 6,
   "source": [
    "print((lambda x: x + 1)(2))"
   ],
   "outputs": [
    {
     "output_type": "stream",
     "name": "stdout",
     "text": [
      "3\n"
     ]
    }
   ],
   "metadata": {}
  },
  {
   "cell_type": "code",
   "execution_count": 7,
   "source": [
    "# Immediately Invoked Function Expression\r\n",
    "\r\n",
    "(lambda x: x + 1)(2)"
   ],
   "outputs": [
    {
     "output_type": "execute_result",
     "data": {
      "text/plain": [
       "3"
      ]
     },
     "metadata": {},
     "execution_count": 7
    }
   ],
   "metadata": {}
  },
  {
   "cell_type": "code",
   "execution_count": 8,
   "source": [
    "# lambda takes two argument\r\n",
    "\r\n",
    "full_name = lambda first, last: f'Full name: {first.title()} {last.title()}'\r\n",
    "full_name('guido', 'van rossum')"
   ],
   "outputs": [
    {
     "output_type": "execute_result",
     "data": {
      "text/plain": [
       "'Full name: Guido Van Rossum'"
      ]
     },
     "metadata": {},
     "execution_count": 8
    }
   ],
   "metadata": {}
  },
  {
   "cell_type": "code",
   "execution_count": 28,
   "source": [
    "# simpel lambda \r\n",
    "\r\n",
    "lambda x, y: x + y\r\n"
   ],
   "outputs": [
    {
     "output_type": "execute_result",
     "data": {
      "text/plain": [
       "<function __main__.<lambda>(x, y)>"
      ]
     },
     "metadata": {},
     "execution_count": 28
    }
   ],
   "metadata": {}
  },
  {
   "cell_type": "code",
   "execution_count": 26,
   "source": [
    "# above lambda is called\r\n",
    "\r\n",
    "_(1, 2)"
   ],
   "outputs": [
    {
     "output_type": "execute_result",
     "data": {
      "text/plain": [
       "3"
      ]
     },
     "metadata": {},
     "execution_count": 26
    }
   ],
   "metadata": {}
  },
  {
   "cell_type": "code",
   "execution_count": 29,
   "source": [
    "_(34, 16)"
   ],
   "outputs": [
    {
     "output_type": "execute_result",
     "data": {
      "text/plain": [
       "50"
      ]
     },
     "metadata": {},
     "execution_count": 29
    }
   ],
   "metadata": {}
  },
  {
   "cell_type": "code",
   "execution_count": 11,
   "source": [
    "# lambda takes function as parameter\r\n",
    "\r\n",
    "high_ord_func = lambda x, func: x + func(x)\r\n",
    "high_ord_func(2, lambda x: x * x)"
   ],
   "outputs": [
    {
     "output_type": "execute_result",
     "data": {
      "text/plain": [
       "6"
      ]
     },
     "metadata": {},
     "execution_count": 11
    }
   ],
   "metadata": {}
  },
  {
   "cell_type": "code",
   "execution_count": 12,
   "source": [
    "func1 = lambda func, x, y: func(x, y) * 2\r\n",
    "def func2(a, b):\r\n",
    "    return a * b\r\n",
    "\r\n",
    "func1(func2, 2, 3)"
   ],
   "outputs": [
    {
     "output_type": "execute_result",
     "data": {
      "text/plain": [
       "12"
      ]
     },
     "metadata": {},
     "execution_count": 12
    }
   ],
   "metadata": {}
  },
  {
   "cell_type": "code",
   "execution_count": 13,
   "source": [
    "func1.__dict__"
   ],
   "outputs": [
    {
     "output_type": "execute_result",
     "data": {
      "text/plain": [
       "{}"
      ]
     },
     "metadata": {},
     "execution_count": 13
    }
   ],
   "metadata": {}
  },
  {
   "cell_type": "code",
   "execution_count": 14,
   "source": [
    "(lambda func, x, y: func(x, y) * 2)(func2, 2, 3) # function called Anonymously"
   ],
   "outputs": [
    {
     "output_type": "execute_result",
     "data": {
      "text/plain": [
       "12"
      ]
     },
     "metadata": {},
     "execution_count": 14
    }
   ],
   "metadata": {}
  },
  {
   "cell_type": "code",
   "execution_count": 15,
   "source": [
    "# igher order lambda function takes lamda function as parameter\r\n",
    "\r\n",
    "(lambda func, x, y: func(x, y) * 2)(lambda x, y: x * y ,2, 3)"
   ],
   "outputs": [
    {
     "output_type": "execute_result",
     "data": {
      "text/plain": [
       "12"
      ]
     },
     "metadata": {},
     "execution_count": 15
    }
   ],
   "metadata": {}
  },
  {
   "cell_type": "code",
   "execution_count": 16,
   "source": [
    "class Lambda_store:\r\n",
    "\r\n",
    "    hela = 'hela'\r\n",
    "\r\n",
    "    lambda func, x, y: func(x, y) * 2"
   ],
   "outputs": [],
   "metadata": {}
  },
  {
   "cell_type": "code",
   "execution_count": 17,
   "source": [
    "Lambda_store.__dict__"
   ],
   "outputs": [
    {
     "output_type": "execute_result",
     "data": {
      "text/plain": [
       "mappingproxy({'__module__': '__main__',\n",
       "              'hela': 'hela',\n",
       "              '__dict__': <attribute '__dict__' of 'Lambda_store' objects>,\n",
       "              '__weakref__': <attribute '__weakref__' of 'Lambda_store' objects>,\n",
       "              '__doc__': None})"
      ]
     },
     "metadata": {},
     "execution_count": 17
    }
   ],
   "metadata": {}
  },
  {
   "cell_type": "code",
   "execution_count": 18,
   "source": [
    "dir(Lambda_store)"
   ],
   "outputs": [
    {
     "output_type": "execute_result",
     "data": {
      "text/plain": [
       "['__class__',\n",
       " '__delattr__',\n",
       " '__dict__',\n",
       " '__dir__',\n",
       " '__doc__',\n",
       " '__eq__',\n",
       " '__format__',\n",
       " '__ge__',\n",
       " '__getattribute__',\n",
       " '__gt__',\n",
       " '__hash__',\n",
       " '__init__',\n",
       " '__init_subclass__',\n",
       " '__le__',\n",
       " '__lt__',\n",
       " '__module__',\n",
       " '__ne__',\n",
       " '__new__',\n",
       " '__reduce__',\n",
       " '__reduce_ex__',\n",
       " '__repr__',\n",
       " '__setattr__',\n",
       " '__sizeof__',\n",
       " '__str__',\n",
       " '__subclasshook__',\n",
       " '__weakref__',\n",
       " 'hela']"
      ]
     },
     "metadata": {},
     "execution_count": 18
    }
   ],
   "metadata": {}
  },
  {
   "cell_type": "code",
   "execution_count": 19,
   "source": [
    "ls = Lambda_store()"
   ],
   "outputs": [],
   "metadata": {}
  },
  {
   "cell_type": "code",
   "execution_count": 20,
   "source": [
    "ls.__dict__"
   ],
   "outputs": [
    {
     "output_type": "execute_result",
     "data": {
      "text/plain": [
       "{}"
      ]
     },
     "metadata": {},
     "execution_count": 20
    }
   ],
   "metadata": {}
  },
  {
   "cell_type": "code",
   "execution_count": 21,
   "source": [
    "dir(ls)"
   ],
   "outputs": [
    {
     "output_type": "execute_result",
     "data": {
      "text/plain": [
       "['__class__',\n",
       " '__delattr__',\n",
       " '__dict__',\n",
       " '__dir__',\n",
       " '__doc__',\n",
       " '__eq__',\n",
       " '__format__',\n",
       " '__ge__',\n",
       " '__getattribute__',\n",
       " '__gt__',\n",
       " '__hash__',\n",
       " '__init__',\n",
       " '__init_subclass__',\n",
       " '__le__',\n",
       " '__lt__',\n",
       " '__module__',\n",
       " '__ne__',\n",
       " '__new__',\n",
       " '__reduce__',\n",
       " '__reduce_ex__',\n",
       " '__repr__',\n",
       " '__setattr__',\n",
       " '__sizeof__',\n",
       " '__str__',\n",
       " '__subclasshook__',\n",
       " '__weakref__',\n",
       " 'hela']"
      ]
     },
     "metadata": {},
     "execution_count": 21
    }
   ],
   "metadata": {}
  },
  {
   "cell_type": "code",
   "execution_count": 22,
   "source": [
    "# lambda's limitations\r\n",
    "\r\n",
    "# No statement\r\n",
    "(lambda x: assert x == 2)(2) # error becouse x == 2\r\n",
    "\r\n",
    "# Single Expression\r\n",
    "\r\n",
    "# Type Annotations\r\n",
    "\r\n",
    "lambda first: str, last: str: first.title() + \" \" + last.title() -> str # str is suggested as type of arguments is causing the error\r\n",
    "\r\n",
    "\r\n"
   ],
   "outputs": [
    {
     "output_type": "error",
     "ename": "SyntaxError",
     "evalue": "invalid syntax (<ipython-input-22-2f254e80333a>, line 4)",
     "traceback": [
      "\u001b[1;36m  File \u001b[1;32m\"<ipython-input-22-2f254e80333a>\"\u001b[1;36m, line \u001b[1;32m4\u001b[0m\n\u001b[1;33m    (lambda x: assert x == 2)(2) # error becouse x == 2\u001b[0m\n\u001b[1;37m                    ^\u001b[0m\n\u001b[1;31mSyntaxError\u001b[0m\u001b[1;31m:\u001b[0m invalid syntax\n"
     ]
    }
   ],
   "metadata": {}
  },
  {
   "cell_type": "code",
   "execution_count": 63,
   "source": [
    "# Lambda can take argument in all forms\r\n",
    "# \r\n",
    "# - Positional arguments\r\n",
    "# - Named arguments (sometimes called keyword arguments)\r\n",
    "# - Variable list of arguments (often referred to as varargs)\r\n",
    "# - Variable list of keyword arguments\r\n",
    "# - Keyword-only arguments\r\n",
    "\r\n",
    "(lambda x, y, z: x + y + z)(1, 2, 3)\r\n",
    "\r\n",
    "(lambda x, y, z=3: x + y + z)(1, 2)\r\n",
    "\r\n",
    "(lambda x, y, z=3: x + y + z)(1, y=2)\r\n",
    "\r\n",
    "(lambda *args: sum(args))(1,2,3)\r\n",
    "\r\n",
    "(lambda **kwargs: sum(kwargs.values()))(one=1, two=2, three=3)\r\n",
    "\r\n",
    "(lambda x, *, y=0, z=0: x + y + z)(1, y=2, z=3)"
   ],
   "outputs": [
    {
     "output_type": "execute_result",
     "data": {
      "text/plain": [
       "6"
      ]
     },
     "metadata": {},
     "execution_count": 63
    }
   ],
   "metadata": {}
  },
  {
   "cell_type": "code",
   "execution_count": 68,
   "source": [
    "# Decorators with Lambda\r\n",
    "\r\n",
    "# Defining a decorator\r\n",
    "def trace(f):\r\n",
    "    def wrap(*args, **kwargs):\r\n",
    "        print(f\"[TRACE] func: {f.__name__}, args: {args}, kwargs: {kwargs}\")\r\n",
    "        return f(*args, **kwargs)\r\n",
    "\r\n",
    "    return wrap\r\n",
    "\r\n",
    "# Applying decorator to a function\r\n",
    "@trace\r\n",
    "def add_two(x):\r\n",
    "    return x ** 2\r\n",
    "\r\n",
    "# Calling the decorated function\r\n",
    "add_two(3)\r\n",
    "\r\n",
    "# Applying decorator to a lambda\r\n",
    "print((trace(lambda x: x ** 2))(3))"
   ],
   "outputs": [
    {
     "output_type": "stream",
     "name": "stdout",
     "text": [
      "[TRACE] func: add_two, args: (3,), kwargs: {}\n",
      "[TRACE] func: <lambda>, args: (3,), kwargs: {}\n",
      "9\n"
     ]
    }
   ],
   "metadata": {}
  },
  {
   "cell_type": "code",
   "execution_count": 86,
   "source": [
    "# good example of using lambda with decorators\r\n",
    "\r\n",
    "@trace\r\n",
    "def exe1(x):\r\n",
    "    l = []\r\n",
    "    for r in range(x):\r\n",
    "        l.append(r ** 2)\r\n",
    "    return l\r\n",
    "\r\n",
    "#list(map(trace(lambda x: x*2), range(3)))"
   ],
   "outputs": [],
   "metadata": {}
  },
  {
   "cell_type": "code",
   "execution_count": 87,
   "source": [
    "exe1(3)"
   ],
   "outputs": [
    {
     "output_type": "stream",
     "name": "stdout",
     "text": [
      "[TRACE] func: exe1, args: (3,), kwargs: {}\n"
     ]
    },
    {
     "output_type": "execute_result",
     "data": {
      "text/plain": [
       "[0, 1, 4]"
      ]
     },
     "metadata": {},
     "execution_count": 87
    }
   ],
   "metadata": {}
  },
  {
   "cell_type": "code",
   "execution_count": 76,
   "source": [
    "\r\n",
    "list(map(trace(lambda x: x*2), range(3)))"
   ],
   "outputs": [
    {
     "output_type": "stream",
     "name": "stdout",
     "text": [
      "[TRACE] func: <lambda>, args: (0,), kwargs: {}\n",
      "[TRACE] func: <lambda>, args: (1,), kwargs: {}\n",
      "[TRACE] func: <lambda>, args: (2,), kwargs: {}\n"
     ]
    },
    {
     "output_type": "execute_result",
     "data": {
      "text/plain": [
       "[0, 2, 4]"
      ]
     },
     "metadata": {},
     "execution_count": 76
    }
   ],
   "metadata": {}
  },
  {
   "cell_type": "code",
   "execution_count": 81,
   "source": [
    "# Lambda in loops\r\n",
    "\r\n",
    "# regular function\r\n",
    "def wrap(n):\r\n",
    "    def f():\r\n",
    "        print(n)\r\n",
    "    return f\r\n",
    "\r\n",
    "numbers = 'one', 'two', 'three'\r\n",
    "funcs = []\r\n",
    "for n in numbers:\r\n",
    "    funcs.append(wrap(n))\r\n",
    "\r\n",
    "for f in funcs:\r\n",
    "    f()\r\n",
    "\r\n"
   ],
   "outputs": [
    {
     "output_type": "stream",
     "name": "stdout",
     "text": [
      "one\n",
      "two\n",
      "three\n"
     ]
    }
   ],
   "metadata": {}
  },
  {
   "cell_type": "code",
   "execution_count": 82,
   "source": [
    "# same implementation in lambda\r\n",
    "\r\n",
    "numbers = 'one', 'two', 'three'\r\n",
    "funcs = []\r\n",
    "for n in numbers:\r\n",
    "    funcs.append(lambda: print(n))\r\n",
    "\r\n",
    "for f in funcs:\r\n",
    "    f()"
   ],
   "outputs": [
    {
     "output_type": "stream",
     "name": "stdout",
     "text": [
      "three\n",
      "three\n",
      "three\n"
     ]
    }
   ],
   "metadata": {}
  },
  {
   "cell_type": "code",
   "execution_count": 83,
   "source": [
    "# now is a fix for avove lambda  *****  must remember *********\r\n",
    "\r\n",
    "numbers = 'one', 'two', 'three'\r\n",
    "funcs = []\r\n",
    "for n in numbers:\r\n",
    "    funcs.append(lambda n=n: print(n))\r\n",
    "\r\n",
    "for f in funcs:\r\n",
    "    f()"
   ],
   "outputs": [
    {
     "output_type": "stream",
     "name": "stdout",
     "text": [
      "one\n",
      "two\n",
      "three\n"
     ]
    }
   ],
   "metadata": {}
  },
  {
   "cell_type": "code",
   "execution_count": 88,
   "source": [
    "# Testing Lambdas\r\n",
    "\r\n",
    "import unittest\r\n",
    "\r\n",
    "addtwo = lambda x: x + 2\r\n",
    "\r\n",
    "class LambdaTest(unittest.TestCase):\r\n",
    "    def test_add_two(self):\r\n",
    "        self.assertEqual(addtwo(2), 4)\r\n",
    "\r\n",
    "    def test_add_two_point_two(self):\r\n",
    "        self.assertEqual(addtwo(2.2), 4.2)\r\n",
    "\r\n",
    "    def test_add_three(self):\r\n",
    "        # Should fail\r\n",
    "        self.assertEqual(addtwo(3), 6)\r\n",
    "\r\n",
    "if __name__ == '__main__':\r\n",
    "    unittest.main(verbosity=2)\r\n"
   ],
   "outputs": [
    {
     "output_type": "stream",
     "name": "stderr",
     "text": [
      "/home/marty/ (unittest.loader._FailedTest) ... ERROR\n",
      "\n",
      "======================================================================\n",
      "ERROR: /home/marty/ (unittest.loader._FailedTest)\n",
      "----------------------------------------------------------------------\n",
      "AttributeError: module '__main__' has no attribute '/home/marty/'\n",
      "\n",
      "----------------------------------------------------------------------\n",
      "Ran 1 test in 0.002s\n",
      "\n",
      "FAILED (errors=1)\n"
     ]
    },
    {
     "output_type": "error",
     "ename": "SystemExit",
     "evalue": "True",
     "traceback": [
      "An exception has occurred, use %tb to see the full traceback.\n",
      "\u001b[0;31mSystemExit\u001b[0m\u001b[0;31m:\u001b[0m True\n"
     ]
    }
   ],
   "metadata": {}
  },
  {
   "cell_type": "code",
   "execution_count": 89,
   "source": [
    "# more examples\n",
    "\n",
    "list(map(lambda x: x.upper(), ['cat', 'dog', 'cow']))\n",
    "\n",
    "list(filter(lambda x: 'o' in x, ['cat', 'dog', 'cow']))\n",
    "\n",
    "\n",
    "from functools import reduce\n",
    "\n",
    "reduce(lambda acc, x: f'{acc} | {x}', ['cat', 'dog', 'cow'])\n"
   ],
   "outputs": [
    {
     "output_type": "execute_result",
     "data": {
      "text/plain": [
       "'cat | dog | cow'"
      ]
     },
     "metadata": {},
     "execution_count": 89
    }
   ],
   "metadata": {}
  },
  {
   "cell_type": "code",
   "execution_count": 114,
   "source": [
    "from contextlib import contextmanager\n",
    "import secrets\n",
    "\n",
    "def gen_token():\n",
    "    \"\"\"Generate a random token.\"\"\"\n",
    "    return f'TOKEN_{secrets.token_hex(8)}'\n",
    "\n",
    "@contextmanager\n",
    "def mock_token():\n",
    "    \"\"\"Context manager to monkey patch the secrets.token_hex\n",
    "    function during testing.\n",
    "    \"\"\"\n",
    "    default_token_hex = secrets.token_hex\n",
    "    secrets.token_hex = lambda _: 'feedfacecafebeef'\n",
    "    yield\n",
    "    secrets.token_hex = default_token_hex\n",
    "\n",
    "def test_gen_key():\n",
    "    \"\"\"Test the random token.\"\"\"\n",
    "    with mock_token():\n",
    "        assert gen_token() == f\"TOKEN_{'feedfacecafebeef'}\"\n"
   ],
   "outputs": [],
   "metadata": {}
  },
  {
   "cell_type": "code",
   "execution_count": 115,
   "source": [
    "\n",
    "test_gen_key()"
   ],
   "outputs": [],
   "metadata": {}
  },
  {
   "cell_type": "code",
   "execution_count": null,
   "source": [],
   "outputs": [],
   "metadata": {}
  }
 ]
}