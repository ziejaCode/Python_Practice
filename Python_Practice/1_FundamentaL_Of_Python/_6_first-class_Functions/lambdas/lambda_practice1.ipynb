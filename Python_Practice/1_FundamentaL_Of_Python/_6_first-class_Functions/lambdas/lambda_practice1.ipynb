{
 "metadata": {
  "language_info": {
   "codemirror_mode": {
    "name": "ipython",
    "version": 3
   },
   "file_extension": ".py",
   "mimetype": "text/x-python",
   "name": "python",
   "nbconvert_exporter": "python",
   "pygments_lexer": "ipython3",
   "version": "3.6.9-final"
  },
  "orig_nbformat": 2,
  "kernelspec": {
   "name": "python36964bit0bc70279e1ae40098a673b37a979fad8",
   "display_name": "Python 3.6.9 64-bit"
  }
 },
 "nbformat": 4,
 "nbformat_minor": 2,
 "cells": [
  {
   "cell_type": "code",
   "execution_count": 94,
   "metadata": {},
   "outputs": [
    {
     "output_type": "execute_result",
     "data": {
      "text/plain": [
       "3"
      ]
     },
     "metadata": {},
     "execution_count": 94
    }
   ],
   "source": [
    "# Immediately Invoked Function Expression\n",
    "\n",
    "(lambda x: x + 1)(2)"
   ]
  },
  {
   "cell_type": "code",
   "execution_count": 95,
   "metadata": {},
   "outputs": [
    {
     "output_type": "execute_result",
     "data": {
      "text/plain": [
       "3"
      ]
     },
     "metadata": {},
     "execution_count": 95
    }
   ],
   "source": [
    "# lambda method assigned to variable\n",
    "\n",
    "add_one = lambda x: x + 1\n",
    "add_one(2)"
   ]
  },
  {
   "cell_type": "code",
   "execution_count": 96,
   "metadata": {},
   "outputs": [
    {
     "output_type": "execute_result",
     "data": {
      "text/plain": [
       "'Full name: Guido Van Rossum'"
      ]
     },
     "metadata": {},
     "execution_count": 96
    }
   ],
   "source": [
    "# lambda takes two argument\n",
    "\n",
    "full_name = lambda first, last: f'Full name: {first.title()} {last.title()}'\n",
    "full_name('guido', 'van rossum')"
   ]
  },
  {
   "cell_type": "code",
   "execution_count": 97,
   "metadata": {},
   "outputs": [
    {
     "output_type": "execute_result",
     "data": {
      "text/plain": [
       "<function __main__.<lambda>(x, y)>"
      ]
     },
     "metadata": {},
     "execution_count": 97
    }
   ],
   "source": [
    "# simpel lambda \n",
    "\n",
    "lambda x, y: x + y\n"
   ]
  },
  {
   "cell_type": "code",
   "execution_count": 98,
   "metadata": {},
   "outputs": [
    {
     "output_type": "execute_result",
     "data": {
      "text/plain": [
       "3"
      ]
     },
     "metadata": {},
     "execution_count": 98
    }
   ],
   "source": [
    "# above lambda is called\n",
    "\n",
    "_(1, 2)"
   ]
  },
  {
   "cell_type": "code",
   "execution_count": 99,
   "metadata": {},
   "outputs": [
    {
     "output_type": "execute_result",
     "data": {
      "text/plain": [
       "6"
      ]
     },
     "metadata": {},
     "execution_count": 99
    }
   ],
   "source": [
    "# lambda takes function as parameter\n",
    "\n",
    "high_ord_func = lambda x, func: x + func(x)\n",
    "high_ord_func(2, lambda x: x * x)"
   ]
  },
  {
   "cell_type": "code",
   "execution_count": 100,
   "metadata": {},
   "outputs": [
    {
     "output_type": "execute_result",
     "data": {
      "text/plain": [
       "12"
      ]
     },
     "metadata": {},
     "execution_count": 100
    }
   ],
   "source": [
    "func1 = lambda func, x, y: func(x, y) * 2\n",
    "def func2(a, b):\n",
    "    return a * b\n",
    "\n",
    "func1(func2, 2, 3)"
   ]
  },
  {
   "cell_type": "code",
   "execution_count": 101,
   "metadata": {},
   "outputs": [
    {
     "output_type": "execute_result",
     "data": {
      "text/plain": [
       "{}"
      ]
     },
     "metadata": {},
     "execution_count": 101
    }
   ],
   "source": [
    "func1.__dict__"
   ]
  },
  {
   "cell_type": "code",
   "execution_count": 102,
   "metadata": {},
   "outputs": [
    {
     "output_type": "execute_result",
     "data": {
      "text/plain": [
       "12"
      ]
     },
     "metadata": {},
     "execution_count": 102
    }
   ],
   "source": [
    "(lambda func, x, y: func(x, y) * 2)(func2, 2, 3) # function called Anonymously"
   ]
  },
  {
   "cell_type": "code",
   "execution_count": 103,
   "metadata": {},
   "outputs": [
    {
     "output_type": "execute_result",
     "data": {
      "text/plain": [
       "12"
      ]
     },
     "metadata": {},
     "execution_count": 103
    }
   ],
   "source": [
    "# igher order lambda function takes lamda function as parameter\n",
    "\n",
    "(lambda func, x, y: func(x, y) * 2)(lambda x, y: x * y ,2, 3)"
   ]
  },
  {
   "cell_type": "code",
   "execution_count": 104,
   "metadata": {},
   "outputs": [],
   "source": [
    "class Lambda_store:\n",
    "\n",
    "    hela = 'hela'\n",
    "\n",
    "    lambda func, x, y: func(x, y) * 2"
   ]
  },
  {
   "cell_type": "code",
   "execution_count": 105,
   "metadata": {},
   "outputs": [
    {
     "output_type": "execute_result",
     "data": {
      "text/plain": [
       "mappingproxy({'__module__': '__main__',\n",
       "              'hela': 'hela',\n",
       "              '__dict__': <attribute '__dict__' of 'Lambda_store' objects>,\n",
       "              '__weakref__': <attribute '__weakref__' of 'Lambda_store' objects>,\n",
       "              '__doc__': None})"
      ]
     },
     "metadata": {},
     "execution_count": 105
    }
   ],
   "source": [
    "Lambda_store.__dict__"
   ]
  },
  {
   "cell_type": "code",
   "execution_count": 106,
   "metadata": {},
   "outputs": [
    {
     "output_type": "execute_result",
     "data": {
      "text/plain": [
       "['__class__',\n",
       " '__delattr__',\n",
       " '__dict__',\n",
       " '__dir__',\n",
       " '__doc__',\n",
       " '__eq__',\n",
       " '__format__',\n",
       " '__ge__',\n",
       " '__getattribute__',\n",
       " '__gt__',\n",
       " '__hash__',\n",
       " '__init__',\n",
       " '__init_subclass__',\n",
       " '__le__',\n",
       " '__lt__',\n",
       " '__module__',\n",
       " '__ne__',\n",
       " '__new__',\n",
       " '__reduce__',\n",
       " '__reduce_ex__',\n",
       " '__repr__',\n",
       " '__setattr__',\n",
       " '__sizeof__',\n",
       " '__str__',\n",
       " '__subclasshook__',\n",
       " '__weakref__',\n",
       " 'hela']"
      ]
     },
     "metadata": {},
     "execution_count": 106
    }
   ],
   "source": [
    "dir(Lambda_store)"
   ]
  },
  {
   "cell_type": "code",
   "execution_count": 107,
   "metadata": {},
   "outputs": [],
   "source": [
    "ls = Lambda_store()"
   ]
  },
  {
   "cell_type": "code",
   "execution_count": 108,
   "metadata": {},
   "outputs": [
    {
     "output_type": "execute_result",
     "data": {
      "text/plain": [
       "{}"
      ]
     },
     "metadata": {},
     "execution_count": 108
    }
   ],
   "source": [
    "ls.__dict__"
   ]
  },
  {
   "cell_type": "code",
   "execution_count": 109,
   "metadata": {},
   "outputs": [
    {
     "output_type": "execute_result",
     "data": {
      "text/plain": [
       "['__class__',\n",
       " '__delattr__',\n",
       " '__dict__',\n",
       " '__dir__',\n",
       " '__doc__',\n",
       " '__eq__',\n",
       " '__format__',\n",
       " '__ge__',\n",
       " '__getattribute__',\n",
       " '__gt__',\n",
       " '__hash__',\n",
       " '__init__',\n",
       " '__init_subclass__',\n",
       " '__le__',\n",
       " '__lt__',\n",
       " '__module__',\n",
       " '__ne__',\n",
       " '__new__',\n",
       " '__reduce__',\n",
       " '__reduce_ex__',\n",
       " '__repr__',\n",
       " '__setattr__',\n",
       " '__sizeof__',\n",
       " '__str__',\n",
       " '__subclasshook__',\n",
       " '__weakref__',\n",
       " 'hela']"
      ]
     },
     "metadata": {},
     "execution_count": 109
    }
   ],
   "source": [
    "dir(ls)"
   ]
  },
  {
   "cell_type": "code",
   "execution_count": 110,
   "metadata": {},
   "outputs": [
    {
     "output_type": "error",
     "ename": "SyntaxError",
     "evalue": "invalid syntax (<ipython-input-110-2f254e80333a>, line 4)",
     "traceback": [
      "\u001b[0;36m  File \u001b[0;32m\"<ipython-input-110-2f254e80333a>\"\u001b[0;36m, line \u001b[0;32m4\u001b[0m\n\u001b[0;31m    (lambda x: assert x == 2)(2) # error becouse x == 2\u001b[0m\n\u001b[0m                    ^\u001b[0m\n\u001b[0;31mSyntaxError\u001b[0m\u001b[0;31m:\u001b[0m invalid syntax\n"
     ]
    }
   ],
   "source": [
    "# lambda's limitations\n",
    "\n",
    "# No statement\n",
    "(lambda x: assert x == 2)(2) # error becouse x == 2\n",
    "\n",
    "# Single Expression\n",
    "\n",
    "# Type Annotations\n",
    "\n",
    "lambda first: str, last: str: first.title() + \" \" + last.title() -> str # str is suggested as type of arguments is causing the error\n",
    "\n",
    "\n"
   ]
  },
  {
   "cell_type": "code",
   "execution_count": 63,
   "metadata": {},
   "outputs": [
    {
     "output_type": "execute_result",
     "data": {
      "text/plain": [
       "6"
      ]
     },
     "metadata": {},
     "execution_count": 63
    }
   ],
   "source": [
    "# Lambda can take argument in all forms\n",
    "# \n",
    "# - Positional arguments\n",
    "# - Named arguments (sometimes called keyword arguments)\n",
    "# - Variable list of arguments (often referred to as varargs)\n",
    "# - Variable list of keyword arguments\n",
    "# - Keyword-only arguments\n",
    "\n",
    "(lambda x, y, z: x + y + z)(1, 2, 3)\n",
    "\n",
    "(lambda x, y, z=3: x + y + z)(1, 2)\n",
    "\n",
    "(lambda x, y, z=3: x + y + z)(1, y=2)\n",
    "\n",
    "(lambda *args: sum(args))(1,2,3)\n",
    "\n",
    "(lambda **kwargs: sum(kwargs.values()))(one=1, two=2, three=3)\n",
    "\n",
    "(lambda x, *, y=0, z=0: x + y + z)(1, y=2, z=3)"
   ]
  },
  {
   "cell_type": "code",
   "execution_count": 68,
   "metadata": {},
   "outputs": [
    {
     "output_type": "stream",
     "name": "stdout",
     "text": [
      "[TRACE] func: add_two, args: (3,), kwargs: {}\n[TRACE] func: <lambda>, args: (3,), kwargs: {}\n9\n"
     ]
    }
   ],
   "source": [
    "# Decorators with Lambda\n",
    "\n",
    "# Defining a decorator\n",
    "def trace(f):\n",
    "    def wrap(*args, **kwargs):\n",
    "        print(f\"[TRACE] func: {f.__name__}, args: {args}, kwargs: {kwargs}\")\n",
    "        return f(*args, **kwargs)\n",
    "\n",
    "    return wrap\n",
    "\n",
    "# Applying decorator to a function\n",
    "@trace\n",
    "def add_two(x):\n",
    "    return x ** 2\n",
    "\n",
    "# Calling the decorated function\n",
    "add_two(3)\n",
    "\n",
    "# Applying decorator to a lambda\n",
    "print((trace(lambda x: x ** 2))(3))"
   ]
  },
  {
   "cell_type": "code",
   "execution_count": 86,
   "metadata": {},
   "outputs": [],
   "source": [
    "# good example of using lambda with decorators\n",
    "\n",
    "@trace\n",
    "def exe1(x):\n",
    "    l = []\n",
    "    for r in range(x):\n",
    "        l.append(r ** 2)\n",
    "    return l\n",
    "\n",
    "#list(map(trace(lambda x: x*2), range(3)))"
   ]
  },
  {
   "cell_type": "code",
   "execution_count": 87,
   "metadata": {},
   "outputs": [
    {
     "output_type": "stream",
     "name": "stdout",
     "text": [
      "[TRACE] func: exe1, args: (3,), kwargs: {}\n"
     ]
    },
    {
     "output_type": "execute_result",
     "data": {
      "text/plain": [
       "[0, 1, 4]"
      ]
     },
     "metadata": {},
     "execution_count": 87
    }
   ],
   "source": [
    "exe1(3)"
   ]
  },
  {
   "cell_type": "code",
   "execution_count": 76,
   "metadata": {},
   "outputs": [
    {
     "output_type": "stream",
     "name": "stdout",
     "text": [
      "[TRACE] func: <lambda>, args: (0,), kwargs: {}\n[TRACE] func: <lambda>, args: (1,), kwargs: {}\n[TRACE] func: <lambda>, args: (2,), kwargs: {}\n"
     ]
    },
    {
     "output_type": "execute_result",
     "data": {
      "text/plain": [
       "[0, 2, 4]"
      ]
     },
     "metadata": {},
     "execution_count": 76
    }
   ],
   "source": [
    "\n",
    "list(map(trace(lambda x: x*2), range(3)))"
   ]
  },
  {
   "cell_type": "code",
   "execution_count": 81,
   "metadata": {},
   "outputs": [
    {
     "output_type": "stream",
     "name": "stdout",
     "text": [
      "one\ntwo\nthree\n"
     ]
    }
   ],
   "source": [
    "# Lambda in loops\n",
    "\n",
    "# regular function\n",
    "def wrap(n):\n",
    "    def f():\n",
    "        print(n)\n",
    "    return f\n",
    "\n",
    "numbers = 'one', 'two', 'three'\n",
    "funcs = []\n",
    "for n in numbers:\n",
    "    funcs.append(wrap(n))\n",
    "\n",
    "for f in funcs:\n",
    "    f()\n",
    "\n"
   ]
  },
  {
   "cell_type": "code",
   "execution_count": 82,
   "metadata": {},
   "outputs": [
    {
     "output_type": "stream",
     "name": "stdout",
     "text": [
      "three\nthree\nthree\n"
     ]
    }
   ],
   "source": [
    "# same implementation in lambda\n",
    "\n",
    "numbers = 'one', 'two', 'three'\n",
    "funcs = []\n",
    "for n in numbers:\n",
    "    funcs.append(lambda: print(n))\n",
    "\n",
    "for f in funcs:\n",
    "    f()"
   ]
  },
  {
   "cell_type": "code",
   "execution_count": 83,
   "metadata": {},
   "outputs": [
    {
     "output_type": "stream",
     "name": "stdout",
     "text": [
      "one\ntwo\nthree\n"
     ]
    }
   ],
   "source": [
    "# now is a fix for avove lambda  *****  must remember *********\n",
    "\n",
    "numbers = 'one', 'two', 'three'\n",
    "funcs = []\n",
    "for n in numbers:\n",
    "    funcs.append(lambda n=n: print(n))\n",
    "\n",
    "for f in funcs:\n",
    "    f()"
   ]
  },
  {
   "cell_type": "code",
   "execution_count": 88,
   "metadata": {},
   "outputs": [
    {
     "output_type": "stream",
     "name": "stderr",
     "text": [
      "/home/marty/ (unittest.loader._FailedTest) ... ERROR\n",
      "\n",
      "======================================================================\n",
      "ERROR: /home/marty/ (unittest.loader._FailedTest)\n",
      "----------------------------------------------------------------------\n",
      "AttributeError: module '__main__' has no attribute '/home/marty/'\n",
      "\n",
      "----------------------------------------------------------------------\n",
      "Ran 1 test in 0.002s\n",
      "\n",
      "FAILED (errors=1)\n"
     ]
    },
    {
     "output_type": "error",
     "ename": "SystemExit",
     "evalue": "True",
     "traceback": [
      "An exception has occurred, use %tb to see the full traceback.\n",
      "\u001b[0;31mSystemExit\u001b[0m\u001b[0;31m:\u001b[0m True\n"
     ]
    }
   ],
   "source": [
    "# Testing Lambdas\n",
    "\n",
    "import unittest\n",
    "\n",
    "addtwo = lambda x: x + 2\n",
    "\n",
    "class LambdaTest(unittest.TestCase):\n",
    "    def test_add_two(self):\n",
    "        self.assertEqual(addtwo(2), 4)\n",
    "\n",
    "    def test_add_two_point_two(self):\n",
    "        self.assertEqual(addtwo(2.2), 4.2)\n",
    "\n",
    "    def test_add_three(self):\n",
    "        # Should fail\n",
    "        self.assertEqual(addtwo(3), 6)\n",
    "\n",
    "if __name__ == '__main__':\n",
    "    unittest.main(verbosity=2)\n"
   ]
  },
  {
   "cell_type": "code",
   "execution_count": 89,
   "metadata": {},
   "outputs": [
    {
     "output_type": "execute_result",
     "data": {
      "text/plain": [
       "'cat | dog | cow'"
      ]
     },
     "metadata": {},
     "execution_count": 89
    }
   ],
   "source": [
    "# more examples\n",
    "\n",
    "list(map(lambda x: x.upper(), ['cat', 'dog', 'cow']))\n",
    "\n",
    "list(filter(lambda x: 'o' in x, ['cat', 'dog', 'cow']))\n",
    "\n",
    "\n",
    "from functools import reduce\n",
    "\n",
    "reduce(lambda acc, x: f'{acc} | {x}', ['cat', 'dog', 'cow'])\n"
   ]
  },
  {
   "cell_type": "code",
   "execution_count": 114,
   "metadata": {},
   "outputs": [],
   "source": [
    "from contextlib import contextmanager\n",
    "import secrets\n",
    "\n",
    "def gen_token():\n",
    "    \"\"\"Generate a random token.\"\"\"\n",
    "    return f'TOKEN_{secrets.token_hex(8)}'\n",
    "\n",
    "@contextmanager\n",
    "def mock_token():\n",
    "    \"\"\"Context manager to monkey patch the secrets.token_hex\n",
    "    function during testing.\n",
    "    \"\"\"\n",
    "    default_token_hex = secrets.token_hex\n",
    "    secrets.token_hex = lambda _: 'feedfacecafebeef'\n",
    "    yield\n",
    "    secrets.token_hex = default_token_hex\n",
    "\n",
    "def test_gen_key():\n",
    "    \"\"\"Test the random token.\"\"\"\n",
    "    with mock_token():\n",
    "        assert gen_token() == f\"TOKEN_{'feedfacecafebeef'}\"\n"
   ]
  },
  {
   "cell_type": "code",
   "execution_count": 115,
   "metadata": {},
   "outputs": [],
   "source": [
    "\n",
    "test_gen_key()"
   ]
  },
  {
   "cell_type": "code",
   "execution_count": null,
   "metadata": {},
   "outputs": [],
   "source": []
  }
 ]
}