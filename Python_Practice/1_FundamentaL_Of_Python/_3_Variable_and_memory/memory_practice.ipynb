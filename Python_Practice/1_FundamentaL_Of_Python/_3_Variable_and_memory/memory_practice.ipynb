{
 "metadata": {
  "language_info": {
   "codemirror_mode": {
    "name": "ipython",
    "version": 3
   },
   "file_extension": ".py",
   "mimetype": "text/x-python",
   "name": "python",
   "nbconvert_exporter": "python",
   "pygments_lexer": "ipython3",
   "version": "3.7.6-final"
  },
  "orig_nbformat": 2,
  "kernelspec": {
   "name": "Python 3.7.6 64-bit ('base': conda)",
   "display_name": "Python 3.7.6 64-bit ('base': conda)",
   "metadata": {
    "interpreter": {
     "hash": "ef6158b8f70acb55f14e9e8900390c101c5e76b0b37a2fa3a79ca4e7b97b63bf"
    }
   }
  }
 },
 "nbformat": 4,
 "nbformat_minor": 2,
 "cells": [
  {
   "cell_type": "code",
   "execution_count": 49,
   "metadata": {},
   "outputs": [
    {
     "output_type": "execute_result",
     "data": {
      "text/plain": [
       "58"
      ]
     },
     "metadata": {},
     "execution_count": 49
    }
   ],
   "source": [
    "import ctypes\n",
    "import sys\n",
    "x = 23\n",
    "\n",
    "h = \"hello\"\n",
    "u = h\n",
    "\n",
    "id(x) # shows id of x in memory\n",
    "\n",
    "id(h)\n",
    "\n",
    "sys.getrefcount(h) # this method shows how many varables refers to this object"
   ]
  },
  {
   "cell_type": "code",
   "execution_count": 50,
   "metadata": {},
   "outputs": [
    {
     "output_type": "execute_result",
     "data": {
      "text/plain": [
       "57"
      ]
     },
     "metadata": {},
     "execution_count": 50
    }
   ],
   "source": [
    "def refs(x):\n",
    "    return ctypes.c_long.from_address(x).value\n",
    "\n",
    "refs(id(h))"
   ]
  },
  {
   "cell_type": "code",
   "execution_count": 20,
   "metadata": {},
   "outputs": [
    {
     "output_type": "execute_result",
     "data": {
      "text/plain": [
       "'hello'"
      ]
     },
     "metadata": {},
     "execution_count": 20
    }
   ],
   "source": [
    "h"
   ]
  },
  {
   "cell_type": "code",
   "execution_count": 17,
   "metadata": {},
   "outputs": [
    {
     "output_type": "execute_result",
     "data": {
      "text/plain": [
       "23"
      ]
     },
     "metadata": {},
     "execution_count": 17
    }
   ],
   "source": [
    "x"
   ]
  },
  {
   "cell_type": "code",
   "execution_count": 13,
   "metadata": {},
   "outputs": [
    {
     "output_type": "execute_result",
     "data": {
      "text/plain": [
       "'0x7ffd1eefa450'"
      ]
     },
     "metadata": {},
     "execution_count": 13
    }
   ],
   "source": [
    "hex(x)\n",
    "hex(id(x)) # hexadecimal version of x address"
   ]
  },
  {
   "cell_type": "code",
   "execution_count": 16,
   "metadata": {},
   "outputs": [
    {
     "output_type": "stream",
     "name": "stdout",
     "text": [
      "2159524294192\nf e e f\n2159450499312\n2159450882224\n2159450882224\n2159450499312\n"
     ]
    }
   ],
   "source": [
    "my_var2 = \"feef\"\n",
    "\n",
    "print(id(my_var2))\n",
    "\n",
    "a,b,c,d = my_var2\n",
    "\n",
    "t = a,b,c,d\n",
    "\n",
    "print(a,b,c,d)\n",
    "\n",
    "for i in t:\n",
    "    print(id(i))"
   ]
  },
  {
   "cell_type": "code",
   "execution_count": 5,
   "metadata": {},
   "outputs": [
    {
     "output_type": "execute_result",
     "data": {
      "text/plain": [
       "int"
      ]
     },
     "metadata": {},
     "execution_count": 5
    }
   ],
   "source": [
    "\n",
    "type(x) # shows type of x"
   ]
  },
  {
   "cell_type": "code",
   "execution_count": 7,
   "metadata": {},
   "outputs": [
    {
     "output_type": "stream",
     "name": "stdout",
     "text": [
      "23\n"
     ]
    }
   ],
   "source": [
    "memory_address = 140725122475088\n",
    "\n",
    "print(ctypes.cast(memory_address,ctypes.py_object).value)\n"
   ]
  },
  {
   "cell_type": "code",
   "execution_count": 8,
   "metadata": {},
   "outputs": [
    {
     "output_type": "stream",
     "name": "stdout",
     "text": [
      "23\n<class 'int'>\n<class 'int'>\n"
     ]
    }
   ],
   "source": [
    "import ctypes\n",
    "x = 23\n",
    "\n",
    "\n",
    "# this is how to get value from memory address\n",
    "print(ctypes.cast(id(x),ctypes.py_object).value)\n",
    "print(type(id(x)))\n",
    "print(type(ctypes.cast(id(x),ctypes.py_object).value))"
   ]
  },
  {
   "cell_type": "code",
   "execution_count": 10,
   "metadata": {},
   "outputs": [
    {
     "output_type": "stream",
     "name": "stdout",
     "text": [
      "2159514809456\n"
     ]
    }
   ],
   "source": [
    "def outerFunc():        \n",
    "    x = 'hello'  \n",
    "    address = int( hex(id(x)), 16  )\n",
    "    print(address)  \n",
    "    def innerFunc():\n",
    "        y = x        \n",
    "        #print(hex(id(y)))\n",
    "    # return memory address \n",
    "    return address\n",
    "    \n",
    "\n",
    "fn = outerFunc()"
   ]
  },
  {
   "cell_type": "code",
   "execution_count": 64,
   "metadata": {},
   "outputs": [
    {
     "output_type": "execute_result",
     "data": {
      "text/plain": [
       "64"
      ]
     },
     "metadata": {},
     "execution_count": 64
    }
   ],
   "source": [
    "# getting size of the object\n",
    "\n",
    "x = 8\n",
    "y= 9 \n",
    "ls = []\n",
    "lu = ls\n",
    "sys.getsizeof(ls)\n",
    "#sys.getsizeof(y)\n",
    "#sys.getsizeof(x)"
   ]
  },
  {
   "cell_type": "code",
   "execution_count": null,
   "metadata": {},
   "outputs": [],
   "source": []
  }
 ]
}