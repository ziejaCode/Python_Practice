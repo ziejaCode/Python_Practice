{
 "cells": [
  {
   "cell_type": "markdown",
   "source": [
    "## Python Optimizations: String Interning"
   ],
   "metadata": {}
  },
  {
   "cell_type": "markdown",
   "source": [
    "Python will automatically intern *certain* strings.\n",
    "\n",
    "In particular all the identifiers (variable names, function names, class names, etc) are interned (singleton objects created).\n",
    "\n",
    "Python will also intern string literals that look like identifiers.\n",
    "\n",
    "For example:"
   ],
   "metadata": {}
  },
  {
   "cell_type": "code",
   "execution_count": 1,
   "source": [
    "a = 'hello'\r\n",
    "b = 'hello'\r\n",
    "print(id(a))\r\n",
    "print(id(b))"
   ],
   "outputs": [
    {
     "output_type": "stream",
     "name": "stdout",
     "text": [
      "1342722069536\n",
      "1342722069536\n"
     ]
    }
   ],
   "metadata": {}
  },
  {
   "cell_type": "markdown",
   "source": [
    "But not the following:"
   ],
   "metadata": {}
  },
  {
   "cell_type": "code",
   "execution_count": 2,
   "source": [
    "a = 'hello, world!'\r\n",
    "b = 'hello, world!'\r\n",
    "print(id(a))\r\n",
    "print(id(b))"
   ],
   "outputs": [
    {
     "output_type": "stream",
     "name": "stdout",
     "text": [
      "1342722047024\n",
      "1342722170928\n"
     ]
    }
   ],
   "metadata": {}
  },
  {
   "cell_type": "markdown",
   "source": [
    "However, because the following literals resemble identifiers, even though they are quite long, Python will still automatically intern them:"
   ],
   "metadata": {}
  },
  {
   "cell_type": "code",
   "execution_count": 3,
   "source": [
    "a = 'hello_world'\r\n",
    "b = 'hello_world'\r\n",
    "print(id(a))\r\n",
    "print(id(b))"
   ],
   "outputs": [
    {
     "output_type": "stream",
     "name": "stdout",
     "text": [
      "1342722047856\n",
      "1342722047856\n"
     ]
    }
   ],
   "metadata": {}
  },
  {
   "cell_type": "markdown",
   "source": [
    "And even longer:"
   ],
   "metadata": {}
  },
  {
   "cell_type": "code",
   "execution_count": 4,
   "source": [
    "a = '_this_is_a_long_string_that_could_be_used_as_an_identifier'\r\n",
    "b = '_this_is_a_long_string_that_could_be_used_as_an_identifier'\r\n",
    "print(id(a))\r\n",
    "print(id(b))"
   ],
   "outputs": [
    {
     "output_type": "stream",
     "name": "stdout",
     "text": [
      "1342721886784\n",
      "1342721886784\n"
     ]
    }
   ],
   "metadata": {}
  },
  {
   "cell_type": "markdown",
   "source": [
    "Even if the string starts with a digit:"
   ],
   "metadata": {}
  },
  {
   "cell_type": "code",
   "execution_count": 5,
   "source": [
    "a = '1_hello_world'\n",
    "b = '1_hello_world'\n",
    "print(id(a))\n",
    "print(id(b))"
   ],
   "outputs": [
    {
     "output_type": "stream",
     "name": "stdout",
     "text": [
      "1342722046256\n",
      "1342722046256\n"
     ]
    }
   ],
   "metadata": {}
  },
  {
   "cell_type": "markdown",
   "source": [
    "That was interned (pointer is the same), but look at this one:"
   ],
   "metadata": {}
  },
  {
   "cell_type": "code",
   "execution_count": 6,
   "source": [
    "a = '1 hello world'\n",
    "b = '1 hello world'\n",
    "print(id(a))\n",
    "print(id(b))"
   ],
   "outputs": [
    {
     "output_type": "stream",
     "name": "stdout",
     "text": [
      "1342722046832\n",
      "1342722172592\n"
     ]
    }
   ],
   "metadata": {}
  },
  {
   "cell_type": "markdown",
   "source": [
    "Interning strings (making them singleton objects) means that testing for string equality can be done faster by comparing the memory address:"
   ],
   "metadata": {}
  },
  {
   "cell_type": "code",
   "execution_count": 7,
   "source": [
    "a = 'this_is_a_long_string'\n",
    "b = 'this_is_a_long_string'\n",
    "print('a==b:', a == b)\n",
    "print('a is b:', a is b)"
   ],
   "outputs": [
    {
     "output_type": "stream",
     "name": "stdout",
     "text": [
      "a==b: True\n",
      "a is b: True\n"
     ]
    }
   ],
   "metadata": {}
  },
  {
   "cell_type": "markdown",
   "source": [
    "#### <font color=\"orange\">Note: Remember, using `is` ONLY works if the strings were interned!</font>\n",
    "\n",
    "Here's where this technique fails:"
   ],
   "metadata": {}
  },
  {
   "cell_type": "code",
   "execution_count": 8,
   "source": [
    "a = 'hello world'\n",
    "b = 'hello world'\n",
    "print('a==b:', a==b)\n",
    "print('a is b:', a is b)"
   ],
   "outputs": [
    {
     "output_type": "stream",
     "name": "stdout",
     "text": [
      "a==b: True\n",
      "a is b: False\n"
     ]
    }
   ],
   "metadata": {}
  },
  {
   "cell_type": "markdown",
   "source": [
    "You *can* force strings to be interned (but only use it if you have a valid performance optimization need):"
   ],
   "metadata": {}
  },
  {
   "cell_type": "code",
   "execution_count": 9,
   "source": [
    "import sys"
   ],
   "outputs": [],
   "metadata": {
    "collapsed": true
   }
  },
  {
   "cell_type": "code",
   "execution_count": 10,
   "source": [
    "a = sys.intern('hello world')\n",
    "b = sys.intern('hello world')\n",
    "c = 'hello world'\n",
    "print(id(a))\n",
    "print(id(b))\n",
    "print(id(c))"
   ],
   "outputs": [
    {
     "output_type": "stream",
     "name": "stdout",
     "text": [
      "1342722172080\n",
      "1342722172080\n",
      "1342722174896\n"
     ]
    }
   ],
   "metadata": {}
  },
  {
   "cell_type": "markdown",
   "source": [
    "Notice how `a` and `b` are pointing to the same object, but `c` is **NOT**.\n",
    "\n",
    "So, since both `a` and `b` were interned we can use `is` to test for equality of the two strings:"
   ],
   "metadata": {}
  },
  {
   "cell_type": "code",
   "execution_count": 11,
   "source": [
    "print('a==b:', a==b)\n",
    "print('a is b:', a is b)"
   ],
   "outputs": [
    {
     "output_type": "stream",
     "name": "stdout",
     "text": [
      "a==b: True\n",
      "a is b: True\n"
     ]
    }
   ],
   "metadata": {}
  },
  {
   "cell_type": "markdown",
   "source": [
    "So, does interning really make a big speed difference?\n",
    "\n",
    "Yes, but only if you are performing a *lot* of comparisons."
   ],
   "metadata": {}
  },
  {
   "cell_type": "markdown",
   "source": [
    "Let's run some quick and dirty benchmarks:"
   ],
   "metadata": {}
  },
  {
   "cell_type": "code",
   "execution_count": 19,
   "source": [
    "v = 'a long string that is not interned' * 200\n",
    "print(v)"
   ],
   "outputs": [
    {
     "output_type": "stream",
     "name": "stdout",
     "text": [
      "a long string that is not interneda long string that is not interneda long string that is not interneda long string that is not interneda long string that is not interneda long string that is not interneda long string that is not interneda long string that is not interneda long string that is not interneda long string that is not interneda long string that is not interneda long string that is not interneda long string that is not interneda long string that is not interneda long string that is not interneda long string that is not interneda long string that is not interneda long string that is not interneda long string that is not interneda long string that is not interneda long string that is not interneda long string that is not interneda long string that is not interneda long string that is not interneda long string that is not interneda long string that is not interneda long string that is not interneda long string that is not interneda long string that is not interneda long string that is not interneda long string that is not interneda long string that is not interneda long string that is not interneda long string that is not interneda long string that is not interneda long string that is not interneda long string that is not interneda long string that is not interneda long string that is not interneda long string that is not interneda long string that is not interneda long string that is not interneda long string that is not interneda long string that is not interneda long string that is not interneda long string that is not interneda long string that is not interneda long string that is not interneda long string that is not interneda long string that is not interneda long string that is not interneda long string that is not interneda long string that is not interneda long string that is not interneda long string that is not interneda long string that is not interneda long string that is not interneda long string that is not interneda long string that is not interneda long string that is not interneda long string that is not interneda long string that is not interneda long string that is not interneda long string that is not interneda long string that is not interneda long string that is not interneda long string that is not interneda long string that is not interneda long string that is not interneda long string that is not interneda long string that is not interneda long string that is not interneda long string that is not interneda long string that is not interneda long string that is not interneda long string that is not interneda long string that is not interneda long string that is not interneda long string that is not interneda long string that is not interneda long string that is not interneda long string that is not interneda long string that is not interneda long string that is not interneda long string that is not interneda long string that is not interneda long string that is not interneda long string that is not interneda long string that is not interneda long string that is not interneda long string that is not interneda long string that is not interneda long string that is not interneda long string that is not interneda long string that is not interneda long string that is not interneda long string that is not interneda long string that is not interneda long string that is not interneda long string that is not interneda long string that is not interneda long string that is not interneda long string that is not interneda long string that is not interneda long string that is not interneda long string that is not interneda long string that is not interneda long string that is not interneda long string that is not interneda long string that is not interneda long string that is not interneda long string that is not interneda long string that is not interneda long string that is not interneda long string that is not interneda long string that is not interneda long string that is not interneda long string that is not interneda long string that is not interneda long string that is not interneda long string that is not interneda long string that is not interneda long string that is not interneda long string that is not interneda long string that is not interneda long string that is not interneda long string that is not interneda long string that is not interneda long string that is not interneda long string that is not interneda long string that is not interneda long string that is not interneda long string that is not interneda long string that is not interneda long string that is not interneda long string that is not interneda long string that is not interneda long string that is not interneda long string that is not interneda long string that is not interneda long string that is not interneda long string that is not interneda long string that is not interneda long string that is not interneda long string that is not interneda long string that is not interneda long string that is not interneda long string that is not interneda long string that is not interneda long string that is not interneda long string that is not interneda long string that is not interneda long string that is not interneda long string that is not interneda long string that is not interneda long string that is not interneda long string that is not interneda long string that is not interneda long string that is not interneda long string that is not interneda long string that is not interneda long string that is not interneda long string that is not interneda long string that is not interneda long string that is not interneda long string that is not interneda long string that is not interneda long string that is not interneda long string that is not interneda long string that is not interneda long string that is not interneda long string that is not interneda long string that is not interneda long string that is not interneda long string that is not interneda long string that is not interneda long string that is not interneda long string that is not interneda long string that is not interneda long string that is not interneda long string that is not interneda long string that is not interneda long string that is not interneda long string that is not interneda long string that is not interneda long string that is not interneda long string that is not interneda long string that is not interneda long string that is not interneda long string that is not interneda long string that is not interneda long string that is not interneda long string that is not interneda long string that is not interneda long string that is not interneda long string that is not interneda long string that is not interneda long string that is not interneda long string that is not interneda long string that is not interned\n"
     ]
    }
   ],
   "metadata": {}
  },
  {
   "cell_type": "code",
   "execution_count": 16,
   "source": [
    "def compare_using_equals(n):\n",
    "    a = 'a long string that is not interned' * 200\n",
    "    b = 'a long string that is not interned' * 200\n",
    "    for i in range(n):\n",
    "        if a == b:\n",
    "            pass"
   ],
   "outputs": [],
   "metadata": {
    "collapsed": true
   }
  },
  {
   "cell_type": "code",
   "execution_count": 13,
   "source": [
    "def compare_using_interning(n):\n",
    "    a = sys.intern('a long string that is not interned' * 200)\n",
    "    b = sys.intern('a long string that is not interned' * 200)\n",
    "    for i in range(n):\n",
    "        if a is b:\n",
    "            pass"
   ],
   "outputs": [],
   "metadata": {
    "collapsed": true
   }
  },
  {
   "cell_type": "code",
   "execution_count": 8,
   "source": [
    "import time\n",
    "\n",
    "start = time.perf_counter()\n",
    "compare_using_equals(10000000)\n",
    "end = time.perf_counter()\n",
    "\n",
    "print('equality: ', end-start)\n"
   ],
   "outputs": [
    {
     "output_type": "stream",
     "name": "stdout",
     "text": [
      "equality:  7.643608800000038\n"
     ]
    }
   ],
   "metadata": {}
  },
  {
   "cell_type": "code",
   "execution_count": 14,
   "source": [
    "start = time.perf_counter()\n",
    "compare_using_interning(10000000)\n",
    "end = time.perf_counter()\n",
    "\n",
    "print('identity: ', end-start)"
   ],
   "outputs": [
    {
     "output_type": "stream",
     "name": "stdout",
     "text": [
      "identity:  0.41567679999997154\n"
     ]
    }
   ],
   "metadata": {}
  },
  {
   "cell_type": "markdown",
   "source": [
    "As you can see, the performance difference, especially for long strings, and for many comparisons, can be quite radical!"
   ],
   "metadata": {}
  }
 ],
 "metadata": {
  "kernelspec": {
   "display_name": "Python 3",
   "language": "python",
   "name": "python3"
  },
  "language_info": {
   "codemirror_mode": {
    "name": "ipython",
    "version": 3
   },
   "file_extension": ".py",
   "mimetype": "text/x-python",
   "name": "python",
   "nbconvert_exporter": "python",
   "pygments_lexer": "ipython3",
   "version": "3.6.1"
  }
 },
 "nbformat": 4,
 "nbformat_minor": 2
}