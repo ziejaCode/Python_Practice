{
 "metadata": {
  "language_info": {
   "codemirror_mode": {
    "name": "ipython",
    "version": 3
   },
   "file_extension": ".py",
   "mimetype": "text/x-python",
   "name": "python",
   "nbconvert_exporter": "python",
   "pygments_lexer": "ipython3",
   "version": "3.7.6-final"
  },
  "orig_nbformat": 2,
  "kernelspec": {
   "name": "python3",
   "display_name": "Python 3.7.6 64-bit (conda)",
   "metadata": {
    "interpreter": {
     "hash": "ef6158b8f70acb55f14e9e8900390c101c5e76b0b37a2fa3a79ca4e7b97b63bf"
    }
   }
  }
 },
 "nbformat": 4,
 "nbformat_minor": 2,
 "cells": [
  {
   "cell_type": "code",
   "execution_count": 10,
   "metadata": {},
   "outputs": [],
   "source": [
    "def func():\n",
    "    a = 10\n",
    "    print(locals())\n",
    "    return a"
   ]
  },
  {
   "cell_type": "code",
   "execution_count": 12,
   "metadata": {},
   "outputs": [
    {
     "output_type": "stream",
     "name": "stdout",
     "text": [
      "{'a': 10}\n"
     ]
    },
    {
     "output_type": "execute_result",
     "data": {
      "text/plain": [
       "10"
      ]
     },
     "metadata": {},
     "execution_count": 12
    }
   ],
   "source": [
    "func()"
   ]
  },
  {
   "cell_type": "code",
   "execution_count": 3,
   "metadata": {},
   "outputs": [
    {
     "output_type": "execute_result",
     "data": {
      "text/plain": [
       "1505884546968"
      ]
     },
     "metadata": {},
     "execution_count": 3
    }
   ],
   "source": [
    "id(func)"
   ]
  },
  {
   "cell_type": "code",
   "execution_count": 4,
   "metadata": {},
   "outputs": [
    {
     "output_type": "execute_result",
     "data": {
      "text/plain": [
       "{'__name__': '__main__',\n",
       " '__doc__': 'Automatically created module for IPython interactive environment',\n",
       " '__package__': None,\n",
       " '__loader__': None,\n",
       " '__spec__': None,\n",
       " '__builtin__': <module 'builtins' (built-in)>,\n",
       " '__builtins__': <module 'builtins' (built-in)>,\n",
       " '_ih': ['',\n",
       "  'def func():\\n    a = 10\\n    return a',\n",
       "  'func',\n",
       "  'id(func)',\n",
       "  'globals()'],\n",
       " '_oh': {2: <function __main__.func()>, 3: 1505884546968},\n",
       " '_dh': ['C:\\\\Program Files\\\\Microsoft VS Code',\n",
       "  'h:\\\\Python\\\\PythonWorkspaces\\\\python_basics\\\\1_FundamentaL_Of_Python\\\\_9_Modules_Packages'],\n",
       " 'In': ['',\n",
       "  'def func():\\n    a = 10\\n    return a',\n",
       "  'func',\n",
       "  'id(func)',\n",
       "  'globals()'],\n",
       " 'Out': {2: <function __main__.func()>, 3: 1505884546968},\n",
       " 'get_ipython': <bound method InteractiveShell.get_ipython of <ipykernel.zmqshell.ZMQInteractiveShell object at 0x0000015E9DABDF88>>,\n",
       " 'exit': <IPython.core.autocall.ZMQExitAutocall at 0x15e9db28f88>,\n",
       " 'quit': <IPython.core.autocall.ZMQExitAutocall at 0x15e9db28f88>,\n",
       " '_': 1505884546968,\n",
       " '__': <function __main__.func()>,\n",
       " '___': '',\n",
       " 'os': <module 'os' from 'C:\\\\Users\\\\czarn\\\\anaconda3\\\\lib\\\\os.py'>,\n",
       " 'sys': <module 'sys' (built-in)>,\n",
       " '_i': 'id(func)',\n",
       " '_ii': 'func',\n",
       " '_iii': 'def func():\\n    a = 10\\n    return a',\n",
       " '_i1': 'def func():\\n    a = 10\\n    return a',\n",
       " 'func': <function __main__.func()>,\n",
       " '_i2': 'func',\n",
       " '_2': <function __main__.func()>,\n",
       " '_i3': 'id(func)',\n",
       " '_3': 1505884546968,\n",
       " '_i4': 'globals()'}"
      ]
     },
     "metadata": {},
     "execution_count": 4
    }
   ],
   "source": [
    "globals()"
   ]
  },
  {
   "cell_type": "code",
   "execution_count": 6,
   "metadata": {},
   "outputs": [
    {
     "output_type": "execute_result",
     "data": {
      "text/plain": [
       "10"
      ]
     },
     "metadata": {},
     "execution_count": 6
    }
   ],
   "source": [
    "globals()['func']()"
   ]
  },
  {
   "cell_type": "code",
   "execution_count": 7,
   "metadata": {},
   "outputs": [
    {
     "output_type": "execute_result",
     "data": {
      "text/plain": [
       "{'__name__': '__main__',\n",
       " '__doc__': 'Automatically created module for IPython interactive environment',\n",
       " '__package__': None,\n",
       " '__loader__': None,\n",
       " '__spec__': None,\n",
       " '__builtin__': <module 'builtins' (built-in)>,\n",
       " '__builtins__': <module 'builtins' (built-in)>,\n",
       " '_ih': ['',\n",
       "  'def func():\\n    a = 10\\n    return a',\n",
       "  'func',\n",
       "  'id(func)',\n",
       "  'globals()',\n",
       "  \"globals()['func']\",\n",
       "  \"globals()['func']()\",\n",
       "  'locals()'],\n",
       " '_oh': {2: <function __main__.func()>,\n",
       "  3: 1505884546968,\n",
       "  4: {...},\n",
       "  5: <function __main__.func()>,\n",
       "  6: 10},\n",
       " '_dh': ['C:\\\\Program Files\\\\Microsoft VS Code',\n",
       "  'h:\\\\Python\\\\PythonWorkspaces\\\\python_basics\\\\1_FundamentaL_Of_Python\\\\_9_Modules_Packages'],\n",
       " 'In': ['',\n",
       "  'def func():\\n    a = 10\\n    return a',\n",
       "  'func',\n",
       "  'id(func)',\n",
       "  'globals()',\n",
       "  \"globals()['func']\",\n",
       "  \"globals()['func']()\",\n",
       "  'locals()'],\n",
       " 'Out': {2: <function __main__.func()>,\n",
       "  3: 1505884546968,\n",
       "  4: {...},\n",
       "  5: <function __main__.func()>,\n",
       "  6: 10},\n",
       " 'get_ipython': <bound method InteractiveShell.get_ipython of <ipykernel.zmqshell.ZMQInteractiveShell object at 0x0000015E9DABDF88>>,\n",
       " 'exit': <IPython.core.autocall.ZMQExitAutocall at 0x15e9db28f88>,\n",
       " 'quit': <IPython.core.autocall.ZMQExitAutocall at 0x15e9db28f88>,\n",
       " '_': 10,\n",
       " '__': <function __main__.func()>,\n",
       " '___': {...},\n",
       " 'os': <module 'os' from 'C:\\\\Users\\\\czarn\\\\anaconda3\\\\lib\\\\os.py'>,\n",
       " 'sys': <module 'sys' (built-in)>,\n",
       " '_i': \"globals()['func']()\",\n",
       " '_ii': \"globals()['func']\",\n",
       " '_iii': 'globals()',\n",
       " '_i1': 'def func():\\n    a = 10\\n    return a',\n",
       " 'func': <function __main__.func()>,\n",
       " '_i2': 'func',\n",
       " '_2': <function __main__.func()>,\n",
       " '_i3': 'id(func)',\n",
       " '_3': 1505884546968,\n",
       " '_i4': 'globals()',\n",
       " '_4': {...},\n",
       " '_i5': \"globals()['func']\",\n",
       " '_5': <function __main__.func()>,\n",
       " '_i6': \"globals()['func']()\",\n",
       " '_6': 10,\n",
       " '_i7': 'locals()'}"
      ]
     },
     "metadata": {},
     "execution_count": 7
    }
   ],
   "source": [
    "locals()"
   ]
  },
  {
   "cell_type": "code",
   "execution_count": 8,
   "metadata": {},
   "outputs": [
    {
     "output_type": "execute_result",
     "data": {
      "text/plain": [
       "True"
      ]
     },
     "metadata": {},
     "execution_count": 8
    }
   ],
   "source": [
    "locals() is globals()"
   ]
  },
  {
   "cell_type": "code",
   "execution_count": 13,
   "metadata": {},
   "outputs": [
    {
     "output_type": "execute_result",
     "data": {
      "text/plain": [
       "<module 'math' (built-in)>"
      ]
     },
     "metadata": {},
     "execution_count": 13
    }
   ],
   "source": [
    "import math\n",
    "math"
   ]
  },
  {
   "cell_type": "code",
   "execution_count": 14,
   "metadata": {},
   "outputs": [
    {
     "output_type": "execute_result",
     "data": {
      "text/plain": [
       "<module 'fractions' from 'C:\\\\Users\\\\czarn\\\\anaconda3\\\\lib\\\\fractions.py'>"
      ]
     },
     "metadata": {},
     "execution_count": 14
    }
   ],
   "source": [
    "import fractions\n",
    "fractions"
   ]
  },
  {
   "cell_type": "code",
   "execution_count": 15,
   "metadata": {},
   "outputs": [
    {
     "output_type": "execute_result",
     "data": {
      "text/plain": [
       "1505903530776"
      ]
     },
     "metadata": {},
     "execution_count": 15
    }
   ],
   "source": [
    "id(fractions)"
   ]
  },
  {
   "cell_type": "code",
   "execution_count": 17,
   "metadata": {},
   "outputs": [
    {
     "output_type": "execute_result",
     "data": {
      "text/plain": [
       "1505903530776"
      ]
     },
     "metadata": {},
     "execution_count": 17
    }
   ],
   "source": [
    "juck = fractions\n",
    "id(juck)"
   ]
  },
  {
   "cell_type": "code",
   "execution_count": 18,
   "metadata": {},
   "outputs": [
    {
     "output_type": "execute_result",
     "data": {
      "text/plain": [
       "True"
      ]
     },
     "metadata": {},
     "execution_count": 18
    }
   ],
   "source": [
    "juck is fractions"
   ]
  },
  {
   "cell_type": "code",
   "execution_count": 20,
   "metadata": {},
   "outputs": [
    {
     "output_type": "execute_result",
     "data": {
      "text/plain": [
       "{'__name__': '__main__',\n",
       " '__doc__': 'Automatically created module for IPython interactive environment',\n",
       " '__package__': None,\n",
       " '__loader__': None,\n",
       " '__spec__': None,\n",
       " '__builtin__': <module 'builtins' (built-in)>,\n",
       " '__builtins__': <module 'builtins' (built-in)>,\n",
       " '_ih': ['',\n",
       "  'def func():\\n    a = 10\\n    return a',\n",
       "  'func',\n",
       "  'id(func)',\n",
       "  'globals()',\n",
       "  \"globals()['func']\",\n",
       "  \"globals()['func']()\",\n",
       "  'locals()',\n",
       "  'locals() is globals()',\n",
       "  'def func():\\n    a = 10\\n    print(locals())\\n    return a',\n",
       "  'def func():\\n    a = 10\\n    print(locals())\\n    return a',\n",
       "  'func',\n",
       "  'func()',\n",
       "  'import math\\nmath',\n",
       "  'import fractions\\nfractions',\n",
       "  'id(fractions)',\n",
       "  'juck is fractions\\nid(juck)',\n",
       "  'juck = fractions\\nid(juck)',\n",
       "  'juck is fractions',\n",
       "  'globals()',\n",
       "  'globals()'],\n",
       " '_oh': {2: <function __main__.func()>,\n",
       "  3: 1505884546968,\n",
       "  4: {...},\n",
       "  5: <function __main__.func()>,\n",
       "  6: 10,\n",
       "  7: {...},\n",
       "  8: True,\n",
       "  11: <function __main__.func()>,\n",
       "  12: 10,\n",
       "  13: <module 'math' (built-in)>,\n",
       "  14: <module 'fractions' from 'C:\\\\Users\\\\czarn\\\\anaconda3\\\\lib\\\\fractions.py'>,\n",
       "  15: 1505903530776,\n",
       "  17: 1505903530776,\n",
       "  18: True,\n",
       "  19: {...}},\n",
       " '_dh': ['C:\\\\Program Files\\\\Microsoft VS Code',\n",
       "  'h:\\\\Python\\\\PythonWorkspaces\\\\python_basics\\\\1_FundamentaL_Of_Python\\\\_9_Modules_Packages'],\n",
       " 'In': ['',\n",
       "  'def func():\\n    a = 10\\n    return a',\n",
       "  'func',\n",
       "  'id(func)',\n",
       "  'globals()',\n",
       "  \"globals()['func']\",\n",
       "  \"globals()['func']()\",\n",
       "  'locals()',\n",
       "  'locals() is globals()',\n",
       "  'def func():\\n    a = 10\\n    print(locals())\\n    return a',\n",
       "  'def func():\\n    a = 10\\n    print(locals())\\n    return a',\n",
       "  'func',\n",
       "  'func()',\n",
       "  'import math\\nmath',\n",
       "  'import fractions\\nfractions',\n",
       "  'id(fractions)',\n",
       "  'juck is fractions\\nid(juck)',\n",
       "  'juck = fractions\\nid(juck)',\n",
       "  'juck is fractions',\n",
       "  'globals()',\n",
       "  'globals()'],\n",
       " 'Out': {2: <function __main__.func()>,\n",
       "  3: 1505884546968,\n",
       "  4: {...},\n",
       "  5: <function __main__.func()>,\n",
       "  6: 10,\n",
       "  7: {...},\n",
       "  8: True,\n",
       "  11: <function __main__.func()>,\n",
       "  12: 10,\n",
       "  13: <module 'math' (built-in)>,\n",
       "  14: <module 'fractions' from 'C:\\\\Users\\\\czarn\\\\anaconda3\\\\lib\\\\fractions.py'>,\n",
       "  15: 1505903530776,\n",
       "  17: 1505903530776,\n",
       "  18: True,\n",
       "  19: {...}},\n",
       " 'get_ipython': <bound method InteractiveShell.get_ipython of <ipykernel.zmqshell.ZMQInteractiveShell object at 0x0000015E9DABDF88>>,\n",
       " 'exit': <IPython.core.autocall.ZMQExitAutocall at 0x15e9db28f88>,\n",
       " 'quit': <IPython.core.autocall.ZMQExitAutocall at 0x15e9db28f88>,\n",
       " '_': {...},\n",
       " '__': True,\n",
       " '___': 1505903530776,\n",
       " 'os': <module 'os' from 'C:\\\\Users\\\\czarn\\\\anaconda3\\\\lib\\\\os.py'>,\n",
       " 'sys': <module 'sys' (built-in)>,\n",
       " '_i': 'globals()',\n",
       " '_ii': 'juck is fractions',\n",
       " '_iii': 'juck = fractions\\nid(juck)',\n",
       " '_i1': 'def func():\\n    a = 10\\n    return a',\n",
       " 'func': <function __main__.func()>,\n",
       " '_i2': 'func',\n",
       " '_2': <function __main__.func()>,\n",
       " '_i3': 'id(func)',\n",
       " '_3': 1505884546968,\n",
       " '_i4': 'globals()',\n",
       " '_4': {...},\n",
       " '_i5': \"globals()['func']\",\n",
       " '_5': <function __main__.func()>,\n",
       " '_i6': \"globals()['func']()\",\n",
       " '_6': 10,\n",
       " '_i7': 'locals()',\n",
       " '_7': {...},\n",
       " '_i8': 'locals() is globals()',\n",
       " '_8': True,\n",
       " '_i9': 'def func():\\n    a = 10\\n    print(locals())\\n    return a',\n",
       " '_i10': 'def func():\\n    a = 10\\n    print(locals())\\n    return a',\n",
       " '_i11': 'func',\n",
       " '_11': <function __main__.func()>,\n",
       " '_i12': 'func()',\n",
       " '_12': 10,\n",
       " '_i13': 'import math\\nmath',\n",
       " 'math': <module 'math' (built-in)>,\n",
       " '_13': <module 'math' (built-in)>,\n",
       " '_i14': 'import fractions\\nfractions',\n",
       " 'fractions': <module 'fractions' from 'C:\\\\Users\\\\czarn\\\\anaconda3\\\\lib\\\\fractions.py'>,\n",
       " '_14': <module 'fractions' from 'C:\\\\Users\\\\czarn\\\\anaconda3\\\\lib\\\\fractions.py'>,\n",
       " '_i15': 'id(fractions)',\n",
       " '_15': 1505903530776,\n",
       " '_i16': 'juck is fractions\\nid(juck)',\n",
       " '_i17': 'juck = fractions\\nid(juck)',\n",
       " 'juck': <module 'fractions' from 'C:\\\\Users\\\\czarn\\\\anaconda3\\\\lib\\\\fractions.py'>,\n",
       " '_17': 1505903530776,\n",
       " '_i18': 'juck is fractions',\n",
       " '_18': True,\n",
       " '_i19': 'globals()',\n",
       " '_19': {...},\n",
       " '_i20': 'globals()'}"
      ]
     },
     "metadata": {},
     "execution_count": 20
    }
   ],
   "source": [
    "globals()"
   ]
  },
  {
   "cell_type": "code",
   "execution_count": 21,
   "metadata": {},
   "outputs": [
    {
     "output_type": "execute_result",
     "data": {
      "text/plain": [
       "module"
      ]
     },
     "metadata": {},
     "execution_count": 21
    }
   ],
   "source": [
    "type(juck)"
   ]
  },
  {
   "cell_type": "code",
   "execution_count": 1,
   "metadata": {},
   "outputs": [],
   "source": [
    "import sys"
   ]
  },
  {
   "cell_type": "code",
   "execution_count": 2,
   "metadata": {},
   "outputs": [
    {
     "output_type": "execute_result",
     "data": {
      "text/plain": [
       "[_frozen_importlib.BuiltinImporter,\n",
       " _frozen_importlib.FrozenImporter,\n",
       " _frozen_importlib_external.PathFinder,\n",
       " <six._SixMetaPathImporter at 0x108c94f7ec8>]"
      ]
     },
     "metadata": {},
     "execution_count": 2
    }
   ],
   "source": [
    "sys.meta_path"
   ]
  },
  {
   "cell_type": "code",
   "execution_count": 3,
   "metadata": {},
   "outputs": [
    {
     "output_type": "execute_result",
     "data": {
      "text/plain": [
       "['h:\\\\Python\\\\PythonWorkspaces\\\\python_basics\\\\1_FundamentaL_Of_Python\\\\_9_Modules_Packages\\\\modulesExplained',\n",
       " 'c:\\\\Users\\\\czarn\\\\.vscode\\\\extensions\\\\ms-toolsai.jupyter-2020.11.358541065\\\\pythonFiles',\n",
       " 'c:\\\\Users\\\\czarn\\\\.vscode\\\\extensions\\\\ms-toolsai.jupyter-2020.11.358541065\\\\pythonFiles\\\\lib\\\\python',\n",
       " 'C:\\\\Users\\\\czarn\\\\anaconda3\\\\python37.zip',\n",
       " 'C:\\\\Users\\\\czarn\\\\anaconda3\\\\DLLs',\n",
       " 'C:\\\\Users\\\\czarn\\\\anaconda3\\\\lib',\n",
       " 'C:\\\\Users\\\\czarn\\\\anaconda3',\n",
       " '',\n",
       " 'C:\\\\Users\\\\czarn\\\\anaconda3\\\\lib\\\\site-packages',\n",
       " 'C:\\\\Users\\\\czarn\\\\anaconda3\\\\lib\\\\site-packages\\\\win32',\n",
       " 'C:\\\\Users\\\\czarn\\\\anaconda3\\\\lib\\\\site-packages\\\\win32\\\\lib',\n",
       " 'C:\\\\Users\\\\czarn\\\\anaconda3\\\\lib\\\\site-packages\\\\Pythonwin',\n",
       " 'C:\\\\Users\\\\czarn\\\\anaconda3\\\\lib\\\\site-packages\\\\IPython\\\\extensions',\n",
       " 'C:\\\\Users\\\\czarn\\\\.ipython']"
      ]
     },
     "metadata": {},
     "execution_count": 3
    }
   ],
   "source": [
    "sys.path"
   ]
  },
  {
   "cell_type": "code",
   "execution_count": 4,
   "metadata": {},
   "outputs": [
    {
     "output_type": "execute_result",
     "data": {
      "text/plain": [
       "['C:\\\\Users\\\\czarn\\\\anaconda3\\\\lib\\\\collections']"
      ]
     },
     "metadata": {},
     "execution_count": 4
    }
   ],
   "source": [
    "import collections as cols#\n",
    "cols.__path__"
   ]
  },
  {
   "cell_type": "code",
   "execution_count": 5,
   "metadata": {},
   "outputs": [],
   "source": [
    "import math as ma"
   ]
  },
  {
   "cell_type": "code",
   "execution_count": 6,
   "metadata": {},
   "outputs": [
    {
     "output_type": "execute_result",
     "data": {
      "text/plain": [
       "module"
      ]
     },
     "metadata": {},
     "execution_count": 6
    }
   ],
   "source": [
    "type(math)"
   ]
  },
  {
   "cell_type": "code",
   "execution_count": 7,
   "metadata": {},
   "outputs": [
    {
     "output_type": "execute_result",
     "data": {
      "text/plain": [
       "ModuleSpec(name='math', loader=<class '_frozen_importlib.BuiltinImporter'>, origin='built-in')"
      ]
     },
     "metadata": {},
     "execution_count": 7
    }
   ],
   "source": [
    "math.__spec__"
   ]
  },
  {
   "cell_type": "code",
   "execution_count": 10,
   "metadata": {},
   "outputs": [
    {
     "output_type": "execute_result",
     "data": {
      "text/plain": [
       "'math'"
      ]
     },
     "metadata": {},
     "execution_count": 10
    }
   ],
   "source": [
    "math.__name__"
   ]
  },
  {
   "cell_type": "code",
   "execution_count": 20,
   "metadata": {},
   "outputs": [],
   "source": [
    "import fractions"
   ]
  },
  {
   "cell_type": "code",
   "execution_count": 23,
   "metadata": {},
   "outputs": [
    {
     "output_type": "error",
     "ename": "AttributeError",
     "evalue": "module 'math' has no attribute '__file__'",
     "traceback": [
      "\u001b[1;31m---------------------------------------------------------------------------\u001b[0m",
      "\u001b[1;31mAttributeError\u001b[0m                            Traceback (most recent call last)",
      "\u001b[1;32m<ipython-input-23-aa35b0215c8d>\u001b[0m in \u001b[0;36m<module>\u001b[1;34m\u001b[0m\n\u001b[1;32m----> 1\u001b[1;33m \u001b[0mmath\u001b[0m\u001b[1;33m.\u001b[0m\u001b[0m__file__\u001b[0m\u001b[1;33m\u001b[0m\u001b[1;33m\u001b[0m\u001b[0m\n\u001b[0m",
      "\u001b[1;31mAttributeError\u001b[0m: module 'math' has no attribute '__file__'"
     ]
    }
   ],
   "source": [
    "math.__file__"
   ]
  },
  {
   "cell_type": "code",
   "execution_count": 21,
   "metadata": {},
   "outputs": [
    {
     "output_type": "execute_result",
     "data": {
      "text/plain": [
       "'fractions'"
      ]
     },
     "metadata": {},
     "execution_count": 21
    }
   ],
   "source": [
    "fractions.__name__"
   ]
  },
  {
   "cell_type": "code",
   "execution_count": 22,
   "metadata": {},
   "outputs": [
    {
     "output_type": "execute_result",
     "data": {
      "text/plain": [
       "'C:\\\\Users\\\\czarn\\\\anaconda3\\\\lib\\\\fractions.py'"
      ]
     },
     "metadata": {},
     "execution_count": 22
    }
   ],
   "source": [
    "fractions.__file__"
   ]
  },
  {
   "cell_type": "code",
   "execution_count": null,
   "metadata": {},
   "outputs": [],
   "source": []
  }
 ]
}