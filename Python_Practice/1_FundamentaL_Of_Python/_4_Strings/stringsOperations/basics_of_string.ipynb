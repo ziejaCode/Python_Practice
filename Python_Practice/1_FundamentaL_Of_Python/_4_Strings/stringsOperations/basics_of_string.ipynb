{
 "cells": [
  {
   "cell_type": "code",
   "execution_count": null,
   "source": [
    "# resource: \r\n",
    "# Python Strings: https://www.programiz.com/python-programming/string\r\n",
    "# \r\n",
    "\r\n",
    "\r\n"
   ],
   "outputs": [],
   "metadata": {}
  }
 ],
 "metadata": {
  "orig_nbformat": 4,
  "language_info": {
   "name": "python"
  }
 },
 "nbformat": 4,
 "nbformat_minor": 2
}