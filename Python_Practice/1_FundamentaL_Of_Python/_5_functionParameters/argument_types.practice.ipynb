{
 "metadata": {
  "language_info": {
   "codemirror_mode": {
    "name": "ipython",
    "version": 3
   },
   "file_extension": ".py",
   "mimetype": "text/x-python",
   "name": "python",
   "nbconvert_exporter": "python",
   "pygments_lexer": "ipython3",
   "version": "3.7.6-final"
  },
  "orig_nbformat": 2,
  "kernelspec": {
   "name": "Python 3.7.6 64-bit ('base': conda)",
   "display_name": "Python 3.7.6 64-bit ('base': conda)",
   "metadata": {
    "interpreter": {
     "hash": "ef6158b8f70acb55f14e9e8900390c101c5e76b0b37a2fa3a79ca4e7b97b63bf"
    }
   }
  }
 },
 "nbformat": 4,
 "nbformat_minor": 2,
 "cells": [
  {
   "cell_type": "code",
   "execution_count": 2,
   "metadata": {},
   "outputs": [
    {
     "output_type": "stream",
     "name": "stdout",
     "text": [
      "10\n"
     ]
    }
   ],
   "source": [
    "# default parameters\n",
    "\n",
    "def func(a=10):\n",
    "    print(a)\n",
    "\n",
    "func() # no need to provide argument"
   ]
  },
  {
   "cell_type": "code",
   "execution_count": 21,
   "metadata": {},
   "outputs": [
    {
     "output_type": "stream",
     "name": "stdout",
     "text": [
      "1 2 4\n"
     ]
    }
   ],
   "source": [
    "from datetime import datetime\n",
    "\n",
    "def test(delay, result=None, *, loop=None): \n",
    "    print(delay, result, loop)\n",
    "\n",
    "\n",
    "test(1,2,2) # this won't execute because of star \n",
    "test(1,2) # this is fine\n",
    "test(1,2, loop=4) # this is fine as well"
   ]
  },
  {
   "cell_type": "code",
   "execution_count": 22,
   "metadata": {},
   "outputs": [
    {
     "output_type": "stream",
     "name": "stdout",
     "text": [
      "Vars: a=4, b=4, c=3\n"
     ]
    }
   ],
   "source": [
    "\n",
    "def my_func(a, b, c=3): # default argument\n",
    "     print(\"Vars: a={0}, b={1}, c={2}\".format(a,b,c))\n",
    "\n",
    "\n",
    "my_func(a=4, b=4) # call parameters using keywords\n",
    "\n"
   ]
  },
  {
   "cell_type": "code",
   "execution_count": 27,
   "metadata": {},
   "outputs": [
    {
     "output_type": "stream",
     "name": "stdout",
     "text": [
      "Vars: a=3, b=6, c=3\n"
     ]
    }
   ],
   "source": [
    "my_func(3, 6) # call parameters using keywords"
   ]
  },
  {
   "cell_type": "code",
   "execution_count": 25,
   "metadata": {},
   "outputs": [
    {
     "output_type": "stream",
     "name": "stdout",
     "text": [
      "Vars: a=3, b=5, c=8\n"
     ]
    }
   ],
   "source": [
    "my_func(3, 5, 8) # call parameters using keywords"
   ]
  },
  {
   "cell_type": "code",
   "execution_count": 29,
   "metadata": {},
   "outputs": [
    {
     "output_type": "stream",
     "name": "stdout",
     "text": [
      "2020-06-01 15:00:46: message 2\n"
     ]
    }
   ],
   "source": [
    "\n",
    "def log1(msg, *, dt=None):\n",
    "    dt = dt or datetime.utcnow()\n",
    "    print('{0}: {1}'.format(dt, msg))        \n",
    "\n",
    "\n",
    "#log('message 2')\n",
    "log1('message 2', dt=\"2020-06-01 15:00:46\")"
   ]
  },
  {
   "cell_type": "code",
   "execution_count": null,
   "metadata": {},
   "outputs": [],
   "source": []
  }
 ]
}