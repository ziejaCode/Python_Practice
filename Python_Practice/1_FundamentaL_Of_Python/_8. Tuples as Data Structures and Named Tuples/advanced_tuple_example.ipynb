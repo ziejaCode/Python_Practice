{
 "metadata": {
  "language_info": {
   "codemirror_mode": {
    "name": "ipython",
    "version": 3
   },
   "file_extension": ".py",
   "mimetype": "text/x-python",
   "name": "python",
   "nbconvert_exporter": "python",
   "pygments_lexer": "ipython3",
   "version": "3.7.6-final"
  },
  "orig_nbformat": 2,
  "kernelspec": {
   "name": "python3",
   "display_name": "Python 3"
  }
 },
 "nbformat": 4,
 "nbformat_minor": 2,
 "cells": [
  {
   "cell_type": "code",
   "execution_count": 1,
   "metadata": {},
   "outputs": [],
   "source": [
    "from collections import namedtuple"
   ]
  },
  {
   "cell_type": "code",
   "execution_count": 44,
   "metadata": {},
   "outputs": [],
   "source": [
    "Stock = namedtuple('Stock', 'sym year month day open high low close')\n"
   ]
  },
  {
   "cell_type": "code",
   "execution_count": 45,
   "metadata": {},
   "outputs": [
    {
     "output_type": "execute_result",
     "data": {
      "text/plain": [
       "Stock(sym='WIG', year=2020, month=11, day=15, open=2345, high=2355, low=2333, close=2451)"
      ]
     },
     "metadata": {},
     "execution_count": 45
    }
   ],
   "source": [
    "wig = Stock('WIG', 2020, 11, 15, 2345, 2355, 2333, 2451)\n",
    "wig"
   ]
  },
  {
   "cell_type": "code",
   "execution_count": 4,
   "metadata": {},
   "outputs": [
    {
     "output_type": "execute_result",
     "data": {
      "text/plain": [
       "<function Stock.index(value, start=0, stop=9223372036854775807, /)>"
      ]
     },
     "metadata": {},
     "execution_count": 4
    }
   ],
   "source": [
    "wig.index"
   ]
  },
  {
   "cell_type": "code",
   "execution_count": 5,
   "metadata": {},
   "outputs": [
    {
     "output_type": "execute_result",
     "data": {
      "text/plain": [
       "<function Stock.count(value, /)>"
      ]
     },
     "metadata": {},
     "execution_count": 5
    }
   ],
   "source": [
    "wig.count\n"
   ]
  },
  {
   "cell_type": "code",
   "execution_count": 28,
   "metadata": {},
   "outputs": [
    {
     "output_type": "execute_result",
     "data": {
      "text/plain": [
       "['__add__',\n",
       " '__class__',\n",
       " '__contains__',\n",
       " '__delattr__',\n",
       " '__dir__',\n",
       " '__doc__',\n",
       " '__eq__',\n",
       " '__format__',\n",
       " '__ge__',\n",
       " '__getattribute__',\n",
       " '__getitem__',\n",
       " '__getnewargs__',\n",
       " '__gt__',\n",
       " '__hash__',\n",
       " '__init__',\n",
       " '__init_subclass__',\n",
       " '__iter__',\n",
       " '__le__',\n",
       " '__len__',\n",
       " '__lt__',\n",
       " '__module__',\n",
       " '__mul__',\n",
       " '__ne__',\n",
       " '__new__',\n",
       " '__reduce__',\n",
       " '__reduce_ex__',\n",
       " '__repr__',\n",
       " '__rmul__',\n",
       " '__setattr__',\n",
       " '__sizeof__',\n",
       " '__slots__',\n",
       " '__str__',\n",
       " '__subclasshook__',\n",
       " '_asdict',\n",
       " '_field_defaults',\n",
       " '_fields',\n",
       " '_fields_defaults',\n",
       " '_make',\n",
       " '_replace',\n",
       " 'close',\n",
       " 'count',\n",
       " 'day',\n",
       " 'high',\n",
       " 'index',\n",
       " 'low',\n",
       " 'month',\n",
       " 'open',\n",
       " 'sym',\n",
       " 'year']"
      ]
     },
     "metadata": {},
     "execution_count": 28
    }
   ],
   "source": [
    "dir(Stock)"
   ]
  },
  {
   "cell_type": "code",
   "execution_count": 32,
   "metadata": {},
   "outputs": [
    {
     "output_type": "execute_result",
     "data": {
      "text/plain": [
       "['WIG', 2020, 11, 15, 2345, 2355]"
      ]
     },
     "metadata": {},
     "execution_count": 32
    }
   ],
   "source": [
    "*_,h,l = wig\n",
    "_"
   ]
  },
  {
   "cell_type": "code",
   "execution_count": 33,
   "metadata": {},
   "outputs": [
    {
     "output_type": "execute_result",
     "data": {
      "text/plain": [
       "(2333, 2451)"
      ]
     },
     "metadata": {},
     "execution_count": 33
    }
   ],
   "source": [
    "h, l"
   ]
  },
  {
   "cell_type": "code",
   "execution_count": null,
   "metadata": {},
   "outputs": [],
   "source": []
  },
  {
   "cell_type": "code",
   "execution_count": 35,
   "metadata": {},
   "outputs": [
    {
     "output_type": "execute_result",
     "data": {
      "text/plain": [
       "('sym', 'year', 'month', 'day', 'open', 'high', 'low', 'close')"
      ]
     },
     "metadata": {},
     "execution_count": 35
    }
   ],
   "source": [
    "wig._fields"
   ]
  },
  {
   "cell_type": "code",
   "execution_count": 36,
   "metadata": {},
   "outputs": [
    {
     "output_type": "execute_result",
     "data": {
      "text/plain": [
       "<method-wrapper '__str__' of Stock object at 0x00000168893F9EC8>"
      ]
     },
     "metadata": {},
     "execution_count": 36
    }
   ],
   "source": [
    "wig.__str__"
   ]
  },
  {
   "cell_type": "code",
   "execution_count": 41,
   "metadata": {},
   "outputs": [
    {
     "output_type": "execute_result",
     "data": {
      "text/plain": [
       "OrderedDict([('sym', 'WIG'),\n",
       "             ('year', 2020),\n",
       "             ('month', 11),\n",
       "             ('day', 15),\n",
       "             ('open', 2345),\n",
       "             ('high', 2355),\n",
       "             ('low', 2333),\n",
       "             ('close', 2451)])"
      ]
     },
     "metadata": {},
     "execution_count": 41
    }
   ],
   "source": [
    "wig._asdict()"
   ]
  },
  {
   "cell_type": "code",
   "execution_count": null,
   "metadata": {},
   "outputs": [],
   "source": []
  }
 ]
}