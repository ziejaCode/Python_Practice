{
 "metadata": {
  "language_info": {
   "codemirror_mode": {
    "name": "ipython",
    "version": 3
   },
   "file_extension": ".py",
   "mimetype": "text/x-python",
   "name": "python",
   "nbconvert_exporter": "python",
   "pygments_lexer": "ipython3",
   "version": "3.8.5-final"
  },
  "orig_nbformat": 2,
  "kernelspec": {
   "name": "python36964bit0bc70279e1ae40098a673b37a979fad8",
   "display_name": "Python 3.6.9 64-bit"
  }
 },
 "nbformat": 4,
 "nbformat_minor": 2,
 "cells": [
  {
   "cell_type": "code",
   "execution_count": null,
   "metadata": {},
   "outputs": [],
   "source": [
    "'''  Write a Python program to make a chain of function decorators (bold, italic, underline etc.).'''"
   ]
  },
  {
   "cell_type": "code",
   "execution_count": 2,
   "metadata": {},
   "outputs": [
    {
     "output_type": "stream",
     "name": "stdout",
     "text": [
      "<b><i><u>hello world</u></i></b>\n"
     ]
    }
   ],
   "source": [
    "def make_bold(fn):\n",
    "    def wrapped():\n",
    "        return \"<b>\" + fn() + \"</b>\"\n",
    "    return wrapped\n",
    "\n",
    "def make_italic(fn):\n",
    "    def wrapped():\n",
    "        return \"<i>\" + fn() + \"</i>\"\n",
    "    return wrapped\n",
    "\n",
    "def make_underline(fn):\n",
    "    def wrapped():\n",
    "        return \"<u>\" + fn() + \"</u>\"\n",
    "    return wrapped\n",
    "\n",
    "@make_bold\n",
    "@make_italic\n",
    "@make_underline\n",
    "def hello():\n",
    "    return \"hello world\"\n",
    "\n",
    "print(hello()) ## returns \"<b><i><u>hello world</u></i></b>\""
   ]
  },
  {
   "cell_type": "code",
   "execution_count": null,
   "metadata": {},
   "outputs": [],
   "source": []
  }
 ]
}