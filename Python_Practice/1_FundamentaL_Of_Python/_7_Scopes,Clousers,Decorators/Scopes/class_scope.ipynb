{
 "metadata": {
  "language_info": {
   "codemirror_mode": {
    "name": "ipython",
    "version": 3
   },
   "file_extension": ".py",
   "mimetype": "text/x-python",
   "name": "python",
   "nbconvert_exporter": "python",
   "pygments_lexer": "ipython3",
   "version": "3.7.4-final"
  },
  "orig_nbformat": 2,
  "kernelspec": {
   "name": "python3",
   "display_name": "Python 3.7.4 32-bit",
   "metadata": {
    "interpreter": {
     "hash": "0b15b737317ee57d023fd1135e68b8999dc64b0fb76512e8c43c46da68401b6e"
    }
   }
  }
 },
 "nbformat": 4,
 "nbformat_minor": 2,
 "cells": [
  {
   "cell_type": "code",
   "execution_count": 125,
   "metadata": {},
   "outputs": [],
   "source": [
    "\n",
    "\n",
    "TEST_CELL = \"?\"\n",
    "G_TEST_CELL = \"??\"\n",
    "class a:\n",
    "    global G_TEST_CELL\n",
    "    TEST_CELL = \"xx\"\n",
    "    G_TEST_CELL = TEST_CELL\n",
    "    def useA(self):\n",
    "      TEST_CELL * 2 \n",
    "      #global G_TEST_CELL \n",
    "      #G_TEST_CELL = self.TEST_CELL\n",
    "      print(TEST_CELL, \"a method\") #G_TEST_CELL)\n",
    "\n",
    "class b(a):\n",
    "    global G_TEST_CELL\n",
    "    TEST_CELL = \"dcyyyxx\"\n",
    "    G_TEST_CELL = TEST_CELL\n",
    "\n",
    "    def useA(self):\n",
    "      TEST_CELL * 2 \n",
    "      #global G_TEST_CELL \n",
    "      #G_TEST_CELL = self.TEST_CELL\n",
    "      print(TEST_CELL) #G_TEST_CELL)\n",
    "\n",
    "\n"
   ]
  },
  {
   "cell_type": "code",
   "execution_count": 126,
   "metadata": {},
   "outputs": [
    {
     "output_type": "execute_result",
     "data": {
      "text/plain": [
       "('?', 'dcyyyxx')"
      ]
     },
     "metadata": {},
     "execution_count": 126
    }
   ],
   "source": [
    "TEST_CELL , G_TEST_CELL"
   ]
  },
  {
   "cell_type": "code",
   "execution_count": 122,
   "metadata": {},
   "outputs": [
    {
     "output_type": "stream",
     "name": "stdout",
     "text": [
      "dcyyyxx a method\n"
     ]
    },
    {
     "output_type": "execute_result",
     "data": {
      "text/plain": [
       "'dcyyyxx'"
      ]
     },
     "metadata": {},
     "execution_count": 122
    }
   ],
   "source": [
    "aa = a()\n",
    "aa.useA()\n",
    "TEST_CELL "
   ]
  },
  {
   "cell_type": "code",
   "execution_count": 110,
   "metadata": {},
   "outputs": [
    {
     "output_type": "stream",
     "name": "stdout",
     "text": [
      "dcyyyxx\n"
     ]
    },
    {
     "output_type": "execute_result",
     "data": {
      "text/plain": [
       "'dcyyyxx'"
      ]
     },
     "metadata": {},
     "execution_count": 110
    }
   ],
   "source": [
    "bb = b()\n",
    "bb.useA()\n",
    "TEST_CELL "
   ]
  },
  {
   "cell_type": "code",
   "execution_count": null,
   "metadata": {},
   "outputs": [],
   "source": []
  }
 ]
}