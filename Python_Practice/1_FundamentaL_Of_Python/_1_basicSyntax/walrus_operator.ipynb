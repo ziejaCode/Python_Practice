{
 "metadata": {
  "language_info": {
   "codemirror_mode": {
    "name": "ipython",
    "version": 3
   },
   "file_extension": ".py",
   "mimetype": "text/x-python",
   "name": "python",
   "nbconvert_exporter": "python",
   "pygments_lexer": "ipython3",
   "version": "3.7.6-final"
  },
  "orig_nbformat": 2,
  "kernelspec": {
   "name": "python3",
   "display_name": "Python 3",
   "language": "python"
  }
 },
 "nbformat": 4,
 "nbformat_minor": 2,
 "cells": [
  {
   "cell_type": "code",
   "execution_count": 2,
   "metadata": {},
   "outputs": [],
   "source": [
    "# this assing value of # expression to a variable"
   ]
  },
  {
   "cell_type": "code",
   "execution_count": 3,
   "metadata": {},
   "outputs": [
    {
     "output_type": "error",
     "ename": "SyntaxError",
     "evalue": "invalid syntax (<ipython-input-3-ae6451457c76>, line 3)",
     "traceback": [
      "\u001b[1;36m  File \u001b[1;32m\"<ipython-input-3-ae6451457c76>\"\u001b[1;36m, line \u001b[1;32m3\u001b[0m\n\u001b[1;33m    if ((n := len(a)) > 10):\u001b[0m\n\u001b[1;37m           ^\u001b[0m\n\u001b[1;31mSyntaxError\u001b[0m\u001b[1;31m:\u001b[0m invalid syntax\n"
     ]
    }
   ],
   "source": [
    "# this might not work because of version of python\n",
    "\n",
    "if ((n := len(a)) > 10):\n",
    "       print(f'too long {n} elemets)"
   ]
  },
  {
   "cell_type": "code",
   "execution_count": 4,
   "metadata": {},
   "outputs": [
    {
     "output_type": "execute_result",
     "data": {
      "text/plain": [
       "3"
      ]
     },
     "metadata": {},
     "execution_count": 4
    }
   ],
   "source": [
    "# simple counter\n",
    "\n",
    "def counter1(l):\n",
    "   return len([i for i in l])\n",
    "\n",
    "counter1([2, 4, 5])\n",
    "\n"
   ]
  },
  {
   "cell_type": "code",
   "execution_count": 14,
   "metadata": {},
   "outputs": [
    {
     "output_type": "stream",
     "name": "stdout",
     "text": [
      "fname Marian        \nsname  Grylas        \nemail   maria@gmail.c\ntel o 234234324    \nDOB   21/32/3434   \n{}\n"
     ]
    }
   ],
   "source": [
    "# range exercise\n",
    "fields = ['fname', 'sname', 'email','tel', 'DOB']\n",
    "text = 'Marian         Grylas          maria@gmail.co 234234324      21/32/3434      '\n",
    "dict = {}\n",
    "start = 0\n",
    "stop = 14\n",
    "for field in fields:\n",
    "    data = ''\n",
    "    for char in range(start, stop):\n",
    "        \n",
    "        data += text[char]\n",
    "    start = stop\n",
    "    stop += 15\n",
    "    #dict{field:data}    \n",
    "    print(field, data)\n",
    "\n",
    "print(dict)\n",
    "\n",
    "\n",
    "\n"
   ]
  },
  {
   "cell_type": "code",
   "execution_count": null,
   "metadata": {},
   "outputs": [],
   "source": []
  }
 ]
}