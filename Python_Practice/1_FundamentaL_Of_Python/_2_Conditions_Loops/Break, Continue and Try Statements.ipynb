{
 "cells": [
  {
   "cell_type": "markdown",
   "source": [
    "### Loop Break and Continue inside a Try...Except...Finally"
   ],
   "metadata": {}
  },
  {
   "cell_type": "markdown",
   "source": [
    "Recall that in a ``try`` statement, the ``finally`` clause always runs:"
   ],
   "metadata": {}
  },
  {
   "cell_type": "code",
   "execution_count": 1,
   "source": [
    "a = 10\r\n",
    "b = 1\r\n",
    "try:\r\n",
    "    a / b\r\n",
    "except ZeroDivisionError:\r\n",
    "    print('division by 0')\r\n",
    "finally:\r\n",
    "    print('this always executes')"
   ],
   "outputs": [
    {
     "output_type": "stream",
     "name": "stdout",
     "text": [
      "this always executes\n"
     ]
    }
   ],
   "metadata": {}
  },
  {
   "cell_type": "code",
   "execution_count": 1,
   "source": [
    "a = 10\r\n",
    "b = 0\r\n",
    "try:\r\n",
    "    a / b\r\n",
    "except ZeroDivisionError:\r\n",
    "    print('division by 0')\r\n",
    "finally:\r\n",
    "    print('this always executes')"
   ],
   "outputs": [
    {
     "output_type": "stream",
     "name": "stdout",
     "text": [
      "division by 0\n",
      "this always executes\n"
     ]
    }
   ],
   "metadata": {}
  },
  {
   "cell_type": "markdown",
   "source": [
    "So, what happens when using a ``try`` statement within a ``while`` loop, and a ``continue`` or ``break`` statement is encountered?"
   ],
   "metadata": {}
  },
  {
   "cell_type": "code",
   "execution_count": 4,
   "source": [
    "a = 0\n",
    "b = 2\n",
    "\n",
    "while a < 3:\n",
    "    print('-------------')\n",
    "    a += 1\n",
    "    b -= 1\n",
    "    try:\n",
    "        res = a / b\n",
    "    except ZeroDivisionError:\n",
    "        print('{0}, {1} - division by 0'.format(a, b))\n",
    "        res = 0\n",
    "        continue\n",
    "    finally:\n",
    "        print('{0}, {1} - always executes'.format(a, b))\n",
    "        \n",
    "    print('{0}, {1} - main loop'.format(a, b))"
   ],
   "outputs": [
    {
     "output_type": "stream",
     "name": "stdout",
     "text": [
      "-------------\n",
      "1, 1 - always executes\n",
      "1, 1 - main loop\n",
      "-------------\n",
      "2, 0 - division by 0\n",
      "2, 0 - always executes\n",
      "-------------\n",
      "3, -1 - always executes\n",
      "3, -1 - main loop\n"
     ]
    }
   ],
   "metadata": {}
  },
  {
   "cell_type": "markdown",
   "source": [
    "As you can see in the above result, the ``finally`` code still executed, even though the current iteration was cut short with the ``continue`` statement. "
   ],
   "metadata": {}
  },
  {
   "cell_type": "markdown",
   "source": [
    "This works the same with a ``break`` statement:"
   ],
   "metadata": {}
  },
  {
   "cell_type": "code",
   "execution_count": 1,
   "source": [
    "a = 0\n",
    "b = 2\n",
    "\n",
    "while a < 3:\n",
    "    print('-------------')\n",
    "    a += 1\n",
    "    b -= 1\n",
    "    try:\n",
    "        res = a / b\n",
    "    except ZeroDivisionError:\n",
    "        print('{0}, {1} - division by 0'.format(a, b))\n",
    "        res = 0\n",
    "        break\n",
    "    finally:\n",
    "        print('{0}, {1} - always executes'.format(a, b))\n",
    "        \n",
    "    print('{0}, {1} - main loop'.format(a, b))"
   ],
   "outputs": [
    {
     "output_type": "stream",
     "name": "stdout",
     "text": [
      "-------------\n",
      "1, 1 - always executes\n",
      "1, 1 - main loop\n",
      "-------------\n",
      "2, 0 - division by 0\n",
      "2, 0 - always executes\n"
     ]
    }
   ],
   "metadata": {}
  },
  {
   "cell_type": "markdown",
   "source": [
    "We can even combine all this with the ``else`` clause:"
   ],
   "metadata": {}
  },
  {
   "cell_type": "code",
   "execution_count": 54,
   "source": [
    "a = 0\n",
    "b = 2\n",
    "\n",
    "while a < 3:\n",
    "    print('-------------')\n",
    "    a += 1\n",
    "    b -= 1\n",
    "    try:\n",
    "        res = a / b\n",
    "    except ZeroDivisionError:\n",
    "        print('{0}, {1} - division by 0'.format(a, b))\n",
    "        res = 0\n",
    "        break\n",
    "    finally:\n",
    "        print('{0}, {1} - always executes'.format(a, b))\n",
    "        \n",
    "    print('{0}, {1} - main loop'.format(a, b))\n",
    "else:\n",
    "    print('\\n\\nno errors were encountered!')"
   ],
   "outputs": [
    {
     "output_type": "stream",
     "name": "stdout",
     "text": [
      "-------------\n",
      "1, 1 - always executes\n",
      "1, 1 - main loop\n",
      "-------------\n",
      "2, 0 - division by 0\n",
      "2, 0 - always executes\n"
     ]
    }
   ],
   "metadata": {}
  },
  {
   "cell_type": "code",
   "execution_count": 2,
   "source": [
    "a = 0\n",
    "b = 2\n",
    "\n",
    "while a < 3:\n",
    "    print('-------------')\n",
    "    a += 1\n",
    "    b -= 1\n",
    "    try:\n",
    "        res = a / b\n",
    "    except ZeroDivisionError:\n",
    "        print('{0}, {1} - division by 0'.format(a, b))\n",
    "        res = 0\n",
    "        break\n",
    "    finally:\n",
    "        print('{0}, {1} - always executes'.format(a, b))\n",
    "        \n",
    "    print('{0}, {1} - main loop'.format(a, b))\n",
    "else:\n",
    "    print('\\n\\nno errors were encountered!')"
   ],
   "outputs": [
    {
     "output_type": "stream",
     "name": "stdout",
     "text": [
      "-------------\n",
      "1, 1 - always executes\n",
      "1, 1 - main loop\n",
      "-------------\n",
      "2, 0 - division by 0\n",
      "2, 0 - always executes\n"
     ]
    }
   ],
   "metadata": {}
  },
  {
   "cell_type": "code",
   "execution_count": null,
   "source": [],
   "outputs": [],
   "metadata": {
    "collapsed": true
   }
  }
 ],
 "metadata": {
  "kernelspec": {
   "name": "python3",
   "display_name": "Python 3.8.6 64-bit"
  },
  "language_info": {
   "codemirror_mode": {
    "name": "ipython",
    "version": 3
   },
   "file_extension": ".py",
   "mimetype": "text/x-python",
   "name": "python",
   "nbconvert_exporter": "python",
   "pygments_lexer": "ipython3",
   "version": "3.8.6"
  },
  "metadata": {
   "interpreter": {
    "hash": "0b15b737317ee57d023fd1135e68b8999dc64b0fb76512e8c43c46da68401b6e"
   }
  },
  "interpreter": {
   "hash": "fbe238fbd6722883a25f0e99a6b32a532e1e5c4d6bc62cce666becd368f75eaf"
  }
 },
 "nbformat": 4,
 "nbformat_minor": 2
}