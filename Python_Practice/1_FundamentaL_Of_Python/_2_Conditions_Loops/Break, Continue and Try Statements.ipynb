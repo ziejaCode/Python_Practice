{
 "cells": [
  {
   "cell_type": "markdown",
   "metadata": {},
   "source": [
    "### Loop Break and Continue inside a Try...Except...Finally"
   ]
  },
  {
   "cell_type": "markdown",
   "metadata": {},
   "source": [
    "Recall that in a ``try`` statement, the ``finally`` clause always runs:"
   ]
  },
  {
   "cell_type": "code",
   "execution_count": 1,
   "metadata": {},
   "outputs": [
    {
     "name": "stdout",
     "output_type": "stream",
     "text": [
      "this always executes\n"
     ]
    }
   ],
   "source": [
    "a = 10\n",
    "b = 1\n",
    "try:\n",
    "    a / b\n",
    "except ZeroDivisionError:\n",
    "    print('division by 0')\n",
    "finally:\n",
    "    print('this always executes')"
   ]
  },
  {
   "cell_type": "code",
   "execution_count": 2,
   "metadata": {},
   "outputs": [
    {
     "name": "stdout",
     "output_type": "stream",
     "text": [
      "division by 0\n",
      "this always executes\n"
     ]
    }
   ],
   "source": [
    "a = 10\n",
    "b = 0\n",
    "try:\n",
    "    a / b\n",
    "except ZeroDivisionError:\n",
    "    print('division by 0')\n",
    "finally:\n",
    "    print('this always executes')"
   ]
  },
  {
   "cell_type": "markdown",
   "metadata": {},
   "source": [
    "So, what happens when using a ``try`` statement within a ``while`` loop, and a ``continue`` or ``break`` statement is encountered?"
   ]
  },
  {
   "cell_type": "code",
   "execution_count": 3,
   "metadata": {},
   "outputs": [
    {
     "name": "stdout",
     "output_type": "stream",
     "text": [
      "-------------\n",
      "1, 1 - always executes\n",
      "1, 1 - main loop\n",
      "-------------\n",
      "2, 0 - division by 0\n",
      "2, 0 - always executes\n",
      "-------------\n",
      "3, -1 - always executes\n",
      "3, -1 - main loop\n"
     ]
    }
   ],
   "source": [
    "a = 0\n",
    "b = 2\n",
    "\n",
    "while a < 3:\n",
    "    print('-------------')\n",
    "    a += 1\n",
    "    b -= 1\n",
    "    try:\n",
    "        res = a / b\n",
    "    except ZeroDivisionError:\n",
    "        print('{0}, {1} - division by 0'.format(a, b))\n",
    "        res = 0\n",
    "        continue\n",
    "    finally:\n",
    "        print('{0}, {1} - always executes'.format(a, b))\n",
    "        \n",
    "    print('{0}, {1} - main loop'.format(a, b))"
   ]
  },
  {
   "cell_type": "markdown",
   "metadata": {},
   "source": [
    "As you can see in the above result, the ``finally`` code still executed, even though the current iteration was cut short with the ``continue`` statement. "
   ]
  },
  {
   "cell_type": "markdown",
   "metadata": {},
   "source": [
    "This works the same with a ``break`` statement:"
   ]
  },
  {
   "cell_type": "code",
   "execution_count": 4,
   "metadata": {},
   "outputs": [
    {
     "name": "stdout",
     "output_type": "stream",
     "text": [
      "-------------\n",
      "1, 1 - always executes\n",
      "1, 1 - main loop\n",
      "-------------\n",
      "2, 0 - division by 0\n",
      "2, 0 - always executes\n"
     ]
    }
   ],
   "source": [
    "a = 0\n",
    "b = 2\n",
    "\n",
    "while a < 3:\n",
    "    print('-------------')\n",
    "    a += 1\n",
    "    b -= 1\n",
    "    try:\n",
    "        res = a / b\n",
    "    except ZeroDivisionError:\n",
    "        print('{0}, {1} - division by 0'.format(a, b))\n",
    "        res = 0\n",
    "        break\n",
    "    finally:\n",
    "        print('{0}, {1} - always executes'.format(a, b))\n",
    "        \n",
    "    print('{0}, {1} - main loop'.format(a, b))"
   ]
  },
  {
   "cell_type": "markdown",
   "metadata": {},
   "source": [
    "We can even combine all this with the ``else`` clause:"
   ]
  },
  {
   "cell_type": "code",
   "execution_count": 5,
   "metadata": {},
   "outputs": [
    {
     "name": "stdout",
     "output_type": "stream",
     "text": [
      "-------------\n",
      "1, 1 - always executes\n",
      "1, 1 - main loop\n",
      "-------------\n",
      "2, 0 - division by 0\n",
      "2, 0 - always executes\n"
     ]
    }
   ],
   "source": [
    "a = 0\n",
    "b = 2\n",
    "\n",
    "while a < 3:\n",
    "    print('-------------')\n",
    "    a += 1\n",
    "    b -= 1\n",
    "    try:\n",
    "        res = a / b\n",
    "    except ZeroDivisionError:\n",
    "        print('{0}, {1} - division by 0'.format(a, b))\n",
    "        res = 0\n",
    "        break\n",
    "    finally:\n",
    "        print('{0}, {1} - always executes'.format(a, b))\n",
    "        \n",
    "    print('{0}, {1} - main loop'.format(a, b))\n",
    "else:\n",
    "    print('\\n\\nno errors were encountered!')"
   ]
  },
  {
   "cell_type": "code",
   "execution_count": 6,
   "metadata": {},
   "outputs": [
    {
     "name": "stdout",
     "output_type": "stream",
     "text": [
      "-------------\n",
      "1, 1 - always executes\n",
      "1, 1 - main loop\n",
      "-------------\n",
      "2, 0 - division by 0\n",
      "2, 0 - always executes\n"
     ]
    }
   ],
   "source": [
    "a = 0\n",
    "b = 2\n",
    "\n",
    "while a < 3:\n",
    "    print('-------------')\n",
    "    a += 1\n",
    "    b -= 1\n",
    "    try:\n",
    "        res = a / b\n",
    "    except ZeroDivisionError:\n",
    "        print('{0}, {1} - division by 0'.format(a, b))\n",
    "        res = 0\n",
    "        break\n",
    "    finally:\n",
    "        print('{0}, {1} - always executes'.format(a, b))\n",
    "        \n",
    "    print('{0}, {1} - main loop'.format(a, b))\n",
    "else:\n",
    "    print('\\n\\nno errors were encountered!')"
   ]
  },
  {
   "cell_type": "code",
   "execution_count": null,
   "metadata": {
    "collapsed": true
   },
   "outputs": [],
   "source": []
  }
 ],
 "metadata": {
  "kernelspec": {
   "display_name": "Python 3.10.7 64-bit (microsoft store)",
   "language": "python",
   "name": "python3"
  },
  "language_info": {
   "codemirror_mode": {
    "name": "ipython",
    "version": 3
   },
   "file_extension": ".py",
   "mimetype": "text/x-python",
   "name": "python",
   "nbconvert_exporter": "python",
   "pygments_lexer": "ipython3",
   "version": "3.10.7"
  },
  "metadata": {
   "interpreter": {
    "hash": "0b15b737317ee57d023fd1135e68b8999dc64b0fb76512e8c43c46da68401b6e"
   }
  },
  "vscode": {
   "interpreter": {
    "hash": "2e6f5a8c6e3ecfdf44003dcc014c527f3112a44fa64aea69fa95aaec948dceb9"
   }
  }
 },
 "nbformat": 4,
 "nbformat_minor": 2
}
