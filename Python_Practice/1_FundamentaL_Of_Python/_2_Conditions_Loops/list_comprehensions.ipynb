{
 "metadata": {
  "language_info": {
   "codemirror_mode": {
    "name": "ipython",
    "version": 3
   },
   "file_extension": ".py",
   "mimetype": "text/x-python",
   "name": "python",
   "nbconvert_exporter": "python",
   "pygments_lexer": "ipython3",
   "version": "3.7.6-final"
  },
  "orig_nbformat": 2,
  "kernelspec": {
   "name": "Python 3.7.6 64-bit ('base': conda)",
   "display_name": "Python 3.7.6 64-bit ('base': conda)",
   "metadata": {
    "interpreter": {
     "hash": "ef6158b8f70acb55f14e9e8900390c101c5e76b0b37a2fa3a79ca4e7b97b63bf"
    }
   }
  }
 },
 "nbformat": 4,
 "nbformat_minor": 2,
 "cells": [
  {
   "cell_type": "code",
   "execution_count": 1,
   "metadata": {},
   "outputs": [
    {
     "output_type": "execute_result",
     "data": {
      "text/plain": [
       "[0, 1, 4, 9, 16, 25, 36, 49, 64, 81]"
      ]
     },
     "metadata": {},
     "execution_count": 1
    }
   ],
   "source": [
    "#basic list comprehension\n",
    "\n",
    "squares = [x * x for x in range(10)]\n",
    "squares\n",
    "\n"
   ]
  },
  {
   "cell_type": "code",
   "execution_count": 2,
   "metadata": {},
   "outputs": [
    {
     "output_type": "execute_result",
     "data": {
      "text/plain": [
       "[0, 1, 4, 9, 16, 25, 36, 49, 64, 81]"
      ]
     },
     "metadata": {},
     "execution_count": 2
    }
   ],
   "source": [
    "kwadraty = []\n",
    "for x in range(10):\n",
    "    kwadraty.append(x * x)\n",
    "kwadraty"
   ]
  },
  {
   "cell_type": "code",
   "execution_count": 2,
   "metadata": {},
   "outputs": [
    {
     "output_type": "stream",
     "name": "stdout",
     "text": [
      "[0, 4, 16, 36, 64]\n"
     ]
    }
   ],
   "source": [
    "nums = [0, 1, 4, 9, 16, 25, 36, 49, 64, 81]\n",
    "my_list = []\n",
    "for n in nums:\n",
    "    if n%2 == 0:\n",
    "        my_list.append(n)\n",
    "print(my_list)"
   ]
  },
  {
   "cell_type": "code",
   "execution_count": 5,
   "metadata": {},
   "outputs": [
    {
     "output_type": "execute_result",
     "data": {
      "text/plain": [
       "[0, 4, 16, 36, 64]"
      ]
     },
     "metadata": {},
     "execution_count": 5
    }
   ],
   "source": [
    "# list comprehension version\n",
    "\n",
    "my_list = [n for n in nums if n%2 == 0]\n",
    "my_list"
   ]
  },
  {
   "cell_type": "code",
   "execution_count": 15,
   "metadata": {},
   "outputs": [
    {
     "output_type": "stream",
     "name": "stdout",
     "text": [
      "[('a', 0), ('a', 2), ('b', 0), ('b', 2), ('c', 0), ('c', 2)]\n"
     ]
    }
   ],
   "source": [
    "your_list = []\n",
    "for let in 'abc':\n",
    "    for num in range(4):\n",
    "        if num%2 == 0:\n",
    "            your_list.append((let,num))\n",
    "print(your_list)"
   ]
  },
  {
   "cell_type": "code",
   "execution_count": 16,
   "metadata": {},
   "outputs": [
    {
     "output_type": "stream",
     "name": "stdout",
     "text": [
      "[('a', 0), ('a', 2), ('b', 0), ('b', 2), ('c', 0), ('c', 2)]\n"
     ]
    }
   ],
   "source": [
    "your_list = [(let, num ) for let in 'abc' for num in range(4) if num%2 == 0]\n",
    "\n",
    "print(your_list)"
   ]
  },
  {
   "cell_type": "code",
   "execution_count": 33,
   "metadata": {},
   "outputs": [
    {
     "output_type": "stream",
     "name": "stdout",
     "text": [
      "{'Frank': 'Lobo', 'Haji': 'Sup', 'Tar': 'Bat', 'Jack': 'Cat', 'Mike': 'Flash', 'Rob': 'Star'}\n"
     ]
    }
   ],
   "source": [
    "# this exammple uses a dict \n",
    "\n",
    "names = ['Frank','Haji','Tar','Jack','Mike','Rob']\n",
    "heros = ['Lobo','Sup','Bat','Cat','Flash','Star']\n",
    "\n",
    "my_dict = {}\n",
    "for name, hero in zip(names, heros):\n",
    "    my_dict[name] = hero\n",
    "\n",
    "print(my_dict)\n"
   ]
  },
  {
   "cell_type": "code",
   "execution_count": 30,
   "metadata": {},
   "outputs": [
    {
     "output_type": "stream",
     "name": "stdout",
     "text": [
      "{'Frank': 'Lobo', 'Haji': 'Sup', 'Tar': 'Bat', 'Jack': 'Cat', 'Mike': 'Flash', 'Rob': 'Star'}\n"
     ]
    }
   ],
   "source": [
    "my_dict = { name: hero for name, hero in zip(names, heros)}\n",
    "print(my_dict)"
   ]
  },
  {
   "cell_type": "code",
   "execution_count": 35,
   "metadata": {},
   "outputs": [
    {
     "output_type": "stream",
     "name": "stdout",
     "text": [
      "{0, 1, 64, 4, 36, 8, 9, 16, 49, 81, 25}\n"
     ]
    }
   ],
   "source": [
    "# this is set comprehension\n",
    "\n",
    "nums = [0, 1, 4, 4, 8, 8,25, 9, 16, 25, 36, 49, 64, 81]\n",
    "my_set = set()\n",
    "for n in nums:\n",
    "    my_set.add(n)\n",
    "print(my_set)\n",
    "\n"
   ]
  },
  {
   "cell_type": "code",
   "execution_count": 37,
   "metadata": {},
   "outputs": [
    {
     "output_type": "stream",
     "name": "stdout",
     "text": [
      "{0, 1, 64, 4, 36, 8, 9, 16, 49, 81, 25}\n"
     ]
    }
   ],
   "source": [
    "my_set = {n for n in nums}\n",
    "print(my_set)"
   ]
  },
  {
   "cell_type": "code",
   "execution_count": 39,
   "metadata": {},
   "outputs": [
    {
     "output_type": "stream",
     "name": "stdout",
     "text": [
      "0\n1\n16\n81\n256\n625\n1296\n2401\n4096\n6561\n"
     ]
    }
   ],
   "source": [
    "# here is generator function\n",
    "\n",
    "nums = [0, 1, 4, 9, 16, 25, 36, 49, 64, 81]\n",
    "\n",
    "def gen_func(nums):\n",
    "    for n in nums:\n",
    "        yield n*n\n",
    "\n",
    "my_gen = gen_func(nums)\n",
    "\n",
    "for i in my_gen:\n",
    "    print(i)\n",
    "\n"
   ]
  },
  {
   "cell_type": "code",
   "execution_count": 44,
   "metadata": {},
   "outputs": [
    {
     "output_type": "execute_result",
     "data": {
      "text/plain": [
       "[0, 1, 16, 81, 256, 625, 1296, 2401, 4096, 6561]"
      ]
     },
     "metadata": {},
     "execution_count": 44
    }
   ],
   "source": [
    "\n",
    "\n",
    "my_gen1 = [i for i in (n*n for n in nums)]\n",
    "\n",
    "my_gen1\n"
   ]
  },
  {
   "cell_type": "code",
   "execution_count": null,
   "metadata": {},
   "outputs": [],
   "source": []
  }
 ]
}