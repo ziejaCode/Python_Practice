{
 "metadata": {
  "language_info": {
   "codemirror_mode": {
    "name": "ipython",
    "version": 3
   },
   "file_extension": ".py",
   "mimetype": "text/x-python",
   "name": "python",
   "nbconvert_exporter": "python",
   "pygments_lexer": "ipython3",
   "version": "3.8.6"
  },
  "orig_nbformat": 2,
  "kernelspec": {
   "name": "python386jvsc74a57bd0fbe238fbd6722883a25f0e99a6b32a532e1e5c4d6bc62cce666becd368f75eaf",
   "display_name": "Python 3.8.6 64-bit"
  },
  "metadata": {
   "interpreter": {
    "hash": "fbe238fbd6722883a25f0e99a6b32a532e1e5c4d6bc62cce666becd368f75eaf"
   }
  }
 },
 "nbformat": 4,
 "nbformat_minor": 2,
 "cells": [
  {
   "cell_type": "code",
   "execution_count": null,
   "metadata": {},
   "outputs": [],
   "source": [
    "#Big O Cheat Sheet:\n",
    "-Big OsO(1) Constant- no loops\n",
    "O(log N) Logarithmic- usually searching algorithms have log n if they are sorted (Binary Search)\n",
    "O(n) Linear- for loops, while loops through n items\n",
    "O(n log(n)) Log Liniear- usually sorting operations\n",
    "O(n^2) Quadratic- every element in a collection needs to be compared to ever other element. Two\n",
    "nested loops\n",
    "O(2^n) Exponential- recursive algorithms that solves a problem of size N\n",
    "O(n!) Factorial- you are adding a loop for every element\n",
    "Iterating through half a collection is still O(n)\n",
    "Two separate collections: O(a * b)\n",
    "\n",
    "-What can cause time in a function?-\n",
    "Operations (+, -, *, /)\n",
    "Comparisons (<, >, ==)\n",
    "Looping (for, while)\n",
    "Outside Function call (function())\n",
    "\n",
    "# -Rule Book -\n",
    "# Rule 1: Always worst Case\n",
    "# Rule 2: Remove Constants\n",
    "# Rule 3: Different inputs should have different variables. O(a+b). A and B # arrays nested would be\n",
    "# O(a*b)\n",
    "#    + for steps in order\n",
    "#    * for nested steps\n",
    "# Rule 4: Drop Non-dominant terms\n",
    "\n",
    "\n",
    "# -What causes Space complexity?-\n",
    "# Variables\n",
    "# Data Structures\n",
    "# Function Call\n",
    "# Allocations"
   ]
  },
  {
   "cell_type": "code",
   "execution_count": null,
   "metadata": {},
   "outputs": [],
   "source": [
    "# Calculating Big_0\n",
    "\n",
    "  let a = 5;  # 0(1)\n",
    "  let b = 10; # 0(1)\n",
    "  let c = 50; # 0(1)\n",
    "  for (let i = 0; i < input; i++) {\n",
    "    let x = i + 1; # 0(n)\n",
    "    let y = i + 2; # 0(n)\n",
    "    let z = i + 3; # 0(n)\n",
    "\n",
    "  }\n",
    "  for (let j = 0; j < input; j++) {\n",
    "    let p = j * 2; # 0(n)\n",
    "    let q = j * 2; # 0(n)\n",
    "  }\n",
    "  let whoAmI = \"I don't know\"; # 0(1)\n",
    "\n",
    "  # big 0 is 0(3 + 3n + 2n + 1) = 0(n) time"
   ]
  },
  {
   "cell_type": "code",
   "execution_count": null,
   "metadata": {},
   "outputs": [],
   "source": [
    "box = [1,2,3,4,5]\n",
    "\n",
    "for i in box:\n",
    "    for j in box:\n",
    "        print(i, '-', j)\n",
    "    print()"
   ]
  },
  {
   "cell_type": "code",
   "execution_count": null,
   "metadata": {},
   "outputs": [],
   "source": []
  }
 ]
}